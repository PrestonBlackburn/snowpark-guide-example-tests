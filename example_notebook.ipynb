{
 "cells": [
  {
   "cell_type": "markdown",
   "metadata": {},
   "source": [
    "# Section 1 - Connections\n",
    "\n",
    "- Credentials should come from env vars or a file so the notebook can be ran without hard coded connection parameters"
   ]
  },
  {
   "cell_type": "code",
   "execution_count": null,
   "metadata": {},
   "outputs": [],
   "source": [
    "from snowflake.snowpark import Session\n",
    "from snowflake.snowpark.functions import col\n",
    "import configparser\n",
    "\n",
    "connection_parameters = {\n",
    "    \"account\": \"<your snowflake account identifier>\",\n",
    "    \"user\": \"<your snowflake username>\",\n",
    "    \"password\": \"<your snowflake password>\",\n",
    "    \"role\": \"<your snowflake role>\",\n",
    "    \"warehouse\": \"<your snowflake warehouse>\",  # optional\n",
    "    \"database\": \"<your snowflake database>\",  # optional\n",
    "    \"schema\": \"<your snowflake schema>\" # optional\n",
    "  }\n",
    "\n",
    "\n",
    "# it is best practice to not use/save your credentials in a jupyter notebook\n",
    "# In this case I'm loading my credentials as a dictionary\n",
    "snowflake_credentials_file = '../snowflake_creds.config'\n",
    "config = configparser.ConfigParser()\n",
    "config.read(snowflake_credentials_file)\n",
    "connection_parameters = dict(config['default'])"
   ]
  },
  {
   "cell_type": "markdown",
   "metadata": {},
   "source": [
    "# Section 2 - Create any Necessary Snowflake Objects\n",
    "\n",
    "- To make the notebooks more idempotent create all of the snowflake objects with a \"create if not exists\" statement that are pre-requisites for the notebook\n"
   ]
  },
  {
   "cell_type": "code",
   "execution_count": null,
   "metadata": {},
   "outputs": [],
   "source": [
    "# example, for chapter 6, the database \"snowpark\" and warehouse \"compute_wh\" should be declared before creating the feature store----\n",
    "\n",
    "# instead of this\n",
    "\"\"\"\n",
    "from snowflake.ml.feature_store import (FeatureStore, FeatureView, Entity, CreationMode)\n",
    "\n",
    "fs = FeatureStore(\n",
    "    session=session,\n",
    "    database=\"SNOWPARK\",\n",
    "    name=\"TUTORIAL\",\n",
    "    default_warehouse=\"COMPUTE_WH\",\n",
    "    creation_mode=CreationMode.CREATE_IF_NOT_EXIST,\n",
    ")\n",
    "\"\"\"\n",
    "\n",
    "# do this first (plus any other tables or objects), and move the above to section 3\n",
    "session.sql(\"CREATE WAREHOUSE IF NOT EXISTS COMPUTE_WH WITH WAREHOUSE_SIZE='X-SMALL'\").collect()\n",
    "session.sql(\"CREATE DATABASE IF NOT EXISTS SNOWPARK\").collect()"
   ]
  },
  {
   "cell_type": "markdown",
   "metadata": {},
   "source": [
    "# Section 3 - Main Chapter Logic"
   ]
  },
  {
   "cell_type": "code",
   "execution_count": null,
   "metadata": {},
   "outputs": [],
   "source": [
    "# example from above\n",
    "\n",
    "from snowflake.ml.feature_store import (FeatureStore, FeatureView, Entity, CreationMode)\n",
    "\n",
    "fs = FeatureStore(\n",
    "    session=session,\n",
    "    database=\"SNOWPARK\",\n",
    "    name=\"TUTORIAL\",\n",
    "    default_warehouse=\"COMPUTE_WH\",\n",
    "    creation_mode=CreationMode.CREATE_IF_NOT_EXIST,\n",
    ")\n",
    "\n",
    "# etc......"
   ]
  },
  {
   "cell_type": "markdown",
   "metadata": {},
   "source": [
    "# Section 4 - Cleanup\n",
    "\n",
    "- Any resource created in this notebook should be dropped, so they don't conflict with other notebooks\n",
    "- This helps to ensure that the objects we are referencing are being created in each notebook"
   ]
  },
  {
   "cell_type": "code",
   "execution_count": null,
   "metadata": {},
   "outputs": [],
   "source": [
    "# do this first (plus any other tables or objects), and move the above to section 3\n",
    "session.sql(\"DROP DATABASE IF EXISTS SNOWPARK\").collect()\n",
    "# we can leave the default snowflake objects like the COMPUTE_WH alone"
   ]
  }
 ],
 "metadata": {
  "kernelspec": {
   "display_name": "Python 3",
   "language": "python",
   "name": "python3"
  },
  "language_info": {
   "codemirror_mode": {
    "name": "ipython",
    "version": 3
   },
   "file_extension": ".py",
   "mimetype": "text/x-python",
   "name": "python",
   "nbconvert_exporter": "python",
   "pygments_lexer": "ipython3",
   "version": "3.8.3"
  }
 },
 "nbformat": 4,
 "nbformat_minor": 4
}
