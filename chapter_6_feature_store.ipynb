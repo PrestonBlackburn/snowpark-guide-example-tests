{
 "cells": [
  {
   "cell_type": "markdown",
   "id": "5a5d03dc",
   "metadata": {},
   "source": [
    "### Feature Store Creation"
   ]
  },
  {
   "cell_type": "code",
   "execution_count": 3,
   "id": "7547c002",
   "metadata": {
    "id": "93508dfc-434f-4aa1-a5cf-8e7d94afc06f"
   },
   "outputs": [],
   "source": [
    "from snowflake.snowpark import Session\n",
    "from snowflake.snowpark.functions import col\n",
    "\n",
    "\n",
    "connection_parameters = {\n",
    "    \"account\": \"<your snowflake account identifier>\",\n",
    "    \"user\": \"<your snowflake username>\",\n",
    "    \"password\": \"<your snowflake password>\",\n",
    "    \"role\": \"<your snowflake role>\",\n",
    "    \"warehouse\": \"<your snowflake warehouse>\",  # optional\n",
    "    \"database\": \"<your snowflake database>\",  # optional\n",
    "    \"schema\": \"<your snowflake schema>\" # optional\n",
    "  }\n",
    "\n",
    "# it is best practice to not use/save your credentials in a jupyter notebook\n",
    "# In this case I'm loading my credentials as a dictionary\n",
    "import os\n",
    "connection_parameters = {\n",
    "    \"account\": os.getenv('SNOWFLAKE_ACCOUNT'),\n",
    "    \"user\": os.getenv('SNOWFLAKE_USER'),\n",
    "    \"password\": os.getenv('SNOWFLAKE_PASSWORD'),\n",
    "    \"role\": os.getenv('SNOWFLAKE_ROLE'),\n",
    "    \"warehouse\": os.getenv(\"SNOWFLAKE_WAREHOUSE\"),  # optional\n",
    "    \"database\": \"SNOWPARK\",  # optional\n",
    "    \"schema\": \"TUTORIAL\" # optional\n",
    "  }\n",
    "\n",
    "\n",
    "session = Session.builder.configs(connection_parameters).create()"
   ]
  },
  {
   "cell_type": "code",
   "execution_count": 4,
   "id": "5fd3c03c",
   "metadata": {
    "id": "a161dd78-1690-474a-b553-ad239f738504"
   },
   "outputs": [],
   "source": [
    "#CREATE FEATURE STORE\n",
    "\n",
    "from snowflake.ml.feature_store import (FeatureStore, FeatureView, Entity, CreationMode)\n",
    "\n",
    "fs = FeatureStore(\n",
    "    session=session,\n",
    "    database=\"SNOWPARK\",\n",
    "    name=\"TUTORIAL\",\n",
    "    default_warehouse=\"COMPUTE_WH\",\n",
    "    creation_mode=CreationMode.CREATE_IF_NOT_EXIST,\n",
    ")"
   ]
  },
  {
   "cell_type": "markdown",
   "id": "af5e0847",
   "metadata": {},
   "source": [
    "### Creating & Registering Feature Entity"
   ]
  },
  {
   "cell_type": "code",
   "execution_count": 5,
   "id": "0d141755",
   "metadata": {
    "id": "ff1bf3b4-3335-4b33-b5e6-a410a057b107",
    "outputId": "cc91779f-1ed8-4005-bd62-d7c74cc5838e"
   },
   "outputs": [
    {
     "name": "stderr",
     "output_type": "stream",
     "text": [
      "FeatureStore.register_entity() is in private preview since 1.0.8. Do not use it in production. \n",
      "FeatureStore.get_entity() is in private preview since 1.0.8. Do not use it in production. \n",
      "FeatureStore.list_entities() is in private preview since 1.0.8. Do not use it in production. \n"
     ]
    },
    {
     "name": "stdout",
     "output_type": "stream",
     "text": [
      "-------------------------------------------------\n",
      "|\"NAME\"   |\"JOIN_KEYS\"  |\"DESC\"  |\"OWNER\"       |\n",
      "-------------------------------------------------\n",
      "|WEATHER  |[\"ID\"]       |        |ACCOUNTADMIN  |\n",
      "-------------------------------------------------\n",
      "\n"
     ]
    }
   ],
   "source": [
    "entity = Entity(name=\"WEATHER\", join_keys=[\"ID\"])\n",
    "fs.register_entity(entity)\n",
    "fs.list_entities().show()"
   ]
  },
  {
   "cell_type": "code",
   "execution_count": 6,
   "id": "40519f1c",
   "metadata": {
    "id": "d146721d-bc46-4252-a06e-653f7f0492c7",
    "outputId": "668486ff-f882-4dfa-e62a-fa05936bedef"
   },
   "outputs": [
    {
     "name": "stdout",
     "output_type": "stream",
     "text": [
      "-------------------------------------------------------------------------------------------------------------------------------------------------------------------------------------------------------\n",
      "|\"DATETIME\"           |\"SEASON\"  |\"HOLIDAY\"  |\"WORKINGDAY\"  |\"WEATHER\"  |\"TEMP\"  |\"ATEMP\"  |\"HUMIDITY\"  |\"WINDSPEED\"  |\"CASUAL\"  |\"REGISTERED\"  |\"COUNT\"  |\"HOUR\"  |\"MONTH\"  |\"DATE\"      |\"WEEKDAY\"  |\n",
      "-------------------------------------------------------------------------------------------------------------------------------------------------------------------------------------------------------\n",
      "|2011-01-01 00:00:00  |1         |0          |0             |1          |9.84    |14.395   |81          |0.0000       |3         |13            |16       |0       |1        |2011-01-01  |6          |\n",
      "|2011-01-01 01:00:00  |1         |0          |0             |1          |9.02    |13.635   |80          |0.0000       |8         |32            |40       |1       |1        |2011-01-01  |6          |\n",
      "|2011-01-01 02:00:00  |1         |0          |0             |1          |9.02    |13.635   |80          |0.0000       |5         |27            |32       |2       |1        |2011-01-01  |6          |\n",
      "|2011-01-01 03:00:00  |1         |0          |0             |1          |9.84    |14.395   |75          |0.0000       |3         |10            |13       |3       |1        |2011-01-01  |6          |\n",
      "|2011-01-01 04:00:00  |1         |0          |0             |1          |9.84    |14.395   |75          |0.0000       |0         |1             |1        |4       |1        |2011-01-01  |6          |\n",
      "|2011-01-01 05:00:00  |1         |0          |0             |2          |9.84    |12.880   |75          |6.0032       |0         |1             |1        |5       |1        |2011-01-01  |6          |\n",
      "|2011-01-01 06:00:00  |1         |0          |0             |1          |9.02    |13.635   |80          |0.0000       |2         |0             |2        |6       |1        |2011-01-01  |6          |\n",
      "|2011-01-01 07:00:00  |1         |0          |0             |1          |8.20    |12.880   |86          |0.0000       |1         |2             |3        |7       |1        |2011-01-01  |6          |\n",
      "|2011-01-01 08:00:00  |1         |0          |0             |1          |9.84    |14.395   |75          |0.0000       |1         |7             |8        |8       |1        |2011-01-01  |6          |\n",
      "|2011-01-01 09:00:00  |1         |0          |0             |1          |13.12   |17.425   |76          |0.0000       |8         |6             |14       |9       |1        |2011-01-01  |6          |\n",
      "-------------------------------------------------------------------------------------------------------------------------------------------------------------------------------------------------------\n",
      "\n"
     ]
    }
   ],
   "source": [
    "df = session.table(\"model_data\")\n",
    "df.show()"
   ]
  },
  {
   "cell_type": "markdown",
   "id": "272e68e6",
   "metadata": {},
   "source": [
    "### Creating & Registering Feature Views"
   ]
  },
  {
   "cell_type": "code",
   "execution_count": 7,
   "id": "45526a92",
   "metadata": {
    "id": "d1a2fc7d-cbb4-46b6-964e-d8ab7b93fba5",
    "outputId": "02f0f026-19d4-42d7-d826-24f1a8139b6d"
   },
   "outputs": [
    {
     "name": "stdout",
     "output_type": "stream",
     "text": [
      "--------------------------------------------------------------------------------------------------------------------------------------------------------------------------------------------------------------------------\n",
      "|\"DATETIME\"           |\"SEASON\"  |\"HOLIDAY\"  |\"WORKINGDAY\"  |\"WEATHER\"  |\"TEMP\"  |\"ATEMP\"  |\"HUMIDITY\"  |\"WINDSPEED\"  |\"CASUAL\"  |\"REGISTERED\"  |\"COUNT\"  |\"HOUR\"  |\"MONTH\"  |\"DATE\"      |\"WEEKDAY\"  |\"ID\"  |\"QUARTER\"  |\n",
      "--------------------------------------------------------------------------------------------------------------------------------------------------------------------------------------------------------------------------\n",
      "|2011-01-01 00:00:00  |1         |0          |0             |1          |9.84    |14.395   |81          |0.0000       |3         |13            |16       |0       |1        |2011-01-01  |6          |0     |1          |\n",
      "|2011-01-01 01:00:00  |1         |0          |0             |1          |9.02    |13.635   |80          |0.0000       |8         |32            |40       |1       |1        |2011-01-01  |6          |1     |1          |\n",
      "|2011-01-01 02:00:00  |1         |0          |0             |1          |9.02    |13.635   |80          |0.0000       |5         |27            |32       |2       |1        |2011-01-01  |6          |2     |1          |\n",
      "|2011-01-01 03:00:00  |1         |0          |0             |1          |9.84    |14.395   |75          |0.0000       |3         |10            |13       |3       |1        |2011-01-01  |6          |3     |1          |\n",
      "|2011-01-01 04:00:00  |1         |0          |0             |1          |9.84    |14.395   |75          |0.0000       |0         |1             |1        |4       |1        |2011-01-01  |6          |4     |1          |\n",
      "|2011-01-01 05:00:00  |1         |0          |0             |2          |9.84    |12.880   |75          |6.0032       |0         |1             |1        |5       |1        |2011-01-01  |6          |5     |1          |\n",
      "|2011-01-01 06:00:00  |1         |0          |0             |1          |9.02    |13.635   |80          |0.0000       |2         |0             |2        |6       |1        |2011-01-01  |6          |6     |1          |\n",
      "|2011-01-01 07:00:00  |1         |0          |0             |1          |8.20    |12.880   |86          |0.0000       |1         |2             |3        |7       |1        |2011-01-01  |6          |7     |1          |\n",
      "|2011-01-01 08:00:00  |1         |0          |0             |1          |9.84    |14.395   |75          |0.0000       |1         |7             |8        |8       |1        |2011-01-01  |6          |8     |1          |\n",
      "|2011-01-01 09:00:00  |1         |0          |0             |1          |13.12   |17.425   |76          |0.0000       |8         |6             |14       |9       |1        |2011-01-01  |6          |9     |1          |\n",
      "--------------------------------------------------------------------------------------------------------------------------------------------------------------------------------------------------------------------------\n",
      "\n"
     ]
    }
   ],
   "source": [
    "from snowflake.snowpark.types import IntegerType\n",
    "\n",
    "# CREATING ID COLUMN\n",
    "from snowflake.snowpark.functions import monotonically_increasing_id\n",
    "df = df.withColumn(\"ID\", monotonically_increasing_id())\n",
    "\n",
    "#CREATING A NEW FEATURE\n",
    "df = df.withColumn(\"QUARTER\", ((df[\"MONTH\"] + 2) / 3).cast(IntegerType()))\n",
    "df.show()"
   ]
  },
  {
   "cell_type": "code",
   "execution_count": 8,
   "id": "c2fd4512",
   "metadata": {
    "id": "35665f25-9556-49dd-82d9-5546173148a7",
    "outputId": "9f4f4583-b02e-4542-b614-b884191544fa"
   },
   "outputs": [
    {
     "name": "stdout",
     "output_type": "stream",
     "text": [
      "-----------------------------------------------------------------------------------------\n",
      "|\"SEASON\"  |\"WEATHER\"  |\"TEMP\"  |\"ATEMP\"  |\"HUMIDITY\"  |\"WINDSPEED\"  |\"QUARTER\"  |\"ID\"  |\n",
      "-----------------------------------------------------------------------------------------\n",
      "|1         |1          |9.84    |14.395   |81          |0.0000       |1          |0     |\n",
      "|1         |1          |9.02    |13.635   |80          |0.0000       |1          |1     |\n",
      "|1         |1          |9.02    |13.635   |80          |0.0000       |1          |2     |\n",
      "|1         |1          |9.84    |14.395   |75          |0.0000       |1          |3     |\n",
      "|1         |1          |9.84    |14.395   |75          |0.0000       |1          |4     |\n",
      "|1         |2          |9.84    |12.880   |75          |6.0032       |1          |5     |\n",
      "|1         |1          |9.02    |13.635   |80          |0.0000       |1          |6     |\n",
      "|1         |1          |8.20    |12.880   |86          |0.0000       |1          |7     |\n",
      "|1         |1          |9.84    |14.395   |75          |0.0000       |1          |8     |\n",
      "|1         |1          |13.12   |17.425   |76          |0.0000       |1          |9     |\n",
      "-----------------------------------------------------------------------------------------\n",
      "\n"
     ]
    }
   ],
   "source": [
    "# SELECTING COLUMNS FOR FIRST FEATURE VIEW\n",
    "feature_df = df.select([\"SEASON\", \"WEATHER\", \"TEMP\", \"ATEMP\", \"HUMIDITY\", \"WINDSPEED\", \"QUARTER\", \"ID\"])\n",
    "\n",
    "feature_df.show()"
   ]
  },
  {
   "cell_type": "code",
   "execution_count": 9,
   "id": "7fc4edd4",
   "metadata": {
    "id": "2022ad5e-a878-4347-b97f-1569376e2805"
   },
   "outputs": [
    {
     "name": "stderr",
     "output_type": "stream",
     "text": [
      "FeatureStore.register_feature_view() is in private preview since 1.0.8. Do not use it in production. \n",
      "FeatureStore.get_feature_view() is in private preview since 1.0.8. Do not use it in production. \n"
     ]
    }
   ],
   "source": [
    "#CREATING FEATURE VIEW\n",
    "\n",
    "fv = FeatureView(\n",
    "    name=\"WEATHER_FEATURES\",\n",
    "    entities=[entity],\n",
    "    feature_df=feature_df,\n",
    "    desc=\"weather features\"\n",
    ")\n",
    "\n",
    "fv = fs.register_feature_view(\n",
    "    feature_view=fv,\n",
    "    version=\"V1\",\n",
    "    #refresh_freq=\"1 minute\",\n",
    "    block=True\n",
    ")"
   ]
  },
  {
   "cell_type": "code",
   "execution_count": 10,
   "id": "d9c33890",
   "metadata": {
    "id": "e28e32de-3f84-43a3-965c-4b246db283fb",
    "outputId": "f91b8d3e-126a-43fd-ed91-37948db1b2ca"
   },
   "outputs": [
    {
     "name": "stderr",
     "output_type": "stream",
     "text": [
      "FeatureStore.read_feature_view() is in private preview since 1.0.8. Do not use it in production. \n"
     ]
    },
    {
     "name": "stdout",
     "output_type": "stream",
     "text": [
      "-----------------------------------------------------------------------------------------\n",
      "|\"SEASON\"  |\"WEATHER\"  |\"TEMP\"  |\"ATEMP\"  |\"HUMIDITY\"  |\"WINDSPEED\"  |\"QUARTER\"  |\"ID\"  |\n",
      "-----------------------------------------------------------------------------------------\n",
      "|1         |1          |9.84    |14.395   |81          |0.0000       |1          |0     |\n",
      "|1         |1          |9.02    |13.635   |80          |0.0000       |1          |1     |\n",
      "|1         |1          |9.02    |13.635   |80          |0.0000       |1          |2     |\n",
      "|1         |1          |9.84    |14.395   |75          |0.0000       |1          |3     |\n",
      "|1         |1          |9.84    |14.395   |75          |0.0000       |1          |4     |\n",
      "|1         |2          |9.84    |12.880   |75          |6.0032       |1          |5     |\n",
      "|1         |1          |9.02    |13.635   |80          |0.0000       |1          |6     |\n",
      "|1         |1          |8.20    |12.880   |86          |0.0000       |1          |7     |\n",
      "|1         |1          |9.84    |14.395   |75          |0.0000       |1          |8     |\n",
      "|1         |1          |13.12   |17.425   |76          |0.0000       |1          |9     |\n",
      "-----------------------------------------------------------------------------------------\n",
      "\n"
     ]
    }
   ],
   "source": [
    "# EXAMINE FEATURE VIEW CONTENT\n",
    "\n",
    "fs.read_feature_view(fv).show()"
   ]
  },
  {
   "cell_type": "code",
   "execution_count": 11,
   "id": "b959a9c7",
   "metadata": {
    "id": "0d098b56-c3d6-4592-b984-0aacfb3fe253",
    "outputId": "2eac0ef3-73e1-4709-cfd4-85b6fdffa1c3"
   },
   "outputs": [],
   "source": [
    "#CREATE RENTAL FEATURES\n",
    "\n",
    "rental_df = df.select([\"HOLIDAY\", \"WORKINGDAY\", \"CASUAL\", \"REGISTERED\", \"COUNT\", \"HOUR\", \"MONTH\", \"WEEKDAY\", \"ID\"])\n",
    "\n",
    "rental_fv = FeatureView(\n",
    "    name=\"RENTAL_FEATURES\",\n",
    "    entities=[entity],\n",
    "    feature_df=rental_df,\n",
    "    desc=\"rental features\"\n",
    ")\n",
    "rental_fv = fs.register_feature_view(\n",
    "    feature_view=rental_fv,\n",
    "    version=\"V1\",\n",
    "    #refresh_freq=\"1 minute\",\n",
    "    block=True\n",
    ")"
   ]
  },
  {
   "cell_type": "code",
   "execution_count": 12,
   "id": "33bfea66",
   "metadata": {
    "id": "72296efd-5d51-4389-a720-6bc621a4a8a9",
    "outputId": "502ecd77-a17b-4534-d618-62b0e9bf9e13"
   },
   "outputs": [
    {
     "name": "stderr",
     "output_type": "stream",
     "text": [
      "FeatureStore.list_feature_views() is in private preview since 1.0.8. Do not use it in production. \n"
     ]
    },
    {
     "name": "stdout",
     "output_type": "stream",
     "text": [
      "-------------------------------------------------------------------\n",
      "|\"NAME\"            |\"ENTITIES\"              |\"FEATURE_DESC\"       |\n",
      "-------------------------------------------------------------------\n",
      "|RENTAL_FEATURES   |[                       |{                    |\n",
      "|                  |  {                     |  \"CASUAL\": \"\",      |\n",
      "|                  |    \"desc\": \"\",         |  \"COUNT\": \"\",       |\n",
      "|                  |    \"join_keys\": [      |  \"HOLIDAY\": \"\",     |\n",
      "|                  |      \"ID\"              |  \"HOUR\": \"\",        |\n",
      "|                  |    ],                  |  \"MONTH\": \"\",       |\n",
      "|                  |    \"name\": \"WEATHER\",  |  \"REGISTERED\": \"\",  |\n",
      "|                  |    \"owner\": null       |  \"WEEKDAY\": \"\",     |\n",
      "|                  |  }                     |  \"WORKINGDAY\": \"\"   |\n",
      "|                  |]                       |}                    |\n",
      "|WEATHER_FEATURES  |[                       |{                    |\n",
      "|                  |  {                     |  \"ATEMP\": \"\",       |\n",
      "|                  |    \"desc\": \"\",         |  \"HUMIDITY\": \"\",    |\n",
      "|                  |    \"join_keys\": [      |  \"QUARTER\": \"\",     |\n",
      "|                  |      \"ID\"              |  \"SEASON\": \"\",      |\n",
      "|                  |    ],                  |  \"TEMP\": \"\",        |\n",
      "|                  |    \"name\": \"WEATHER\",  |  \"WEATHER\": \"\",     |\n",
      "|                  |    \"owner\": null       |  \"WINDSPEED\": \"\"    |\n",
      "|                  |  }                     |}                    |\n",
      "|                  |]                       |                     |\n",
      "-------------------------------------------------------------------\n",
      "\n"
     ]
    }
   ],
   "source": [
    "# LIST ALL FEATURE VIEW\n",
    "fs.list_feature_views(entity_name=\"WEATHER\").select([\"NAME\", \"ENTITIES\", \"FEATURE_DESC\"]).show()"
   ]
  },
  {
   "cell_type": "code",
   "execution_count": 13,
   "id": "7707cdd8",
   "metadata": {
    "id": "ef04795a-ff3d-4ac8-bdc6-2848dc37498e",
    "outputId": "2a667214-1286-455d-c1c6-22f45b9d7729"
   },
   "outputs": [
    {
     "ename": "AttributeError",
     "evalue": "'FeatureStore' object has no attribute 'merge_features'",
     "output_type": "error",
     "traceback": [
      "\u001b[1;31m---------------------------------------------------------------------------\u001b[0m",
      "\u001b[1;31mAttributeError\u001b[0m                            Traceback (most recent call last)",
      "Cell \u001b[1;32mIn[13], line 3\u001b[0m\n\u001b[0;32m      1\u001b[0m \u001b[38;5;66;03m# COMBINING TWO FEATURES\u001b[39;00m\n\u001b[1;32m----> 3\u001b[0m full_fv \u001b[38;5;241m=\u001b[39m \u001b[43mfs\u001b[49m\u001b[38;5;241;43m.\u001b[39;49m\u001b[43mmerge_features\u001b[49m(features\u001b[38;5;241m=\u001b[39m[fv, rental_fv], name\u001b[38;5;241m=\u001b[39m\u001b[38;5;124m\"\u001b[39m\u001b[38;5;124mFULL_FEATURES\u001b[39m\u001b[38;5;124m\"\u001b[39m)\n\u001b[0;32m      4\u001b[0m full_fv \u001b[38;5;241m=\u001b[39m fs\u001b[38;5;241m.\u001b[39mregister_feature_view(feature_view\u001b[38;5;241m=\u001b[39mfull_fv, version\u001b[38;5;241m=\u001b[39m\u001b[38;5;124m\"\u001b[39m\u001b[38;5;124mV1\u001b[39m\u001b[38;5;124m\"\u001b[39m)\n",
      "\u001b[1;31mAttributeError\u001b[0m: 'FeatureStore' object has no attribute 'merge_features'"
     ]
    }
   ],
   "source": [
    "# COMBINING TWO FEATURES\n",
    "\n",
    "full_fv = fs.merge_features(features=[fv, rental_fv], name=\"FULL_FEATURES\")\n",
    "full_fv = fs.register_feature_view(feature_view=full_fv, version=\"V1\")"
   ]
  },
  {
   "cell_type": "markdown",
   "id": "9904be35",
   "metadata": {},
   "source": [
    "### Data Generation through Feature views"
   ]
  },
  {
   "cell_type": "code",
   "execution_count": 21,
   "id": "fe3ff2d6",
   "metadata": {
    "id": "7896f44e-4c4c-49b9-ab6b-805638ebfe55",
    "outputId": "c2c8afc2-9b12-4906-8d4f-ac2ad044359c"
   },
   "outputs": [
    {
     "name": "stderr",
     "output_type": "stream",
     "text": [
      "FeatureStore.generate_dataset() is in private preview since 1.0.8. Do not use it in production. \n"
     ]
    },
    {
     "name": "stdout",
     "output_type": "stream",
     "text": [
      "------------------\n",
      "|\"ID\"  |\"COUNT\"  |\n",
      "------------------\n",
      "|0     |16       |\n",
      "|1     |40       |\n",
      "|2     |32       |\n",
      "|3     |13       |\n",
      "|4     |1        |\n",
      "|5     |1        |\n",
      "|6     |2        |\n",
      "|7     |3        |\n",
      "|8     |8        |\n",
      "|9     |14       |\n",
      "------------------\n",
      "\n"
     ]
    },
    {
     "ename": "SnowparkSQLException",
     "evalue": "(1300) (1304): 01b393d9-0002-4bba-0000-005ba607a44d: 002003 (42S02): SQL compilation error:\nObject 'SNOWPARK.TUTORIAL.WEATHER_FEATURES$V1' does not exist or not authorized.",
     "output_type": "error",
     "traceback": [
      "\u001b[1;31m---------------------------------------------------------------------------\u001b[0m",
      "\u001b[1;31mSnowparkSQLException\u001b[0m                      Traceback (most recent call last)",
      "File \u001b[1;32m~\\anaconda3\\envs\\python310\\lib\\site-packages\\snowflake\\ml\\_internal\\telemetry.py:367\u001b[0m, in \u001b[0;36msend_api_usage_telemetry.<locals>.decorator.<locals>.wrap\u001b[1;34m(*args, **kwargs)\u001b[0m\n\u001b[0;32m    366\u001b[0m \u001b[38;5;28;01mtry\u001b[39;00m:\n\u001b[1;32m--> 367\u001b[0m     res \u001b[38;5;241m=\u001b[39m func(\u001b[38;5;241m*\u001b[39margs, \u001b[38;5;241m*\u001b[39m\u001b[38;5;241m*\u001b[39mkwargs)\n\u001b[0;32m    368\u001b[0m \u001b[38;5;28;01mexcept\u001b[39;00m \u001b[38;5;167;01mException\u001b[39;00m \u001b[38;5;28;01mas\u001b[39;00m e:\n",
      "File \u001b[1;32m~\\anaconda3\\envs\\python310\\lib\\site-packages\\snowflake\\snowpark\\_internal\\utils.py:661\u001b[0m, in \u001b[0;36mfunc_decorator.<locals>.wrapper.<locals>.func_call_wrapper\u001b[1;34m(*args, **kwargs)\u001b[0m\n\u001b[0;32m    660\u001b[0m warning(func\u001b[38;5;241m.\u001b[39m\u001b[38;5;18m__qualname__\u001b[39m, warning_text)\n\u001b[1;32m--> 661\u001b[0m \u001b[38;5;28;01mreturn\u001b[39;00m func(\u001b[38;5;241m*\u001b[39margs, \u001b[38;5;241m*\u001b[39m\u001b[38;5;241m*\u001b[39mkwargs)\n",
      "File \u001b[1;32m~\\anaconda3\\envs\\python310\\lib\\site-packages\\snowflake\\ml\\feature_store\\feature_store.py:97\u001b[0m, in \u001b[0;36mswitch_warehouse.<locals>.wrapper\u001b[1;34m(self, *args, **kargs)\u001b[0m\n\u001b[0;32m     96\u001b[0m         warehouse_updated \u001b[38;5;241m=\u001b[39m \u001b[38;5;28;01mTrue\u001b[39;00m\n\u001b[1;32m---> 97\u001b[0m     \u001b[38;5;28;01mreturn\u001b[39;00m f(\u001b[38;5;28mself\u001b[39m, \u001b[38;5;241m*\u001b[39margs, \u001b[38;5;241m*\u001b[39m\u001b[38;5;241m*\u001b[39mkargs)\n\u001b[0;32m     98\u001b[0m \u001b[38;5;28;01mfinally\u001b[39;00m:\n",
      "File \u001b[1;32m~\\anaconda3\\envs\\python310\\lib\\site-packages\\snowflake\\ml\\feature_store\\feature_store.py:116\u001b[0m, in \u001b[0;36mdispatch_decorator.<locals>.decorator.<locals>.wrap\u001b[1;34m(self, *args, **kargs)\u001b[0m\n\u001b[0;32m    111\u001b[0m \u001b[38;5;129m@telemetry\u001b[39m\u001b[38;5;241m.\u001b[39msend_api_usage_telemetry(project\u001b[38;5;241m=\u001b[39m_PROJECT)\n\u001b[0;32m    112\u001b[0m \u001b[38;5;129m@snowpark_utils\u001b[39m\u001b[38;5;241m.\u001b[39mprivate_preview(version\u001b[38;5;241m=\u001b[39mprpr_version)\n\u001b[0;32m    113\u001b[0m \u001b[38;5;129m@switch_warehouse\u001b[39m\n\u001b[0;32m    114\u001b[0m \u001b[38;5;129m@functools\u001b[39m\u001b[38;5;241m.\u001b[39mwraps(f)\n\u001b[0;32m    115\u001b[0m \u001b[38;5;28;01mdef\u001b[39;00m \u001b[38;5;21mwrap\u001b[39m(\u001b[38;5;28mself\u001b[39m: FeatureStore, \u001b[38;5;241m/\u001b[39m, \u001b[38;5;241m*\u001b[39margs: _Args\u001b[38;5;241m.\u001b[39margs, \u001b[38;5;241m*\u001b[39m\u001b[38;5;241m*\u001b[39mkargs: _Args\u001b[38;5;241m.\u001b[39mkwargs) \u001b[38;5;241m-\u001b[39m\u001b[38;5;241m>\u001b[39m _RT:\n\u001b[1;32m--> 116\u001b[0m     \u001b[38;5;28;01mreturn\u001b[39;00m f(\u001b[38;5;28mself\u001b[39m, \u001b[38;5;241m*\u001b[39margs, \u001b[38;5;241m*\u001b[39m\u001b[38;5;241m*\u001b[39mkargs)\n",
      "File \u001b[1;32m~\\anaconda3\\envs\\python310\\lib\\site-packages\\snowflake\\ml\\feature_store\\feature_store.py:833\u001b[0m, in \u001b[0;36mFeatureStore.generate_dataset\u001b[1;34m(self, spine_df, features, materialized_table, spine_timestamp_col, spine_label_cols, exclude_columns, save_mode, include_feature_view_timestamp_col, desc)\u001b[0m\n\u001b[0;32m    828\u001b[0m     \u001b[38;5;28;01mraise\u001b[39;00m snowml_exceptions\u001b[38;5;241m.\u001b[39mSnowflakeMLException(\n\u001b[0;32m    829\u001b[0m         error_code\u001b[38;5;241m=\u001b[39merror_codes\u001b[38;5;241m.\u001b[39mOBJECT_ALREADY_EXISTS,\n\u001b[0;32m    830\u001b[0m         original_exception\u001b[38;5;241m=\u001b[39m\u001b[38;5;167;01mValueError\u001b[39;00m(\u001b[38;5;124mf\u001b[39m\u001b[38;5;124m\"\u001b[39m\u001b[38;5;124mDataset table \u001b[39m\u001b[38;5;132;01m{\u001b[39;00mmaterialized_table\u001b[38;5;132;01m}\u001b[39;00m\u001b[38;5;124m already exists.\u001b[39m\u001b[38;5;124m\"\u001b[39m),\n\u001b[0;32m    831\u001b[0m     )\n\u001b[1;32m--> 833\u001b[0m \u001b[38;5;28;43mself\u001b[39;49m\u001b[38;5;241;43m.\u001b[39;49m\u001b[43m_dump_dataset\u001b[49m\u001b[43m(\u001b[49m\u001b[43mresult_df\u001b[49m\u001b[43m,\u001b[49m\u001b[43m \u001b[49m\u001b[43mmaterialized_table\u001b[49m\u001b[43m,\u001b[49m\u001b[43m \u001b[49m\u001b[43mjoin_keys\u001b[49m\u001b[43m,\u001b[49m\u001b[43m \u001b[49m\u001b[43mspine_timestamp_col\u001b[49m\u001b[43m)\u001b[49m\n\u001b[0;32m    835\u001b[0m snapshot_table \u001b[38;5;241m=\u001b[39m \u001b[38;5;124mf\u001b[39m\u001b[38;5;124m\"\u001b[39m\u001b[38;5;132;01m{\u001b[39;00mmaterialized_table\u001b[38;5;132;01m}\u001b[39;00m\u001b[38;5;124m_\u001b[39m\u001b[38;5;132;01m{\u001b[39;00mdatetime\u001b[38;5;241m.\u001b[39mdatetime\u001b[38;5;241m.\u001b[39mnow()\u001b[38;5;241m.\u001b[39mstrftime(\u001b[38;5;124m'\u001b[39m\u001b[38;5;124m%\u001b[39m\u001b[38;5;124mY_\u001b[39m\u001b[38;5;124m%\u001b[39m\u001b[38;5;124mm_\u001b[39m\u001b[38;5;132;01m%d\u001b[39;00m\u001b[38;5;124m_\u001b[39m\u001b[38;5;124m%\u001b[39m\u001b[38;5;124mH_\u001b[39m\u001b[38;5;124m%\u001b[39m\u001b[38;5;124mM_\u001b[39m\u001b[38;5;124m%\u001b[39m\u001b[38;5;124mS\u001b[39m\u001b[38;5;124m'\u001b[39m)\u001b[38;5;132;01m}\u001b[39;00m\u001b[38;5;124m\"\u001b[39m\n",
      "File \u001b[1;32m~\\anaconda3\\envs\\python310\\lib\\site-packages\\snowflake\\ml\\feature_store\\feature_store.py:1031\u001b[0m, in \u001b[0;36mFeatureStore._dump_dataset\u001b[1;34m(self, df, table_name, join_keys, spine_timestamp_col)\u001b[0m\n\u001b[0;32m   1027\u001b[0m     \u001b[38;5;28;01mraise\u001b[39;00m snowml_exceptions\u001b[38;5;241m.\u001b[39mSnowflakeMLException(\n\u001b[0;32m   1028\u001b[0m         error_code\u001b[38;5;241m=\u001b[39merror_codes\u001b[38;5;241m.\u001b[39mINVALID_ARGUMENT,\n\u001b[0;32m   1029\u001b[0m         original_exception\u001b[38;5;241m=\u001b[39m\u001b[38;5;167;01mValueError\u001b[39;00m(\u001b[38;5;124mf\u001b[39m\u001b[38;5;124m\"\u001b[39m\u001b[38;5;124mDataset df must contain only one query. Got: \u001b[39m\u001b[38;5;132;01m{\u001b[39;00mdf\u001b[38;5;241m.\u001b[39mqueries[\u001b[38;5;124m'\u001b[39m\u001b[38;5;124mqueries\u001b[39m\u001b[38;5;124m'\u001b[39m]\u001b[38;5;132;01m}\u001b[39;00m\u001b[38;5;124m\"\u001b[39m),\n\u001b[0;32m   1030\u001b[0m     )\n\u001b[1;32m-> 1031\u001b[0m schema \u001b[38;5;241m=\u001b[39m \u001b[38;5;124m\"\u001b[39m\u001b[38;5;124m, \u001b[39m\u001b[38;5;124m\"\u001b[39m\u001b[38;5;241m.\u001b[39mjoin([\u001b[38;5;124mf\u001b[39m\u001b[38;5;124m\"\u001b[39m\u001b[38;5;132;01m{\u001b[39;00mc\u001b[38;5;241m.\u001b[39mname\u001b[38;5;132;01m}\u001b[39;00m\u001b[38;5;124m \u001b[39m\u001b[38;5;132;01m{\u001b[39;00mtype_utils\u001b[38;5;241m.\u001b[39mconvert_sp_to_sf_type(c\u001b[38;5;241m.\u001b[39mdatatype)\u001b[38;5;132;01m}\u001b[39;00m\u001b[38;5;124m\"\u001b[39m \u001b[38;5;28;01mfor\u001b[39;00m c \u001b[38;5;129;01min\u001b[39;00m \u001b[43mdf\u001b[49m\u001b[38;5;241;43m.\u001b[39;49m\u001b[43mschema\u001b[49m\u001b[38;5;241m.\u001b[39mfields])\n\u001b[0;32m   1032\u001b[0m fully_qualified_name \u001b[38;5;241m=\u001b[39m \u001b[38;5;28mself\u001b[39m\u001b[38;5;241m.\u001b[39m_get_fully_qualified_name(table_name)\n",
      "File \u001b[1;32m~\\anaconda3\\envs\\python310\\lib\\functools.py:981\u001b[0m, in \u001b[0;36mcached_property.__get__\u001b[1;34m(self, instance, owner)\u001b[0m\n\u001b[0;32m    980\u001b[0m \u001b[38;5;28;01mif\u001b[39;00m val \u001b[38;5;129;01mis\u001b[39;00m _NOT_FOUND:\n\u001b[1;32m--> 981\u001b[0m     val \u001b[38;5;241m=\u001b[39m \u001b[38;5;28;43mself\u001b[39;49m\u001b[38;5;241;43m.\u001b[39;49m\u001b[43mfunc\u001b[49m\u001b[43m(\u001b[49m\u001b[43minstance\u001b[49m\u001b[43m)\u001b[49m\n\u001b[0;32m    982\u001b[0m     \u001b[38;5;28;01mtry\u001b[39;00m:\n",
      "File \u001b[1;32m~\\anaconda3\\envs\\python310\\lib\\site-packages\\snowflake\\snowpark\\dataframe.py:3965\u001b[0m, in \u001b[0;36mDataFrame.schema\u001b[1;34m(self)\u001b[0m\n\u001b[0;32m   3962\u001b[0m \u001b[38;5;250m\u001b[39m\u001b[38;5;124;03m\"\"\"The definition of the columns in this DataFrame (the \"relational schema\" for\u001b[39;00m\n\u001b[0;32m   3963\u001b[0m \u001b[38;5;124;03mthe DataFrame).\u001b[39;00m\n\u001b[0;32m   3964\u001b[0m \u001b[38;5;124;03m\"\"\"\u001b[39;00m\n\u001b[1;32m-> 3965\u001b[0m \u001b[38;5;28;01mreturn\u001b[39;00m StructType\u001b[38;5;241m.\u001b[39m_from_attributes(\u001b[38;5;28;43mself\u001b[39;49m\u001b[38;5;241;43m.\u001b[39;49m\u001b[43m_plan\u001b[49m\u001b[38;5;241;43m.\u001b[39;49m\u001b[43mattributes\u001b[49m)\n",
      "File \u001b[1;32m~\\anaconda3\\envs\\python310\\lib\\functools.py:981\u001b[0m, in \u001b[0;36mcached_property.__get__\u001b[1;34m(self, instance, owner)\u001b[0m\n\u001b[0;32m    980\u001b[0m \u001b[38;5;28;01mif\u001b[39;00m val \u001b[38;5;129;01mis\u001b[39;00m _NOT_FOUND:\n\u001b[1;32m--> 981\u001b[0m     val \u001b[38;5;241m=\u001b[39m \u001b[38;5;28;43mself\u001b[39;49m\u001b[38;5;241;43m.\u001b[39;49m\u001b[43mfunc\u001b[49m\u001b[43m(\u001b[49m\u001b[43minstance\u001b[49m\u001b[43m)\u001b[49m\n\u001b[0;32m    982\u001b[0m     \u001b[38;5;28;01mtry\u001b[39;00m:\n",
      "File \u001b[1;32m~\\anaconda3\\envs\\python310\\lib\\site-packages\\snowflake\\snowpark\\_internal\\analyzer\\snowflake_plan.py:315\u001b[0m, in \u001b[0;36mSnowflakePlan.attributes\u001b[1;34m(self)\u001b[0m\n\u001b[0;32m    313\u001b[0m \u001b[38;5;129m@cached_property\u001b[39m\n\u001b[0;32m    314\u001b[0m \u001b[38;5;28;01mdef\u001b[39;00m \u001b[38;5;21mattributes\u001b[39m(\u001b[38;5;28mself\u001b[39m) \u001b[38;5;241m-\u001b[39m\u001b[38;5;241m>\u001b[39m List[Attribute]:\n\u001b[1;32m--> 315\u001b[0m     output \u001b[38;5;241m=\u001b[39m \u001b[43manalyze_attributes\u001b[49m\u001b[43m(\u001b[49m\u001b[38;5;28;43mself\u001b[39;49m\u001b[38;5;241;43m.\u001b[39;49m\u001b[43mschema_query\u001b[49m\u001b[43m,\u001b[49m\u001b[43m \u001b[49m\u001b[38;5;28;43mself\u001b[39;49m\u001b[38;5;241;43m.\u001b[39;49m\u001b[43msession\u001b[49m\u001b[43m)\u001b[49m\n\u001b[0;32m    316\u001b[0m     \u001b[38;5;66;03m# No simplifier case relies on this schema_query change to update SHOW TABLES to a nested sql friendly query.\u001b[39;00m\n",
      "File \u001b[1;32m~\\anaconda3\\envs\\python310\\lib\\site-packages\\snowflake\\snowpark\\_internal\\analyzer\\schema_utils.py:91\u001b[0m, in \u001b[0;36manalyze_attributes\u001b[1;34m(sql, session)\u001b[0m\n\u001b[0;32m     89\u001b[0m     \u001b[38;5;28;01mreturn\u001b[39;00m convert_result_meta_to_attribute(session\u001b[38;5;241m.\u001b[39m_conn\u001b[38;5;241m.\u001b[39m_cursor\u001b[38;5;241m.\u001b[39mdescription)\n\u001b[1;32m---> 91\u001b[0m \u001b[38;5;28;01mreturn\u001b[39;00m \u001b[43msession\u001b[49m\u001b[38;5;241;43m.\u001b[39;49m\u001b[43m_get_result_attributes\u001b[49m\u001b[43m(\u001b[49m\u001b[43msql\u001b[49m\u001b[43m)\u001b[49m\n",
      "File \u001b[1;32m~\\anaconda3\\envs\\python310\\lib\\site-packages\\snowflake\\snowpark\\session.py:2030\u001b[0m, in \u001b[0;36mSession._get_result_attributes\u001b[1;34m(self, query)\u001b[0m\n\u001b[0;32m   2029\u001b[0m \u001b[38;5;28;01mdef\u001b[39;00m \u001b[38;5;21m_get_result_attributes\u001b[39m(\u001b[38;5;28mself\u001b[39m, query: \u001b[38;5;28mstr\u001b[39m) \u001b[38;5;241m-\u001b[39m\u001b[38;5;241m>\u001b[39m List[Attribute]:\n\u001b[1;32m-> 2030\u001b[0m     \u001b[38;5;28;01mreturn\u001b[39;00m \u001b[38;5;28;43mself\u001b[39;49m\u001b[38;5;241;43m.\u001b[39;49m\u001b[43m_conn\u001b[49m\u001b[38;5;241;43m.\u001b[39;49m\u001b[43mget_result_attributes\u001b[49m\u001b[43m(\u001b[49m\u001b[43mquery\u001b[49m\u001b[43m)\u001b[49m\n",
      "File \u001b[1;32m~\\anaconda3\\envs\\python310\\lib\\site-packages\\snowflake\\snowpark\\_internal\\analyzer\\snowflake_plan.py:190\u001b[0m, in \u001b[0;36mSnowflakePlan.Decorator.wrap_exception.<locals>.wrap\u001b[1;34m(*args, **kwargs)\u001b[0m\n\u001b[0;32m    187\u001b[0m ne \u001b[38;5;241m=\u001b[39m SnowparkClientExceptionMessages\u001b[38;5;241m.\u001b[39mSQL_EXCEPTION_FROM_PROGRAMMING_ERROR(\n\u001b[0;32m    188\u001b[0m     e\n\u001b[0;32m    189\u001b[0m )\n\u001b[1;32m--> 190\u001b[0m \u001b[38;5;28;01mraise\u001b[39;00m ne\u001b[38;5;241m.\u001b[39mwith_traceback(tb) \u001b[38;5;28;01mfrom\u001b[39;00m \u001b[38;5;28;01mNone\u001b[39;00m\n",
      "File \u001b[1;32m~\\anaconda3\\envs\\python310\\lib\\site-packages\\snowflake\\snowpark\\_internal\\analyzer\\snowflake_plan.py:121\u001b[0m, in \u001b[0;36mSnowflakePlan.Decorator.wrap_exception.<locals>.wrap\u001b[1;34m(*args, **kwargs)\u001b[0m\n\u001b[0;32m    120\u001b[0m \u001b[38;5;28;01mtry\u001b[39;00m:\n\u001b[1;32m--> 121\u001b[0m     \u001b[38;5;28;01mreturn\u001b[39;00m func(\u001b[38;5;241m*\u001b[39margs, \u001b[38;5;241m*\u001b[39m\u001b[38;5;241m*\u001b[39mkwargs)\n\u001b[0;32m    122\u001b[0m \u001b[38;5;28;01mexcept\u001b[39;00m snowflake\u001b[38;5;241m.\u001b[39mconnector\u001b[38;5;241m.\u001b[39merrors\u001b[38;5;241m.\u001b[39mProgrammingError \u001b[38;5;28;01mas\u001b[39;00m e:\n",
      "File \u001b[1;32m~\\anaconda3\\envs\\python310\\lib\\site-packages\\snowflake\\snowpark\\_internal\\server_connection.py:233\u001b[0m, in \u001b[0;36mServerConnection.get_result_attributes\u001b[1;34m(self, query)\u001b[0m\n\u001b[0;32m    231\u001b[0m \u001b[38;5;129m@SnowflakePlan\u001b[39m\u001b[38;5;241m.\u001b[39mDecorator\u001b[38;5;241m.\u001b[39mwrap_exception\n\u001b[0;32m    232\u001b[0m \u001b[38;5;28;01mdef\u001b[39;00m \u001b[38;5;21mget_result_attributes\u001b[39m(\u001b[38;5;28mself\u001b[39m, query: \u001b[38;5;28mstr\u001b[39m) \u001b[38;5;241m-\u001b[39m\u001b[38;5;241m>\u001b[39m List[Attribute]:\n\u001b[1;32m--> 233\u001b[0m     \u001b[38;5;28;01mreturn\u001b[39;00m convert_result_meta_to_attribute(\u001b[43mrun_new_describe\u001b[49m\u001b[43m(\u001b[49m\u001b[38;5;28;43mself\u001b[39;49m\u001b[38;5;241;43m.\u001b[39;49m\u001b[43m_cursor\u001b[49m\u001b[43m,\u001b[49m\u001b[43m \u001b[49m\u001b[43mquery\u001b[49m\u001b[43m)\u001b[49m)\n",
      "File \u001b[1;32m~\\anaconda3\\envs\\python310\\lib\\site-packages\\snowflake\\snowpark\\_internal\\analyzer\\schema_utils.py:144\u001b[0m, in \u001b[0;36mrun_new_describe\u001b[1;34m(cursor, query)\u001b[0m\n\u001b[0;32m    142\u001b[0m \u001b[38;5;28;01mif\u001b[39;00m \u001b[38;5;28mhasattr\u001b[39m(cursor, \u001b[38;5;124m\"\u001b[39m\u001b[38;5;124m_describe_internal\u001b[39m\u001b[38;5;124m\"\u001b[39m):\n\u001b[0;32m    143\u001b[0m     \u001b[38;5;66;03m# Pyright does not perform narrowing here\u001b[39;00m\n\u001b[1;32m--> 144\u001b[0m     \u001b[38;5;28;01mreturn\u001b[39;00m \u001b[43mcursor\u001b[49m\u001b[38;5;241;43m.\u001b[39;49m\u001b[43m_describe_internal\u001b[49m\u001b[43m(\u001b[49m\u001b[43mquery\u001b[49m\u001b[43m)\u001b[49m  \u001b[38;5;66;03m# pyright: ignore\u001b[39;00m\n\u001b[0;32m    145\u001b[0m \u001b[38;5;28;01melse\u001b[39;00m:\n",
      "File \u001b[1;32m~\\anaconda3\\envs\\python310\\lib\\site-packages\\snowflake\\connector\\cursor.py:1120\u001b[0m, in \u001b[0;36mSnowflakeCursor._describe_internal\u001b[1;34m(self, *args, **kwargs)\u001b[0m\n\u001b[0;32m   1119\u001b[0m kwargs[\u001b[38;5;124m\"\u001b[39m\u001b[38;5;124m_describe_only\u001b[39m\u001b[38;5;124m\"\u001b[39m] \u001b[38;5;241m=\u001b[39m kwargs[\u001b[38;5;124m\"\u001b[39m\u001b[38;5;124m_is_internal\u001b[39m\u001b[38;5;124m\"\u001b[39m] \u001b[38;5;241m=\u001b[39m \u001b[38;5;28;01mTrue\u001b[39;00m\n\u001b[1;32m-> 1120\u001b[0m \u001b[38;5;28mself\u001b[39m\u001b[38;5;241m.\u001b[39mexecute(\u001b[38;5;241m*\u001b[39margs, \u001b[38;5;241m*\u001b[39m\u001b[38;5;241m*\u001b[39mkwargs)\n\u001b[0;32m   1121\u001b[0m \u001b[38;5;28;01mreturn\u001b[39;00m \u001b[38;5;28mself\u001b[39m\u001b[38;5;241m.\u001b[39m_description\n",
      "File \u001b[1;32m~\\anaconda3\\envs\\python310\\lib\\site-packages\\snowflake\\connector\\cursor.py:1080\u001b[0m, in \u001b[0;36mSnowflakeCursor.execute\u001b[1;34m(self, command, params, _bind_stage, timeout, _exec_async, _no_retry, _do_reset, _put_callback, _put_azure_callback, _put_callback_output_stream, _get_callback, _get_azure_callback, _get_callback_output_stream, _show_progress_bar, _statement_params, _is_internal, _describe_only, _no_results, _is_put_get, _raise_put_get_error, _force_put_overwrite, _skip_upload_on_content_match, file_stream, num_statements)\u001b[0m\n\u001b[0;32m   1079\u001b[0m     error_class \u001b[38;5;241m=\u001b[39m IntegrityError \u001b[38;5;28;01mif\u001b[39;00m is_integrity_error \u001b[38;5;28;01melse\u001b[39;00m ProgrammingError\n\u001b[1;32m-> 1080\u001b[0m     \u001b[43mError\u001b[49m\u001b[38;5;241;43m.\u001b[39;49m\u001b[43merrorhandler_wrapper\u001b[49m\u001b[43m(\u001b[49m\u001b[38;5;28;43mself\u001b[39;49m\u001b[38;5;241;43m.\u001b[39;49m\u001b[43mconnection\u001b[49m\u001b[43m,\u001b[49m\u001b[43m \u001b[49m\u001b[38;5;28;43mself\u001b[39;49m\u001b[43m,\u001b[49m\u001b[43m \u001b[49m\u001b[43merror_class\u001b[49m\u001b[43m,\u001b[49m\u001b[43m \u001b[49m\u001b[43merrvalue\u001b[49m\u001b[43m)\u001b[49m\n\u001b[0;32m   1081\u001b[0m \u001b[38;5;28;01mreturn\u001b[39;00m \u001b[38;5;28mself\u001b[39m\n",
      "File \u001b[1;32m~\\anaconda3\\envs\\python310\\lib\\site-packages\\snowflake\\connector\\errors.py:290\u001b[0m, in \u001b[0;36mError.errorhandler_wrapper\u001b[1;34m(connection, cursor, error_class, error_value)\u001b[0m\n\u001b[0;32m    274\u001b[0m \u001b[38;5;250m\u001b[39m\u001b[38;5;124;03m\"\"\"Error handler wrapper that calls the errorhandler method.\u001b[39;00m\n\u001b[0;32m    275\u001b[0m \n\u001b[0;32m    276\u001b[0m \u001b[38;5;124;03mArgs:\u001b[39;00m\n\u001b[1;32m   (...)\u001b[0m\n\u001b[0;32m    287\u001b[0m \u001b[38;5;124;03m    exception to the first handler in that order.\u001b[39;00m\n\u001b[0;32m    288\u001b[0m \u001b[38;5;124;03m\"\"\"\u001b[39;00m\n\u001b[1;32m--> 290\u001b[0m handed_over \u001b[38;5;241m=\u001b[39m \u001b[43mError\u001b[49m\u001b[38;5;241;43m.\u001b[39;49m\u001b[43mhand_to_other_handler\u001b[49m\u001b[43m(\u001b[49m\n\u001b[0;32m    291\u001b[0m \u001b[43m    \u001b[49m\u001b[43mconnection\u001b[49m\u001b[43m,\u001b[49m\n\u001b[0;32m    292\u001b[0m \u001b[43m    \u001b[49m\u001b[43mcursor\u001b[49m\u001b[43m,\u001b[49m\n\u001b[0;32m    293\u001b[0m \u001b[43m    \u001b[49m\u001b[43merror_class\u001b[49m\u001b[43m,\u001b[49m\n\u001b[0;32m    294\u001b[0m \u001b[43m    \u001b[49m\u001b[43merror_value\u001b[49m\u001b[43m,\u001b[49m\n\u001b[0;32m    295\u001b[0m \u001b[43m\u001b[49m\u001b[43m)\u001b[49m\n\u001b[0;32m    296\u001b[0m \u001b[38;5;28;01mif\u001b[39;00m \u001b[38;5;129;01mnot\u001b[39;00m handed_over:\n",
      "File \u001b[1;32m~\\anaconda3\\envs\\python310\\lib\\site-packages\\snowflake\\connector\\errors.py:345\u001b[0m, in \u001b[0;36mError.hand_to_other_handler\u001b[1;34m(connection, cursor, error_class, error_value)\u001b[0m\n\u001b[0;32m    344\u001b[0m cursor\u001b[38;5;241m.\u001b[39mmessages\u001b[38;5;241m.\u001b[39mappend((error_class, error_value))\n\u001b[1;32m--> 345\u001b[0m \u001b[43mcursor\u001b[49m\u001b[38;5;241;43m.\u001b[39;49m\u001b[43merrorhandler\u001b[49m\u001b[43m(\u001b[49m\u001b[43mconnection\u001b[49m\u001b[43m,\u001b[49m\u001b[43m \u001b[49m\u001b[43mcursor\u001b[49m\u001b[43m,\u001b[49m\u001b[43m \u001b[49m\u001b[43merror_class\u001b[49m\u001b[43m,\u001b[49m\u001b[43m \u001b[49m\u001b[43merror_value\u001b[49m\u001b[43m)\u001b[49m\n\u001b[0;32m    346\u001b[0m \u001b[38;5;28;01mreturn\u001b[39;00m \u001b[38;5;28;01mTrue\u001b[39;00m\n",
      "File \u001b[1;32m~\\anaconda3\\envs\\python310\\lib\\site-packages\\snowflake\\connector\\errors.py:221\u001b[0m, in \u001b[0;36mError.default_errorhandler\u001b[1;34m(connection, cursor, error_class, error_value)\u001b[0m\n\u001b[0;32m    220\u001b[0m done_format_msg \u001b[38;5;241m=\u001b[39m error_value\u001b[38;5;241m.\u001b[39mget(\u001b[38;5;124m\"\u001b[39m\u001b[38;5;124mdone_format_msg\u001b[39m\u001b[38;5;124m\"\u001b[39m)\n\u001b[1;32m--> 221\u001b[0m \u001b[38;5;28;01mraise\u001b[39;00m error_class(\n\u001b[0;32m    222\u001b[0m     msg\u001b[38;5;241m=\u001b[39merror_value\u001b[38;5;241m.\u001b[39mget(\u001b[38;5;124m\"\u001b[39m\u001b[38;5;124mmsg\u001b[39m\u001b[38;5;124m\"\u001b[39m),\n\u001b[0;32m    223\u001b[0m     errno\u001b[38;5;241m=\u001b[39m\u001b[38;5;28;01mNone\u001b[39;00m \u001b[38;5;28;01mif\u001b[39;00m errno \u001b[38;5;129;01mis\u001b[39;00m \u001b[38;5;28;01mNone\u001b[39;00m \u001b[38;5;28;01melse\u001b[39;00m \u001b[38;5;28mint\u001b[39m(errno),\n\u001b[0;32m    224\u001b[0m     sqlstate\u001b[38;5;241m=\u001b[39merror_value\u001b[38;5;241m.\u001b[39mget(\u001b[38;5;124m\"\u001b[39m\u001b[38;5;124msqlstate\u001b[39m\u001b[38;5;124m\"\u001b[39m),\n\u001b[0;32m    225\u001b[0m     sfqid\u001b[38;5;241m=\u001b[39merror_value\u001b[38;5;241m.\u001b[39mget(\u001b[38;5;124m\"\u001b[39m\u001b[38;5;124msfqid\u001b[39m\u001b[38;5;124m\"\u001b[39m),\n\u001b[0;32m    226\u001b[0m     query\u001b[38;5;241m=\u001b[39merror_value\u001b[38;5;241m.\u001b[39mget(\u001b[38;5;124m\"\u001b[39m\u001b[38;5;124mquery\u001b[39m\u001b[38;5;124m\"\u001b[39m),\n\u001b[0;32m    227\u001b[0m     done_format_msg\u001b[38;5;241m=\u001b[39m(\n\u001b[0;32m    228\u001b[0m         \u001b[38;5;28;01mNone\u001b[39;00m \u001b[38;5;28;01mif\u001b[39;00m done_format_msg \u001b[38;5;129;01mis\u001b[39;00m \u001b[38;5;28;01mNone\u001b[39;00m \u001b[38;5;28;01melse\u001b[39;00m \u001b[38;5;28mbool\u001b[39m(done_format_msg)\n\u001b[0;32m    229\u001b[0m     ),\n\u001b[0;32m    230\u001b[0m     connection\u001b[38;5;241m=\u001b[39mconnection,\n\u001b[0;32m    231\u001b[0m     cursor\u001b[38;5;241m=\u001b[39mcursor,\n\u001b[0;32m    232\u001b[0m )\n",
      "\u001b[1;31mSnowparkSQLException\u001b[0m: (1304): 01b393d9-0002-4bba-0000-005ba607a44d: 002003 (42S02): SQL compilation error:\nObject 'SNOWPARK.TUTORIAL.WEATHER_FEATURES$V1' does not exist or not authorized.",
      "\nThe above exception was the direct cause of the following exception:\n",
      "\u001b[1;31mSnowparkSQLException\u001b[0m                      Traceback (most recent call last)",
      "Cell \u001b[1;32mIn[21], line 8\u001b[0m\n\u001b[0;32m      4\u001b[0m spine_df \u001b[38;5;241m=\u001b[39m spine_df\u001b[38;5;241m.\u001b[39mselect(\u001b[38;5;124m\"\u001b[39m\u001b[38;5;124mID\u001b[39m\u001b[38;5;124m\"\u001b[39m, \u001b[38;5;124m\"\u001b[39m\u001b[38;5;124mCOUNT\u001b[39m\u001b[38;5;124m\"\u001b[39m)\n\u001b[0;32m      5\u001b[0m spine_df\u001b[38;5;241m.\u001b[39mshow()\n\u001b[1;32m----> 8\u001b[0m training_data \u001b[38;5;241m=\u001b[39m \u001b[43mfs\u001b[49m\u001b[38;5;241;43m.\u001b[39;49m\u001b[43mgenerate_dataset\u001b[49m\u001b[43m(\u001b[49m\n\u001b[0;32m      9\u001b[0m \u001b[43m    \u001b[49m\u001b[43mspine_df\u001b[49m\u001b[38;5;241;43m=\u001b[39;49m\u001b[43mspine_df\u001b[49m\u001b[43m,\u001b[49m\n\u001b[0;32m     10\u001b[0m \u001b[43m    \u001b[49m\u001b[43mfeatures\u001b[49m\u001b[38;5;241;43m=\u001b[39;49m\u001b[43m[\u001b[49m\n\u001b[0;32m     11\u001b[0m \u001b[43m        \u001b[49m\u001b[43mfv\u001b[49m\u001b[38;5;241;43m.\u001b[39;49m\u001b[43mslice\u001b[49m\u001b[43m(\u001b[49m\u001b[43m[\u001b[49m\n\u001b[0;32m     12\u001b[0m \u001b[43m            \u001b[49m\u001b[38;5;124;43m\"\u001b[39;49m\u001b[38;5;124;43mHUMIDITY\u001b[39;49m\u001b[38;5;124;43m\"\u001b[39;49m\u001b[43m,\u001b[49m\u001b[38;5;124;43m\"\u001b[39;49m\u001b[38;5;124;43mQUARTER\u001b[39;49m\u001b[38;5;124;43m\"\u001b[39;49m\u001b[43m,\u001b[49m\u001b[38;5;124;43m\"\u001b[39;49m\u001b[38;5;124;43mSEASON\u001b[39;49m\u001b[38;5;124;43m\"\u001b[39;49m\u001b[43m,\u001b[49m\u001b[38;5;124;43m\"\u001b[39;49m\u001b[38;5;124;43mTEMP\u001b[39;49m\u001b[38;5;124;43m\"\u001b[39;49m\u001b[43m,\u001b[49m\u001b[38;5;124;43m\"\u001b[39;49m\u001b[38;5;124;43mWEATHER\u001b[39;49m\u001b[38;5;124;43m\"\u001b[39;49m\u001b[43m,\u001b[49m\u001b[38;5;124;43m\"\u001b[39;49m\u001b[38;5;124;43mWINDSPEED\u001b[39;49m\u001b[38;5;124;43m\"\u001b[39;49m\n\u001b[0;32m     13\u001b[0m \u001b[43m        \u001b[49m\u001b[43m]\u001b[49m\u001b[43m)\u001b[49m\n\u001b[0;32m     14\u001b[0m \u001b[43m    \u001b[49m\u001b[43m]\u001b[49m\u001b[43m,\u001b[49m\n\u001b[0;32m     15\u001b[0m \u001b[43m    \u001b[49m\u001b[43mmaterialized_table\u001b[49m\u001b[38;5;241;43m=\u001b[39;49m\u001b[38;5;124;43m\"\u001b[39;49m\u001b[38;5;124;43mTRAINING_DATA\u001b[39;49m\u001b[38;5;124;43m\"\u001b[39;49m\u001b[43m,\u001b[49m\n\u001b[0;32m     16\u001b[0m \u001b[43m    \u001b[49m\u001b[43mspine_timestamp_col\u001b[49m\u001b[38;5;241;43m=\u001b[39;49m\u001b[38;5;28;43;01mNone\u001b[39;49;00m\u001b[43m,\u001b[49m\n\u001b[0;32m     17\u001b[0m \u001b[43m    \u001b[49m\u001b[43mspine_label_cols\u001b[49m\u001b[38;5;241;43m=\u001b[39;49m\u001b[43m[\u001b[49m\u001b[38;5;124;43m\"\u001b[39;49m\u001b[38;5;124;43mCOUNT\u001b[39;49m\u001b[38;5;124;43m\"\u001b[39;49m\u001b[43m]\u001b[49m\u001b[43m,\u001b[49m\n\u001b[0;32m     18\u001b[0m \u001b[43m    \u001b[49m\u001b[43msave_mode\u001b[49m\u001b[38;5;241;43m=\u001b[39;49m\u001b[38;5;124;43m\"\u001b[39;49m\u001b[38;5;124;43mmerge\u001b[39;49m\u001b[38;5;124;43m\"\u001b[39;49m\u001b[43m,\u001b[49m\n\u001b[0;32m     19\u001b[0m \u001b[43m    \u001b[49m\u001b[43mexclude_columns\u001b[49m\u001b[38;5;241;43m=\u001b[39;49m\u001b[43m[\u001b[49m\u001b[38;5;124;43m'\u001b[39;49m\u001b[38;5;124;43mID\u001b[39;49m\u001b[38;5;124;43m'\u001b[39;49m\u001b[43m]\u001b[49m\n\u001b[0;32m     20\u001b[0m \u001b[43m)\u001b[49m\n\u001b[0;32m     22\u001b[0m training_data\u001b[38;5;241m.\u001b[39mdf\u001b[38;5;241m.\u001b[39mshow()\n",
      "File \u001b[1;32m~\\anaconda3\\envs\\python310\\lib\\site-packages\\snowflake\\ml\\_internal\\telemetry.py:389\u001b[0m, in \u001b[0;36msend_api_usage_telemetry.<locals>.decorator.<locals>.wrap\u001b[1;34m(*args, **kwargs)\u001b[0m\n\u001b[0;32m    387\u001b[0m         \u001b[38;5;28;01mraise\u001b[39;00m me\u001b[38;5;241m.\u001b[39moriginal_exception \u001b[38;5;28;01mfrom\u001b[39;00m \u001b[38;5;28;01mNone\u001b[39;00m\n\u001b[0;32m    388\u001b[0m     \u001b[38;5;28;01melse\u001b[39;00m:\n\u001b[1;32m--> 389\u001b[0m         \u001b[38;5;28;01mraise\u001b[39;00m me\u001b[38;5;241m.\u001b[39moriginal_exception \u001b[38;5;28;01mfrom\u001b[39;00m \u001b[38;5;21;01me\u001b[39;00m\n\u001b[0;32m    390\u001b[0m \u001b[38;5;28;01melse\u001b[39;00m:\n\u001b[0;32m    391\u001b[0m     \u001b[38;5;28;01mreturn\u001b[39;00m update_stmt_params_if_snowpark_df(res, statement_params)\n",
      "\u001b[1;31mSnowparkSQLException\u001b[0m: (1300) (1304): 01b393d9-0002-4bba-0000-005ba607a44d: 002003 (42S02): SQL compilation error:\nObject 'SNOWPARK.TUTORIAL.WEATHER_FEATURES$V1' does not exist or not authorized."
     ]
    }
   ],
   "source": [
    "#GENERATING TRAINING DATA\n",
    "spine_df = session.table(\"MODEL_DATA\")\n",
    "spine_df = spine_df.withColumn(\"ID\", monotonically_increasing_id())\n",
    "spine_df = spine_df.select(\"ID\", \"COUNT\")\n",
    "spine_df.show()\n",
    "\n",
    "\n",
    "training_data = fs.generate_dataset(\n",
    "    spine_df=spine_df,\n",
    "    features=[\n",
    "        fv.slice([\n",
    "            \"HUMIDITY\",\"QUARTER\",\"SEASON\",\"TEMP\",\"WEATHER\",\"WINDSPEED\"\n",
    "        ])\n",
    "    ],\n",
    "    materialized_table=\"TRAINING_DATA\",\n",
    "    spine_timestamp_col=None,\n",
    "    spine_label_cols=[\"COUNT\"],\n",
    "    save_mode=\"merge\",\n",
    "    exclude_columns=['ID']\n",
    ")\n",
    "\n",
    "training_data.df.show()"
   ]
  },
  {
   "cell_type": "markdown",
   "id": "cb9a60e6",
   "metadata": {},
   "source": [
    "### Model Training & Prediction Using Enriched Data"
   ]
  },
  {
   "cell_type": "code",
   "execution_count": 22,
   "id": "4d3e853e",
   "metadata": {
    "id": "e1b92f19-5484-4e00-8dd9-f9da6d967961"
   },
   "outputs": [
    {
     "ename": "NameError",
     "evalue": "name 'training_data' is not defined",
     "output_type": "error",
     "traceback": [
      "\u001b[1;31m---------------------------------------------------------------------------\u001b[0m",
      "\u001b[1;31mNameError\u001b[0m                                 Traceback (most recent call last)",
      "Cell \u001b[1;32mIn[22], line 25\u001b[0m\n\u001b[0;32m     10\u001b[0m param_grid \u001b[38;5;241m=\u001b[39m {\n\u001b[0;32m     11\u001b[0m         \u001b[38;5;124m\"\u001b[39m\u001b[38;5;124mn_estimators\u001b[39m\u001b[38;5;124m\"\u001b[39m:[\u001b[38;5;241m100\u001b[39m, \u001b[38;5;241m200\u001b[39m, \u001b[38;5;241m300\u001b[39m, \u001b[38;5;241m400\u001b[39m, \u001b[38;5;241m500\u001b[39m],\n\u001b[0;32m     12\u001b[0m         \u001b[38;5;124m\"\u001b[39m\u001b[38;5;124mlearning_rate\u001b[39m\u001b[38;5;124m\"\u001b[39m:[\u001b[38;5;241m0.1\u001b[39m, \u001b[38;5;241m0.2\u001b[39m, \u001b[38;5;241m0.3\u001b[39m, \u001b[38;5;241m0.4\u001b[39m, \u001b[38;5;241m0.5\u001b[39m],\n\u001b[0;32m     13\u001b[0m }\n\u001b[0;32m     15\u001b[0m grid_search \u001b[38;5;241m=\u001b[39m GridSearchCV(\n\u001b[0;32m     16\u001b[0m     estimator\u001b[38;5;241m=\u001b[39mGradientBoostingRegressor(),\n\u001b[0;32m     17\u001b[0m     param_grid\u001b[38;5;241m=\u001b[39mparam_grid,\n\u001b[1;32m   (...)\u001b[0m\n\u001b[0;32m     22\u001b[0m     output_cols\u001b[38;5;241m=\u001b[39mOUTPUT_COLUMNS\n\u001b[0;32m     23\u001b[0m )\n\u001b[1;32m---> 25\u001b[0m train_df \u001b[38;5;241m=\u001b[39m \u001b[43mtraining_data\u001b[49m\u001b[38;5;241m.\u001b[39mdf\u001b[38;5;241m.\u001b[39mdrop([\u001b[38;5;124m\"\u001b[39m\u001b[38;5;124mID\u001b[39m\u001b[38;5;124m\"\u001b[39m])\n",
      "\u001b[1;31mNameError\u001b[0m: name 'training_data' is not defined"
     ]
    }
   ],
   "source": [
    "# TRAIN A MODEL\n",
    "\n",
    "from snowflake.ml.modeling.model_selection import GridSearchCV\n",
    "from snowflake.ml.modeling.ensemble import GradientBoostingRegressor\n",
    "\n",
    "FEATURE_LIST = [ \"HOLIDAY\", \"WORKINGDAY\", \"WEEKDAY\", \"HOUR\", \"HUMIDITY\", \"MONTH\", \"TEMP\", \"YEAR\", \"ATEMP\", \"WINDSPEED\", \"SEASON\", \"WEATHER\"]\n",
    "LABEL_COLUMNS = ['COUNT']\n",
    "OUTPUT_COLUMNS = ['PREDICTED_COUNT']\n",
    "\n",
    "param_grid = {\n",
    "        \"n_estimators\":[100, 200, 300, 400, 500],\n",
    "        \"learning_rate\":[0.1, 0.2, 0.3, 0.4, 0.5],\n",
    "}\n",
    "\n",
    "grid_search = GridSearchCV(\n",
    "    estimator=GradientBoostingRegressor(),\n",
    "    param_grid=param_grid,\n",
    "    n_jobs = -1,\n",
    "    scoring=\"neg_root_mean_squared_error\",\n",
    "    input_cols=FEATURE_LIST,\n",
    "    label_cols=LABEL_COLUMNS,\n",
    "    output_cols=OUTPUT_COLUMNS\n",
    ")\n",
    "\n",
    "train_df = training_data.df.drop([\"ID\"])"
   ]
  },
  {
   "cell_type": "code",
   "execution_count": null,
   "id": "d545dc63",
   "metadata": {
    "id": "aade9266-c78d-4496-9ef9-d671d238b10f",
    "outputId": "3460e171-5f73-4ad9-912a-ba1a2d0399e6"
   },
   "outputs": [],
   "source": [
    "grid_search.fit(train_df)"
   ]
  },
  {
   "cell_type": "code",
   "execution_count": null,
   "id": "d277d113",
   "metadata": {
    "id": "35bca04d-f8c8-4792-b46d-19fb1263dc36",
    "outputId": "687dfd22-b2e0-4280-fba4-d1b0ff282dfe"
   },
   "outputs": [],
   "source": [
    "#PREDICT FROM FEATURE STORE GENERATED DATA\n",
    "test_df = spine_df.limit(3).select(\"ID\")\n",
    "enriched_df = fs.retrieve_feature_values(\n",
    "    test_df, training_data.load_features())\n",
    "enriched_df = enriched_df.drop('ID')\n",
    "enriched_df.show()"
   ]
  },
  {
   "cell_type": "code",
   "execution_count": null,
   "id": "dfae91d6",
   "metadata": {
    "id": "b6257917-03e1-4fe7-8651-5c4f32d5d809",
    "outputId": "7aa31b4f-557a-4eae-9227-477648c22983"
   },
   "outputs": [],
   "source": [
    "pred = grid_search.predict(enriched_df)\n",
    "pred.show()"
   ]
  },
  {
   "cell_type": "markdown",
   "id": "68ef8ae2",
   "metadata": {},
   "source": [
    "### Feature Store - Support Functions"
   ]
  },
  {
   "cell_type": "code",
   "execution_count": null,
   "id": "bb553bb5",
   "metadata": {
    "id": "65594f8b-f7e7-4494-9d17-9d6e157e9a5e",
    "outputId": "45b16afc-711c-4168-94da-380a946b7d06"
   },
   "outputs": [],
   "source": [
    "# FEATURE VIEW  FROM LIBRARY\n",
    "\n",
    "#SLICE - GET SUBSET OF FEATURES FROM A VIEW\n",
    "sliced_fv = full_fv.slice([\"TEMP\"])\n",
    "sliced_fv"
   ]
  },
  {
   "cell_type": "code",
   "execution_count": null,
   "id": "b3da35ac",
   "metadata": {
    "id": "23531711-ffd7-434c-ba49-7ab2aabe3d40",
    "outputId": "795e449b-208c-4a07-81d1-6bb98aece296"
   },
   "outputs": [],
   "source": [
    "#FEATURE VIEW PHYSICAL NAME\n",
    "print(full_fv.physical_name())\n",
    "\n",
    "#FEATURE VIEW QUALIFIED NAME\n",
    "print(full_fv.fully_qualified_name())"
   ]
  },
  {
   "cell_type": "code",
   "execution_count": null,
   "id": "0807ad17",
   "metadata": {
    "id": "4814d786-f248-42f9-b159-1bcda0100b21"
   },
   "outputs": [],
   "source": [
    "#SET DESCRIPTION TO FEATURE\n",
    "\n",
    "full_fv = full_fv.attach_feature_desc({\"TEMP\": \"Current Temperature\"})"
   ]
  },
  {
   "cell_type": "code",
   "execution_count": null,
   "id": "42f9acf3",
   "metadata": {
    "id": "865eb310-6100-4a4b-a968-137d6611d1e6",
    "outputId": "f67d8893-f1d6-495c-ff47-e41d402bc0a1"
   },
   "outputs": [],
   "source": [
    "# FEATURE STORE FROM LIBRARY\n",
    "\n",
    "#GET FEATURE VIEW\n",
    "fs.get_feature_view(\"FULL_FEATURES\", \"V1\").to_df(session).show()"
   ]
  },
  {
   "cell_type": "code",
   "execution_count": null,
   "id": "21d1158e",
   "metadata": {
    "id": "a3af69d0-c9af-47e9-9b00-7da748ad129b",
    "outputId": "a21d450e-e21b-410a-8e87-94ca84e6e9ac"
   },
   "outputs": [],
   "source": [
    "#SUSPEND A FEATURE VIEW\n",
    "fs.suspend_feature_view(full_fv)\n",
    "\n",
    "#RESUME A FEATURE VIEW\n",
    "fs.resume_feature_view(full_fv)\n",
    "\n",
    "fs.get_feature_view(\"FULL_FEATURES\", \"V1\").to_df(session)[\"NAME\", \"STATUS\"].show()"
   ]
  },
  {
   "cell_type": "code",
   "execution_count": null,
   "id": "fd6caf38",
   "metadata": {
    "id": "25f6d738-6fda-47e0-8af6-d60293cf07fb",
    "outputId": "3e30af28-e196-47bb-9481-bb496111658d"
   },
   "outputs": [],
   "source": [
    "# DELETE A FEATURE VIEW\n",
    "\n",
    "fs.list_feature_views(entity_name=\"WEATHER\").select([\"NAME\"]).show()\n",
    "fs.delete_feature_view(fv)"
   ]
  },
  {
   "cell_type": "code",
   "execution_count": null,
   "id": "e930aefb",
   "metadata": {
    "id": "4411efcc-83f6-405a-a894-36cc6738115c",
    "outputId": "3aef6b2f-1b6a-4785-bd8d-65e9133df594"
   },
   "outputs": [],
   "source": [
    "#LIST ENTITIES\n",
    "\n",
    "entity = Entity(name=\"TEST\", join_keys=[\"ID\"])\n",
    "fs.register_entity(entity)\n",
    "fs.list_entities().show()"
   ]
  },
  {
   "cell_type": "code",
   "execution_count": null,
   "id": "6fb73f02",
   "metadata": {
    "id": "a1fe7f06-516b-49ed-9dc4-3913f8533cb9",
    "outputId": "2e6d852d-dbe0-4374-c907-988aeb48be3d"
   },
   "outputs": [],
   "source": [
    "# GET ENTITY\n",
    "fs.get_entity(\"TEST\")"
   ]
  },
  {
   "cell_type": "code",
   "execution_count": null,
   "id": "e56a754c",
   "metadata": {
    "id": "b612c9b4-6761-4ca5-bab3-b25851b3d459",
    "outputId": "e813d050-1e76-4eb8-a126-8f9b38e97ca5"
   },
   "outputs": [],
   "source": [
    "#DELETE ENTITY\n",
    "fs.delete_entity(\"TEST\")\n",
    "fs.list_entities().show()"
   ]
  },
  {
   "cell_type": "code",
   "execution_count": null,
   "id": "150df0b9",
   "metadata": {
    "id": "e4289226-1ae7-4555-870b-4d0133d573a1",
    "outputId": "13edd92b-8f4d-45d2-8028-3ec68a942f22"
   },
   "outputs": [],
   "source": [
    "#load data into feature view from dataset\n",
    "fs.load_feature_views_from_dataset(training_data)"
   ]
  },
  {
   "cell_type": "code",
   "execution_count": 14,
   "id": "4c774a92",
   "metadata": {
    "id": "242d0d3a-c2ec-458e-aa06-3e88ceb14b13",
    "tags": []
   },
   "outputs": [
    {
     "name": "stderr",
     "output_type": "stream",
     "text": [
      "FeatureStore.clear() is in private preview since 1.0.8. Do not use it in production. \n"
     ]
    }
   ],
   "source": [
    "#CLEAR ALL THE ITEMS IN THE FEATURE STORE\n",
    "fs.clear()"
   ]
  },
  {
   "cell_type": "code",
   "execution_count": null,
   "id": "905dcb6f-eb9a-41e7-ba3f-255840d42d03",
   "metadata": {},
   "outputs": [],
   "source": []
  }
 ],
 "metadata": {
  "colab": {
   "provenance": []
  },
  "kernelspec": {
   "display_name": "Python 3 (ipykernel)",
   "language": "python",
   "name": "python3"
  },
  "language_info": {
   "codemirror_mode": {
    "name": "ipython",
    "version": 3
   },
   "file_extension": ".py",
   "mimetype": "text/x-python",
   "name": "python",
   "nbconvert_exporter": "python",
   "pygments_lexer": "ipython3",
   "version": "3.10.11"
  }
 },
 "nbformat": 4,
 "nbformat_minor": 5
}
