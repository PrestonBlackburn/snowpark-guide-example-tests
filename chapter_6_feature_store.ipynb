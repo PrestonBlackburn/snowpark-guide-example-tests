{
 "cells": [
  {
   "cell_type": "markdown",
   "id": "5a5d03dc",
   "metadata": {},
   "source": [
    "### Feature Store Creation"
   ]
  },
  {
   "cell_type": "code",
   "execution_count": 3,
   "id": "7547c002",
   "metadata": {
    "id": "93508dfc-434f-4aa1-a5cf-8e7d94afc06f"
   },
   "outputs": [],
   "source": [
    "from snowflake.snowpark import Session\n",
    "from snowflake.snowpark.functions import col\n",
    "\n",
    "\n",
    "connection_parameters = {\n",
    "    \"account\": \"<your snowflake account identifier>\",\n",
    "    \"user\": \"<your snowflake username>\",\n",
    "    \"password\": \"<your snowflake password>\",\n",
    "    \"role\": \"<your snowflake role>\",\n",
    "    \"warehouse\": \"<your snowflake warehouse>\",  # optional\n",
    "    \"database\": \"<your snowflake database>\",  # optional\n",
    "    \"schema\": \"<your snowflake schema>\" # optional\n",
    "  }\n",
    "\n",
    "# it is best practice to not use/save your credentials in a jupyter notebook\n",
    "# In this case I'm loading my credentials as a dictionary\n",
    "import os\n",
    "connection_parameters = {\n",
    "    \"account\": os.getenv('SNOWFLAKE_ACCOUNT'),\n",
    "    \"user\": os.getenv('SNOWFLAKE_USER'),\n",
    "    \"password\": os.getenv('SNOWFLAKE_PASSWORD'),\n",
    "    \"role\": os.getenv('SNOWFLAKE_ROLE'),\n",
    "    \"warehouse\": os.getenv(\"SNOWFLAKE_WAREHOUSE\"),  # optional\n",
    "    \"database\": \"SNOWPARK\",  # optional\n",
    "    \"schema\": \"TUTORIAL\" # optional\n",
    "  }\n",
    "\n",
    "\n",
    "session = Session.builder.configs(connection_parameters).create()"
   ]
  },
  {
   "cell_type": "code",
   "execution_count": 4,
   "id": "5fd3c03c",
   "metadata": {
    "id": "a161dd78-1690-474a-b553-ad239f738504"
   },
   "outputs": [],
   "source": [
    "#CREATE FEATURE STORE\n",
    "\n",
    "from snowflake.ml.feature_store import (FeatureStore, FeatureView, Entity, CreationMode)\n",
    "\n",
    "fs = FeatureStore(\n",
    "    session=session,\n",
    "    database=\"SNOWPARK\",\n",
    "    name=\"TUTORIAL\",\n",
    "    default_warehouse=\"COMPUTE_WH\",\n",
    "    creation_mode=CreationMode.CREATE_IF_NOT_EXIST,\n",
    ")"
   ]
  },
  {
   "cell_type": "markdown",
   "id": "af5e0847",
   "metadata": {},
   "source": [
    "### Creating & Registering Feature Entity"
   ]
  },
  {
   "cell_type": "code",
   "execution_count": 5,
   "id": "0d141755",
   "metadata": {
    "id": "ff1bf3b4-3335-4b33-b5e6-a410a057b107",
    "outputId": "cc91779f-1ed8-4005-bd62-d7c74cc5838e"
   },
   "outputs": [
    {
     "name": "stderr",
     "output_type": "stream",
     "text": [
      "FeatureStore.register_entity() is in private preview since 1.0.8. Do not use it in production. \n",
      "FeatureStore.get_entity() is in private preview since 1.0.8. Do not use it in production. \n",
      "FeatureStore.list_entities() is in private preview since 1.0.8. Do not use it in production. \n"
     ]
    },
    {
     "name": "stdout",
     "output_type": "stream",
     "text": [
      "-------------------------------------------------\n",
      "|\"NAME\"   |\"JOIN_KEYS\"  |\"DESC\"  |\"OWNER\"       |\n",
      "-------------------------------------------------\n",
      "|WEATHER  |[\"ID\"]       |        |ACCOUNTADMIN  |\n",
      "-------------------------------------------------\n",
      "\n"
     ]
    }
   ],
   "source": [
    "entity = Entity(name=\"WEATHER\", join_keys=[\"ID\"])\n",
    "fs.register_entity(entity)\n",
    "fs.list_entities().show()"
   ]
  },
  {
   "cell_type": "code",
   "execution_count": 6,
   "id": "40519f1c",
   "metadata": {
    "id": "d146721d-bc46-4252-a06e-653f7f0492c7",
    "outputId": "668486ff-f882-4dfa-e62a-fa05936bedef"
   },
   "outputs": [
    {
     "name": "stdout",
     "output_type": "stream",
     "text": [
      "-------------------------------------------------------------------------------------------------------------------------------------------------------------------------------------------------------\n",
      "|\"DATETIME\"           |\"SEASON\"  |\"HOLIDAY\"  |\"WORKINGDAY\"  |\"WEATHER\"  |\"TEMP\"  |\"ATEMP\"  |\"HUMIDITY\"  |\"WINDSPEED\"  |\"CASUAL\"  |\"REGISTERED\"  |\"COUNT\"  |\"HOUR\"  |\"MONTH\"  |\"DATE\"      |\"WEEKDAY\"  |\n",
      "-------------------------------------------------------------------------------------------------------------------------------------------------------------------------------------------------------\n",
      "|2011-01-01 00:00:00  |1         |0          |0             |1          |9.84    |14.395   |81          |0.0000       |3         |13            |16       |0       |1        |2011-01-01  |6          |\n",
      "|2011-01-01 01:00:00  |1         |0          |0             |1          |9.02    |13.635   |80          |0.0000       |8         |32            |40       |1       |1        |2011-01-01  |6          |\n",
      "|2011-01-01 02:00:00  |1         |0          |0             |1          |9.02    |13.635   |80          |0.0000       |5         |27            |32       |2       |1        |2011-01-01  |6          |\n",
      "|2011-01-01 03:00:00  |1         |0          |0             |1          |9.84    |14.395   |75          |0.0000       |3         |10            |13       |3       |1        |2011-01-01  |6          |\n",
      "|2011-01-01 04:00:00  |1         |0          |0             |1          |9.84    |14.395   |75          |0.0000       |0         |1             |1        |4       |1        |2011-01-01  |6          |\n",
      "|2011-01-01 05:00:00  |1         |0          |0             |2          |9.84    |12.880   |75          |6.0032       |0         |1             |1        |5       |1        |2011-01-01  |6          |\n",
      "|2011-01-01 06:00:00  |1         |0          |0             |1          |9.02    |13.635   |80          |0.0000       |2         |0             |2        |6       |1        |2011-01-01  |6          |\n",
      "|2011-01-01 07:00:00  |1         |0          |0             |1          |8.20    |12.880   |86          |0.0000       |1         |2             |3        |7       |1        |2011-01-01  |6          |\n",
      "|2011-01-01 08:00:00  |1         |0          |0             |1          |9.84    |14.395   |75          |0.0000       |1         |7             |8        |8       |1        |2011-01-01  |6          |\n",
      "|2011-01-01 09:00:00  |1         |0          |0             |1          |13.12   |17.425   |76          |0.0000       |8         |6             |14       |9       |1        |2011-01-01  |6          |\n",
      "-------------------------------------------------------------------------------------------------------------------------------------------------------------------------------------------------------\n",
      "\n"
     ]
    }
   ],
   "source": [
    "df = session.table(\"model_data\")\n",
    "df.show()"
   ]
  },
  {
   "cell_type": "markdown",
   "id": "272e68e6",
   "metadata": {},
   "source": [
    "### Creating & Registering Feature Views"
   ]
  },
  {
   "cell_type": "code",
   "execution_count": 7,
   "id": "45526a92",
   "metadata": {
    "id": "d1a2fc7d-cbb4-46b6-964e-d8ab7b93fba5",
    "outputId": "02f0f026-19d4-42d7-d826-24f1a8139b6d"
   },
   "outputs": [
    {
     "name": "stdout",
     "output_type": "stream",
     "text": [
      "--------------------------------------------------------------------------------------------------------------------------------------------------------------------------------------------------------------------------\n",
      "|\"DATETIME\"           |\"SEASON\"  |\"HOLIDAY\"  |\"WORKINGDAY\"  |\"WEATHER\"  |\"TEMP\"  |\"ATEMP\"  |\"HUMIDITY\"  |\"WINDSPEED\"  |\"CASUAL\"  |\"REGISTERED\"  |\"COUNT\"  |\"HOUR\"  |\"MONTH\"  |\"DATE\"      |\"WEEKDAY\"  |\"ID\"  |\"QUARTER\"  |\n",
      "--------------------------------------------------------------------------------------------------------------------------------------------------------------------------------------------------------------------------\n",
      "|2011-01-01 00:00:00  |1         |0          |0             |1          |9.84    |14.395   |81          |0.0000       |3         |13            |16       |0       |1        |2011-01-01  |6          |0     |1          |\n",
      "|2011-01-01 01:00:00  |1         |0          |0             |1          |9.02    |13.635   |80          |0.0000       |8         |32            |40       |1       |1        |2011-01-01  |6          |1     |1          |\n",
      "|2011-01-01 02:00:00  |1         |0          |0             |1          |9.02    |13.635   |80          |0.0000       |5         |27            |32       |2       |1        |2011-01-01  |6          |2     |1          |\n",
      "|2011-01-01 03:00:00  |1         |0          |0             |1          |9.84    |14.395   |75          |0.0000       |3         |10            |13       |3       |1        |2011-01-01  |6          |3     |1          |\n",
      "|2011-01-01 04:00:00  |1         |0          |0             |1          |9.84    |14.395   |75          |0.0000       |0         |1             |1        |4       |1        |2011-01-01  |6          |4     |1          |\n",
      "|2011-01-01 05:00:00  |1         |0          |0             |2          |9.84    |12.880   |75          |6.0032       |0         |1             |1        |5       |1        |2011-01-01  |6          |5     |1          |\n",
      "|2011-01-01 06:00:00  |1         |0          |0             |1          |9.02    |13.635   |80          |0.0000       |2         |0             |2        |6       |1        |2011-01-01  |6          |6     |1          |\n",
      "|2011-01-01 07:00:00  |1         |0          |0             |1          |8.20    |12.880   |86          |0.0000       |1         |2             |3        |7       |1        |2011-01-01  |6          |7     |1          |\n",
      "|2011-01-01 08:00:00  |1         |0          |0             |1          |9.84    |14.395   |75          |0.0000       |1         |7             |8        |8       |1        |2011-01-01  |6          |8     |1          |\n",
      "|2011-01-01 09:00:00  |1         |0          |0             |1          |13.12   |17.425   |76          |0.0000       |8         |6             |14       |9       |1        |2011-01-01  |6          |9     |1          |\n",
      "--------------------------------------------------------------------------------------------------------------------------------------------------------------------------------------------------------------------------\n",
      "\n"
     ]
    }
   ],
   "source": [
    "from snowflake.snowpark.types import IntegerType\n",
    "\n",
    "# CREATING ID COLUMN\n",
    "from snowflake.snowpark.functions import monotonically_increasing_id\n",
    "df = df.withColumn(\"ID\", monotonically_increasing_id())\n",
    "\n",
    "#CREATING A NEW FEATURE\n",
    "df = df.withColumn(\"QUARTER\", ((df[\"MONTH\"] + 2) / 3).cast(IntegerType()))\n",
    "df.show()"
   ]
  },
  {
   "cell_type": "code",
   "execution_count": 8,
   "id": "c2fd4512",
   "metadata": {
    "id": "35665f25-9556-49dd-82d9-5546173148a7",
    "outputId": "9f4f4583-b02e-4542-b614-b884191544fa"
   },
   "outputs": [
    {
     "name": "stdout",
     "output_type": "stream",
     "text": [
      "-----------------------------------------------------------------------------------------\n",
      "|\"SEASON\"  |\"WEATHER\"  |\"TEMP\"  |\"ATEMP\"  |\"HUMIDITY\"  |\"WINDSPEED\"  |\"QUARTER\"  |\"ID\"  |\n",
      "-----------------------------------------------------------------------------------------\n",
      "|1         |1          |9.84    |14.395   |81          |0.0000       |1          |0     |\n",
      "|1         |1          |9.02    |13.635   |80          |0.0000       |1          |1     |\n",
      "|1         |1          |9.02    |13.635   |80          |0.0000       |1          |2     |\n",
      "|1         |1          |9.84    |14.395   |75          |0.0000       |1          |3     |\n",
      "|1         |1          |9.84    |14.395   |75          |0.0000       |1          |4     |\n",
      "|1         |2          |9.84    |12.880   |75          |6.0032       |1          |5     |\n",
      "|1         |1          |9.02    |13.635   |80          |0.0000       |1          |6     |\n",
      "|1         |1          |8.20    |12.880   |86          |0.0000       |1          |7     |\n",
      "|1         |1          |9.84    |14.395   |75          |0.0000       |1          |8     |\n",
      "|1         |1          |13.12   |17.425   |76          |0.0000       |1          |9     |\n",
      "-----------------------------------------------------------------------------------------\n",
      "\n"
     ]
    }
   ],
   "source": [
    "# SELECTING COLUMNS FOR FIRST FEATURE VIEW\n",
    "feature_df = df.select([\"SEASON\", \"WEATHER\", \"TEMP\", \"ATEMP\", \"HUMIDITY\", \"WINDSPEED\", \"QUARTER\", \"ID\"])\n",
    "\n",
    "feature_df.show()"
   ]
  },
  {
   "cell_type": "code",
   "execution_count": 9,
   "id": "7fc4edd4",
   "metadata": {
    "id": "2022ad5e-a878-4347-b97f-1569376e2805"
   },
   "outputs": [
    {
     "name": "stderr",
     "output_type": "stream",
     "text": [
      "FeatureStore.register_feature_view() is in private preview since 1.0.8. Do not use it in production. \n",
      "FeatureStore.get_feature_view() is in private preview since 1.0.8. Do not use it in production. \n"
     ]
    }
   ],
   "source": [
    "#CREATING FEATURE VIEW\n",
    "\n",
    "fv = FeatureView(\n",
    "    name=\"WEATHER_FEATURES\",\n",
    "    entities=[entity],\n",
    "    feature_df=feature_df,\n",
    "    desc=\"weather features\"\n",
    ")\n",
    "\n",
    "fv = fs.register_feature_view(\n",
    "    feature_view=fv,\n",
    "    version=\"V1\",\n",
    "    #refresh_freq=\"1 minute\",\n",
    "    block=True\n",
    ")"
   ]
  },
  {
   "cell_type": "code",
   "execution_count": 10,
   "id": "d9c33890",
   "metadata": {
    "id": "e28e32de-3f84-43a3-965c-4b246db283fb",
    "outputId": "f91b8d3e-126a-43fd-ed91-37948db1b2ca"
   },
   "outputs": [
    {
     "name": "stderr",
     "output_type": "stream",
     "text": [
      "FeatureStore.read_feature_view() is in private preview since 1.0.8. Do not use it in production. \n"
     ]
    },
    {
     "name": "stdout",
     "output_type": "stream",
     "text": [
      "-----------------------------------------------------------------------------------------\n",
      "|\"SEASON\"  |\"WEATHER\"  |\"TEMP\"  |\"ATEMP\"  |\"HUMIDITY\"  |\"WINDSPEED\"  |\"QUARTER\"  |\"ID\"  |\n",
      "-----------------------------------------------------------------------------------------\n",
      "|1         |1          |9.84    |14.395   |81          |0.0000       |1          |0     |\n",
      "|1         |1          |9.02    |13.635   |80          |0.0000       |1          |1     |\n",
      "|1         |1          |9.02    |13.635   |80          |0.0000       |1          |2     |\n",
      "|1         |1          |9.84    |14.395   |75          |0.0000       |1          |3     |\n",
      "|1         |1          |9.84    |14.395   |75          |0.0000       |1          |4     |\n",
      "|1         |2          |9.84    |12.880   |75          |6.0032       |1          |5     |\n",
      "|1         |1          |9.02    |13.635   |80          |0.0000       |1          |6     |\n",
      "|1         |1          |8.20    |12.880   |86          |0.0000       |1          |7     |\n",
      "|1         |1          |9.84    |14.395   |75          |0.0000       |1          |8     |\n",
      "|1         |1          |13.12   |17.425   |76          |0.0000       |1          |9     |\n",
      "-----------------------------------------------------------------------------------------\n",
      "\n"
     ]
    }
   ],
   "source": [
    "# EXAMINE FEATURE VIEW CONTENT\n",
    "\n",
    "fs.read_feature_view(fv).show()"
   ]
  },
  {
   "cell_type": "code",
   "execution_count": 11,
   "id": "b959a9c7",
   "metadata": {
    "id": "0d098b56-c3d6-4592-b984-0aacfb3fe253",
    "outputId": "2eac0ef3-73e1-4709-cfd4-85b6fdffa1c3"
   },
   "outputs": [],
   "source": [
    "#CREATE RENTAL FEATURES\n",
    "\n",
    "rental_df = df.select([\"HOLIDAY\", \"WORKINGDAY\", \"CASUAL\", \"REGISTERED\", \"COUNT\", \"HOUR\", \"MONTH\", \"WEEKDAY\", \"ID\"])\n",
    "\n",
    "rental_fv = FeatureView(\n",
    "    name=\"RENTAL_FEATURES\",\n",
    "    entities=[entity],\n",
    "    feature_df=rental_df,\n",
    "    desc=\"rental features\"\n",
    ")\n",
    "rental_fv = fs.register_feature_view(\n",
    "    feature_view=rental_fv,\n",
    "    version=\"V1\",\n",
    "    #refresh_freq=\"1 minute\",\n",
    "    block=True\n",
    ")"
   ]
  },
  {
   "cell_type": "code",
   "execution_count": 12,
   "id": "33bfea66",
   "metadata": {
    "id": "72296efd-5d51-4389-a720-6bc621a4a8a9",
    "outputId": "502ecd77-a17b-4534-d618-62b0e9bf9e13"
   },
   "outputs": [
    {
     "name": "stderr",
     "output_type": "stream",
     "text": [
      "FeatureStore.list_feature_views() is in private preview since 1.0.8. Do not use it in production. \n"
     ]
    },
    {
     "name": "stdout",
     "output_type": "stream",
     "text": [
      "-------------------------------------------------------------------\n",
      "|\"NAME\"            |\"ENTITIES\"              |\"FEATURE_DESC\"       |\n",
      "-------------------------------------------------------------------\n",
      "|RENTAL_FEATURES   |[                       |{                    |\n",
      "|                  |  {                     |  \"CASUAL\": \"\",      |\n",
      "|                  |    \"desc\": \"\",         |  \"COUNT\": \"\",       |\n",
      "|                  |    \"join_keys\": [      |  \"HOLIDAY\": \"\",     |\n",
      "|                  |      \"ID\"              |  \"HOUR\": \"\",        |\n",
      "|                  |    ],                  |  \"MONTH\": \"\",       |\n",
      "|                  |    \"name\": \"WEATHER\",  |  \"REGISTERED\": \"\",  |\n",
      "|                  |    \"owner\": null       |  \"WEEKDAY\": \"\",     |\n",
      "|                  |  }                     |  \"WORKINGDAY\": \"\"   |\n",
      "|                  |]                       |}                    |\n",
      "|WEATHER_FEATURES  |[                       |{                    |\n",
      "|                  |  {                     |  \"ATEMP\": \"\",       |\n",
      "|                  |    \"desc\": \"\",         |  \"HUMIDITY\": \"\",    |\n",
      "|                  |    \"join_keys\": [      |  \"QUARTER\": \"\",     |\n",
      "|                  |      \"ID\"              |  \"SEASON\": \"\",      |\n",
      "|                  |    ],                  |  \"TEMP\": \"\",        |\n",
      "|                  |    \"name\": \"WEATHER\",  |  \"WEATHER\": \"\",     |\n",
      "|                  |    \"owner\": null       |  \"WINDSPEED\": \"\"    |\n",
      "|                  |  }                     |}                    |\n",
      "|                  |]                       |                     |\n",
      "-------------------------------------------------------------------\n",
      "\n"
     ]
    }
   ],
   "source": [
    "# LIST ALL FEATURE VIEW\n",
    "fs.list_feature_views(entity_name=\"WEATHER\").select([\"NAME\", \"ENTITIES\", \"FEATURE_DESC\"]).show()"
   ]
  },
  {
   "cell_type": "code",
   "execution_count": 39,
   "id": "859fd57f-044c-4b9b-8077-7ee8a05bd975",
   "metadata": {
    "tags": []
   },
   "outputs": [
    {
     "ename": "AttributeError",
     "evalue": "'FeatureView' object has no attribute 'queries'",
     "output_type": "error",
     "traceback": [
      "\u001b[1;31m---------------------------------------------------------------------------\u001b[0m",
      "\u001b[1;31mAttributeError\u001b[0m                            Traceback (most recent call last)",
      "Cell \u001b[1;32mIn[39], line 1\u001b[0m\n\u001b[1;32m----> 1\u001b[0m \u001b[43mfs\u001b[49m\u001b[38;5;241;43m.\u001b[39;49m\u001b[43m_join_features\u001b[49m\u001b[43m(\u001b[49m\u001b[43mfv\u001b[49m\u001b[43m,\u001b[49m\u001b[43m \u001b[49m\u001b[43m[\u001b[49m\u001b[43mrental_fv\u001b[49m\u001b[43m]\u001b[49m\u001b[43m,\u001b[49m\u001b[43m \u001b[49m\u001b[38;5;28;43;01mFalse\u001b[39;49;00m\u001b[43m,\u001b[49m\u001b[43m \u001b[49m\u001b[38;5;28;43;01mFalse\u001b[39;49;00m\u001b[43m)\u001b[49m\n",
      "File \u001b[1;32m~\\anaconda3\\envs\\python310\\lib\\site-packages\\snowflake\\ml\\feature_store\\feature_store.py:1082\u001b[0m, in \u001b[0;36mFeatureStore._join_features\u001b[1;34m(self, spine_df, features, spine_timestamp_col, include_feature_view_timestamp_col)\u001b[0m\n\u001b[0;32m   1075\u001b[0m \u001b[38;5;28;01mdef\u001b[39;00m \u001b[38;5;21m_join_features\u001b[39m(\n\u001b[0;32m   1076\u001b[0m     \u001b[38;5;28mself\u001b[39m,\n\u001b[0;32m   1077\u001b[0m     spine_df: DataFrame,\n\u001b[1;32m   (...)\u001b[0m\n\u001b[0;32m   1080\u001b[0m     include_feature_view_timestamp_col: \u001b[38;5;28mbool\u001b[39m,\n\u001b[0;32m   1081\u001b[0m ) \u001b[38;5;241m-\u001b[39m\u001b[38;5;241m>\u001b[39m Tuple[DataFrame, List[SqlIdentifier]]:\n\u001b[1;32m-> 1082\u001b[0m     \u001b[38;5;28;01mif\u001b[39;00m \u001b[38;5;28mlen\u001b[39m(\u001b[43mspine_df\u001b[49m\u001b[38;5;241;43m.\u001b[39;49m\u001b[43mqueries\u001b[49m[\u001b[38;5;124m\"\u001b[39m\u001b[38;5;124mqueries\u001b[39m\u001b[38;5;124m\"\u001b[39m]) \u001b[38;5;241m!=\u001b[39m \u001b[38;5;241m1\u001b[39m:\n\u001b[0;32m   1083\u001b[0m         \u001b[38;5;28;01mraise\u001b[39;00m snowml_exceptions\u001b[38;5;241m.\u001b[39mSnowflakeMLException(\n\u001b[0;32m   1084\u001b[0m             error_code\u001b[38;5;241m=\u001b[39merror_codes\u001b[38;5;241m.\u001b[39mINVALID_ARGUMENT,\n\u001b[0;32m   1085\u001b[0m             original_exception\u001b[38;5;241m=\u001b[39m\u001b[38;5;167;01mValueError\u001b[39;00m(\n\u001b[0;32m   1086\u001b[0m                 \u001b[38;5;124mf\u001b[39m\u001b[38;5;124m\"\u001b[39m\u001b[38;5;124mspine_df must contain only one query. Got: \u001b[39m\u001b[38;5;132;01m{\u001b[39;00mspine_df\u001b[38;5;241m.\u001b[39mqueries[\u001b[38;5;124m'\u001b[39m\u001b[38;5;124mqueries\u001b[39m\u001b[38;5;124m'\u001b[39m]\u001b[38;5;132;01m}\u001b[39;00m\u001b[38;5;124m\"\u001b[39m\n\u001b[0;32m   1087\u001b[0m             ),\n\u001b[0;32m   1088\u001b[0m         )\n\u001b[0;32m   1090\u001b[0m     \u001b[38;5;28;01mfor\u001b[39;00m f \u001b[38;5;129;01min\u001b[39;00m features:\n",
      "\u001b[1;31mAttributeError\u001b[0m: 'FeatureView' object has no attribute 'queries'"
     ]
    }
   ],
   "source": [
    "fs._join_features(fv, [rental_fv], False, False)"
   ]
  },
  {
   "cell_type": "code",
   "execution_count": 13,
   "id": "7707cdd8",
   "metadata": {
    "id": "ef04795a-ff3d-4ac8-bdc6-2848dc37498e",
    "outputId": "2a667214-1286-455d-c1c6-22f45b9d7729"
   },
   "outputs": [
    {
     "ename": "AttributeError",
     "evalue": "'FeatureStore' object has no attribute 'merge_features'",
     "output_type": "error",
     "traceback": [
      "\u001b[1;31m---------------------------------------------------------------------------\u001b[0m",
      "\u001b[1;31mAttributeError\u001b[0m                            Traceback (most recent call last)",
      "Cell \u001b[1;32mIn[13], line 3\u001b[0m\n\u001b[0;32m      1\u001b[0m \u001b[38;5;66;03m# COMBINING TWO FEATURES\u001b[39;00m\n\u001b[1;32m----> 3\u001b[0m full_fv \u001b[38;5;241m=\u001b[39m \u001b[43mfs\u001b[49m\u001b[38;5;241;43m.\u001b[39;49m\u001b[43mmerge_features\u001b[49m(features\u001b[38;5;241m=\u001b[39m[fv, rental_fv], name\u001b[38;5;241m=\u001b[39m\u001b[38;5;124m\"\u001b[39m\u001b[38;5;124mFULL_FEATURES\u001b[39m\u001b[38;5;124m\"\u001b[39m)\n\u001b[0;32m      4\u001b[0m full_fv \u001b[38;5;241m=\u001b[39m fs\u001b[38;5;241m.\u001b[39mregister_feature_view(feature_view\u001b[38;5;241m=\u001b[39mfull_fv, version\u001b[38;5;241m=\u001b[39m\u001b[38;5;124m\"\u001b[39m\u001b[38;5;124mV1\u001b[39m\u001b[38;5;124m\"\u001b[39m)\n",
      "\u001b[1;31mAttributeError\u001b[0m: 'FeatureStore' object has no attribute 'merge_features'"
     ]
    }
   ],
   "source": [
    "# COMBINING TWO FEATURES\n",
    "\n",
    "full_fv = fs.merge_features(features=[fv, rental_fv], name=\"FULL_FEATURES\")\n",
    "\n",
    "full_fv = fs.generate_dataset(\n",
    "full_fv = fs.register_feature_view(feature_view=full_fv, version=\"V1\")"
   ]
  },
  {
   "cell_type": "markdown",
   "id": "9904be35",
   "metadata": {},
   "source": [
    "### Data Generation through Feature views"
   ]
  },
  {
   "cell_type": "code",
   "execution_count": 25,
   "id": "fe3ff2d6",
   "metadata": {
    "id": "7896f44e-4c4c-49b9-ab6b-805638ebfe55",
    "outputId": "c2c8afc2-9b12-4906-8d4f-ac2ad044359c"
   },
   "outputs": [
    {
     "name": "stderr",
     "output_type": "stream",
     "text": [
      "FeatureStore.generate_dataset() is in private preview since 1.0.8. Do not use it in production. \n"
     ]
    },
    {
     "name": "stdout",
     "output_type": "stream",
     "text": [
      "------------------\n",
      "|\"ID\"  |\"COUNT\"  |\n",
      "------------------\n",
      "|0     |16       |\n",
      "|1     |40       |\n",
      "|2     |32       |\n",
      "|3     |13       |\n",
      "|4     |1        |\n",
      "|5     |1        |\n",
      "|6     |2        |\n",
      "|7     |3        |\n",
      "|8     |8        |\n",
      "|9     |14       |\n",
      "------------------\n",
      "\n",
      "----------------------------------------------------------------------------------\n",
      "|\"COUNT\"  |\"HUMIDITY\"  |\"QUARTER\"  |\"SEASON\"  |\"TEMP\"  |\"WEATHER\"  |\"WINDSPEED\"  |\n",
      "----------------------------------------------------------------------------------\n",
      "|16       |81          |1          |1         |9.84    |1          |0.0000       |\n",
      "|106      |72          |1          |1         |18.86   |2          |19.0012      |\n",
      "|39       |88          |1          |1         |18.86   |2          |19.9995      |\n",
      "|3        |94          |1          |1         |18.86   |2          |12.9980      |\n",
      "|2        |77          |1          |1         |17.22   |3          |19.9995      |\n",
      "|1        |47          |1          |1         |6.56    |1          |26.0027      |\n",
      "|3        |47          |1          |1         |6.56    |1          |19.0012      |\n",
      "|64       |50          |1          |1         |5.74    |1          |12.9980      |\n",
      "|65       |52          |1          |1         |11.48   |1          |16.9979      |\n",
      "|35       |64          |1          |1         |9.02    |1          |6.0032       |\n",
      "----------------------------------------------------------------------------------\n",
      "\n"
     ]
    }
   ],
   "source": [
    "#GENERATING TRAINING DATA\n",
    "spine_df = session.table(\"MODEL_DATA\")\n",
    "spine_df = spine_df.withColumn(\"ID\", monotonically_increasing_id())\n",
    "spine_df = spine_df.select(\"ID\", \"COUNT\")\n",
    "spine_df.show()\n",
    "\n",
    "\n",
    "training_data = fs.generate_dataset(\n",
    "    spine_df=spine_df,\n",
    "    features=[\n",
    "        fv.slice([\n",
    "            \"HUMIDITY\",\"QUARTER\",\"SEASON\",\"TEMP\",\"WEATHER\",\"WINDSPEED\"\n",
    "        ])\n",
    "    ],\n",
    "    materialized_table=\"TRAINING_DATA\",\n",
    "    spine_timestamp_col=None,\n",
    "    spine_label_cols=[\"COUNT\"],\n",
    "    save_mode=\"merge\",\n",
    "    exclude_columns=['ID']\n",
    ")\n",
    "\n",
    "training_data.df.show()"
   ]
  },
  {
   "cell_type": "markdown",
   "id": "cb9a60e6",
   "metadata": {},
   "source": [
    "### Model Training & Prediction Using Enriched Data"
   ]
  },
  {
   "cell_type": "code",
   "execution_count": 32,
   "id": "4d3e853e",
   "metadata": {
    "id": "e1b92f19-5484-4e00-8dd9-f9da6d967961"
   },
   "outputs": [],
   "source": [
    "# TRAIN A MODEL\n",
    "\n",
    "from snowflake.ml.modeling.model_selection import GridSearchCV\n",
    "from snowflake.ml.modeling.ensemble import GradientBoostingRegressor\n",
    "\n",
    "FEATURE_LIST = [\"TEMP\", \"WINDSPEED\", \"SEASON\", \"WEATHER\"]\n",
    "LABEL_COLUMNS = ['COUNT']\n",
    "OUTPUT_COLUMNS = ['PREDICTED_COUNT']\n",
    "\n",
    "param_grid = {\n",
    "        \"n_estimators\":[100, 200, 300, 400, 500],\n",
    "        \"learning_rate\":[0.1, 0.2, 0.3, 0.4, 0.5],\n",
    "}\n",
    "\n",
    "grid_search = GridSearchCV(\n",
    "    estimator=GradientBoostingRegressor(),\n",
    "    param_grid=param_grid,\n",
    "    n_jobs = -1,\n",
    "    scoring=\"neg_root_mean_squared_error\",\n",
    "    input_cols=FEATURE_LIST,\n",
    "    label_cols=LABEL_COLUMNS,\n",
    "    output_cols=OUTPUT_COLUMNS\n",
    ")\n",
    "\n",
    "train_df = training_data.df.drop([\"ID\"])"
   ]
  },
  {
   "cell_type": "code",
   "execution_count": 33,
   "id": "d545dc63",
   "metadata": {
    "id": "aade9266-c78d-4496-9ef9-d671d238b10f",
    "outputId": "3460e171-5f73-4ad9-912a-ba1a2d0399e6"
   },
   "outputs": [
    {
     "name": "stderr",
     "output_type": "stream",
     "text": [
      "C:\\Users\\Preston\\anaconda3\\envs\\python310\\lib\\site-packages\\snowflake\\ml\\_internal\\utils\\snowpark_dataframe_utils.py:88: UserWarning: Warning: The Decimal(38, 2) data type is being automatically converted to DoubleType in the Snowpark DataFrame. This automatic conversion may lead to potential precision loss and rounding errors. If you wish to prevent this conversion, you should manually perform the necessary data type conversion.\n",
      "  warnings.warn(\n",
      "C:\\Users\\Preston\\anaconda3\\envs\\python310\\lib\\site-packages\\snowflake\\ml\\_internal\\utils\\snowpark_dataframe_utils.py:88: UserWarning: Warning: The Decimal(38, 4) data type is being automatically converted to DoubleType in the Snowpark DataFrame. This automatic conversion may lead to potential precision loss and rounding errors. If you wish to prevent this conversion, you should manually perform the necessary data type conversion.\n",
      "  warnings.warn(\n",
      "The version of package 'snowflake-snowpark-python' in the local environment is 1.14.0, which does not fit the criteria for the requirement 'snowflake-snowpark-python'. Your UDF might not work when the package version is different between the server and your local environment.\n",
      "C:\\Users\\Preston\\anaconda3\\envs\\python310\\lib\\site-packages\\snowflake\\ml\\model\\_signatures\\snowpark_handler.py:40: UserWarning: Warning: Type DecimalType(38, 2) is being automatically converted to DOUBLE in the Snowpark DataFrame. This automatic conversion may lead to potential precision loss and rounding errors. If you wish to prevent this conversion, you should manually perform the necessary data type conversion.\n",
      "  core.DataType.from_snowpark_type(data_type)\n",
      "C:\\Users\\Preston\\anaconda3\\envs\\python310\\lib\\site-packages\\snowflake\\ml\\model\\_signatures\\snowpark_handler.py:40: UserWarning: Warning: Type DecimalType(38, 4) is being automatically converted to DOUBLE in the Snowpark DataFrame. This automatic conversion may lead to potential precision loss and rounding errors. If you wish to prevent this conversion, you should manually perform the necessary data type conversion.\n",
      "  core.DataType.from_snowpark_type(data_type)\n"
     ]
    },
    {
     "data": {
      "text/plain": [
       "<snowflake.ml.modeling.model_selection.grid_search_cv.GridSearchCV at 0x211c6cc71f0>"
      ]
     },
     "execution_count": 33,
     "metadata": {},
     "output_type": "execute_result"
    }
   ],
   "source": [
    "grid_search.fit(train_df)"
   ]
  },
  {
   "cell_type": "code",
   "execution_count": 34,
   "id": "d277d113",
   "metadata": {
    "id": "35bca04d-f8c8-4792-b46d-19fb1263dc36",
    "outputId": "687dfd22-b2e0-4280-fba4-d1b0ff282dfe"
   },
   "outputs": [
    {
     "name": "stderr",
     "output_type": "stream",
     "text": [
      "FeatureStore.retrieve_feature_values() is in private preview since 1.0.8. Do not use it in production. \n"
     ]
    },
    {
     "name": "stdout",
     "output_type": "stream",
     "text": [
      "------------------------------------------------------------------------\n",
      "|\"HUMIDITY\"  |\"QUARTER\"  |\"SEASON\"  |\"TEMP\"  |\"WEATHER\"  |\"WINDSPEED\"  |\n",
      "------------------------------------------------------------------------\n",
      "|81          |1          |1         |9.84    |1          |0.0000       |\n",
      "|80          |1          |1         |9.02    |1          |0.0000       |\n",
      "|80          |1          |1         |9.02    |1          |0.0000       |\n",
      "------------------------------------------------------------------------\n",
      "\n"
     ]
    }
   ],
   "source": [
    "#PREDICT FROM FEATURE STORE GENERATED DATA\n",
    "test_df = spine_df.limit(3).select(\"ID\")\n",
    "enriched_df = fs.retrieve_feature_values(\n",
    "    test_df, training_data.load_features())\n",
    "enriched_df = enriched_df.drop('ID')\n",
    "enriched_df.show()"
   ]
  },
  {
   "cell_type": "code",
   "execution_count": 35,
   "id": "dfae91d6",
   "metadata": {
    "id": "b6257917-03e1-4fe7-8651-5c4f32d5d809",
    "outputId": "7aa31b4f-557a-4eae-9227-477648c22983"
   },
   "outputs": [
    {
     "name": "stderr",
     "output_type": "stream",
     "text": [
      "C:\\Users\\Preston\\anaconda3\\envs\\python310\\lib\\site-packages\\snowflake\\ml\\_internal\\utils\\snowpark_dataframe_utils.py:88: UserWarning: Warning: The Decimal(38, 2) data type is being automatically converted to DoubleType in the Snowpark DataFrame. This automatic conversion may lead to potential precision loss and rounding errors. If you wish to prevent this conversion, you should manually perform the necessary data type conversion.\n",
      "  warnings.warn(\n",
      "C:\\Users\\Preston\\anaconda3\\envs\\python310\\lib\\site-packages\\snowflake\\ml\\_internal\\utils\\snowpark_dataframe_utils.py:88: UserWarning: Warning: The Decimal(38, 4) data type is being automatically converted to DoubleType in the Snowpark DataFrame. This automatic conversion may lead to potential precision loss and rounding errors. If you wish to prevent this conversion, you should manually perform the necessary data type conversion.\n",
      "  warnings.warn(\n"
     ]
    },
    {
     "ename": "SnowparkSQLException",
     "evalue": "(1304): 01b3b537-0002-4e04-005b-a60700031666: 100357 (P0000): Python Interpreter Error:\nTraceback (most recent call last):\n  File \"/home/udf/393627500893/udf_py_2062953880.zip/udf_py_2062953880.py\", line 78, in compute\n    return lock_function_once(func, invoked)(df)\n  File \"/home/udf/393627500893/udf_py_2062953880.zip/udf_py_2062953880.py\", line 71, in wrapper\n    return f(*args, **kwargs)\n  File \"C:\\Users\\Preston\\anaconda3\\envs\\python310\\lib\\site-packages\\snowflake\\ml\\modeling\\_internal\\snowpark_implementations\\snowpark_handlers.py\", line 137, in vec_batch_infer\n  File \"/usr/lib/python_udf/87dec2689362c1d2431f66bb95498922cda63a052a9fe283199e04628a8f0867/lib/python3.10/site-packages/sklearn/model_selection/_search.py\", line 519, in predict\n    return self.best_estimator_.predict(X)\n  File \"/usr/lib/python_udf/87dec2689362c1d2431f66bb95498922cda63a052a9fe283199e04628a8f0867/lib/python3.10/site-packages/sklearn/ensemble/_gb.py\", line 1779, in predict\n    X = self._validate_data(\n  File \"/usr/lib/python_udf/87dec2689362c1d2431f66bb95498922cda63a052a9fe283199e04628a8f0867/lib/python3.10/site-packages/sklearn/base.py\", line 604, in _validate_data\n    out = check_array(X, input_name=\"X\", **check_params)\n  File \"/usr/lib/python_udf/87dec2689362c1d2431f66bb95498922cda63a052a9fe283199e04628a8f0867/lib/python3.10/site-packages/sklearn/utils/validation.py\", line 959, in check_array\n    _assert_all_finite(\n  File \"/usr/lib/python_udf/87dec2689362c1d2431f66bb95498922cda63a052a9fe283199e04628a8f0867/lib/python3.10/site-packages/sklearn/utils/validation.py\", line 124, in _assert_all_finite\n    _assert_all_finite_element_wise(\n  File \"/usr/lib/python_udf/87dec2689362c1d2431f66bb95498922cda63a052a9fe283199e04628a8f0867/lib/python3.10/site-packages/sklearn/utils/validation.py\", line 173, in _assert_all_finite_element_wise\n    raise ValueError(msg_err)\nValueError: Input X contains NaN.\nGradientBoostingRegressor does not accept missing values encoded as NaN natively. For supervised learning, you might want to consider sklearn.ensemble.HistGradientBoostingClassifier and Regressor which accept missing values encoded as NaNs natively. Alternatively, it is possible to preprocess the data, for instance by using an imputer transformer in a pipeline or drop samples with missing values. See https://scikit-learn.org/stable/modules/impute.html You can find a list of all estimators that handle NaN values at the following page: https://scikit-learn.org/stable/modules/impute.html#estimators-that-handle-nan-values\n in function SNOWPARK_TEMP_FUNCTION_WJPTNA6WCR with handler udf_py_2062953880.compute",
     "output_type": "error",
     "traceback": [
      "\u001b[1;31m---------------------------------------------------------------------------\u001b[0m",
      "\u001b[1;31mSnowparkSQLException\u001b[0m                      Traceback (most recent call last)",
      "Cell \u001b[1;32mIn[35], line 2\u001b[0m\n\u001b[0;32m      1\u001b[0m pred \u001b[38;5;241m=\u001b[39m grid_search\u001b[38;5;241m.\u001b[39mpredict(enriched_df)\n\u001b[1;32m----> 2\u001b[0m \u001b[43mpred\u001b[49m\u001b[38;5;241;43m.\u001b[39;49m\u001b[43mshow\u001b[49m\u001b[43m(\u001b[49m\u001b[43m)\u001b[49m\n",
      "File \u001b[1;32m~\\anaconda3\\envs\\python310\\lib\\site-packages\\snowflake\\snowpark\\_internal\\telemetry.py:139\u001b[0m, in \u001b[0;36mdf_collect_api_telemetry.<locals>.wrap\u001b[1;34m(*args, **kwargs)\u001b[0m\n\u001b[0;32m    136\u001b[0m \u001b[38;5;129m@functools\u001b[39m\u001b[38;5;241m.\u001b[39mwraps(func)\n\u001b[0;32m    137\u001b[0m \u001b[38;5;28;01mdef\u001b[39;00m \u001b[38;5;21mwrap\u001b[39m(\u001b[38;5;241m*\u001b[39margs, \u001b[38;5;241m*\u001b[39m\u001b[38;5;241m*\u001b[39mkwargs):\n\u001b[0;32m    138\u001b[0m     \u001b[38;5;28;01mwith\u001b[39;00m args[\u001b[38;5;241m0\u001b[39m]\u001b[38;5;241m.\u001b[39m_session\u001b[38;5;241m.\u001b[39mquery_history() \u001b[38;5;28;01mas\u001b[39;00m query_history:\n\u001b[1;32m--> 139\u001b[0m         result \u001b[38;5;241m=\u001b[39m func(\u001b[38;5;241m*\u001b[39margs, \u001b[38;5;241m*\u001b[39m\u001b[38;5;241m*\u001b[39mkwargs)\n\u001b[0;32m    140\u001b[0m     plan \u001b[38;5;241m=\u001b[39m args[\u001b[38;5;241m0\u001b[39m]\u001b[38;5;241m.\u001b[39m_select_statement \u001b[38;5;129;01mor\u001b[39;00m args[\u001b[38;5;241m0\u001b[39m]\u001b[38;5;241m.\u001b[39m_plan\n\u001b[0;32m    141\u001b[0m     api_calls \u001b[38;5;241m=\u001b[39m [\n\u001b[0;32m    142\u001b[0m         \u001b[38;5;241m*\u001b[39mplan\u001b[38;5;241m.\u001b[39mapi_calls,\n\u001b[0;32m    143\u001b[0m         {TelemetryField\u001b[38;5;241m.\u001b[39mNAME\u001b[38;5;241m.\u001b[39mvalue: \u001b[38;5;124mf\u001b[39m\u001b[38;5;124m\"\u001b[39m\u001b[38;5;124mDataFrame.\u001b[39m\u001b[38;5;132;01m{\u001b[39;00mfunc\u001b[38;5;241m.\u001b[39m\u001b[38;5;18m__name__\u001b[39m\u001b[38;5;132;01m}\u001b[39;00m\u001b[38;5;124m\"\u001b[39m},\n\u001b[0;32m    144\u001b[0m     ]\n",
      "File \u001b[1;32m~\\anaconda3\\envs\\python310\\lib\\site-packages\\snowflake\\snowpark\\dataframe.py:3050\u001b[0m, in \u001b[0;36mDataFrame.show\u001b[1;34m(self, n, max_width, statement_params)\u001b[0m\n\u001b[0;32m   3031\u001b[0m \u001b[38;5;129m@df_collect_api_telemetry\u001b[39m\n\u001b[0;32m   3032\u001b[0m \u001b[38;5;28;01mdef\u001b[39;00m \u001b[38;5;21mshow\u001b[39m(\n\u001b[0;32m   3033\u001b[0m     \u001b[38;5;28mself\u001b[39m,\n\u001b[1;32m   (...)\u001b[0m\n\u001b[0;32m   3037\u001b[0m     statement_params: Optional[Dict[\u001b[38;5;28mstr\u001b[39m, \u001b[38;5;28mstr\u001b[39m]] \u001b[38;5;241m=\u001b[39m \u001b[38;5;28;01mNone\u001b[39;00m,\n\u001b[0;32m   3038\u001b[0m ) \u001b[38;5;241m-\u001b[39m\u001b[38;5;241m>\u001b[39m \u001b[38;5;28;01mNone\u001b[39;00m:\n\u001b[0;32m   3039\u001b[0m \u001b[38;5;250m    \u001b[39m\u001b[38;5;124;03m\"\"\"Evaluates this DataFrame and prints out the first ``n`` rows with the\u001b[39;00m\n\u001b[0;32m   3040\u001b[0m \u001b[38;5;124;03m    specified maximum number of characters per column.\u001b[39;00m\n\u001b[0;32m   3041\u001b[0m \n\u001b[1;32m   (...)\u001b[0m\n\u001b[0;32m   3047\u001b[0m \u001b[38;5;124;03m        statement_params: Dictionary of statement level parameters to be set while executing this action.\u001b[39;00m\n\u001b[0;32m   3048\u001b[0m \u001b[38;5;124;03m    \"\"\"\u001b[39;00m\n\u001b[0;32m   3049\u001b[0m     \u001b[38;5;28mprint\u001b[39m(\n\u001b[1;32m-> 3050\u001b[0m         \u001b[38;5;28;43mself\u001b[39;49m\u001b[38;5;241;43m.\u001b[39;49m\u001b[43m_show_string\u001b[49m\u001b[43m(\u001b[49m\n\u001b[0;32m   3051\u001b[0m \u001b[43m            \u001b[49m\u001b[43mn\u001b[49m\u001b[43m,\u001b[49m\n\u001b[0;32m   3052\u001b[0m \u001b[43m            \u001b[49m\u001b[43mmax_width\u001b[49m\u001b[43m,\u001b[49m\n\u001b[0;32m   3053\u001b[0m \u001b[43m            \u001b[49m\u001b[43m_statement_params\u001b[49m\u001b[38;5;241;43m=\u001b[39;49m\u001b[43mcreate_or_update_statement_params_with_query_tag\u001b[49m\u001b[43m(\u001b[49m\n\u001b[0;32m   3054\u001b[0m \u001b[43m                \u001b[49m\u001b[43mstatement_params\u001b[49m\u001b[43m \u001b[49m\u001b[38;5;129;43;01mor\u001b[39;49;00m\u001b[43m \u001b[49m\u001b[38;5;28;43mself\u001b[39;49m\u001b[38;5;241;43m.\u001b[39;49m\u001b[43m_statement_params\u001b[49m\u001b[43m,\u001b[49m\n\u001b[0;32m   3055\u001b[0m \u001b[43m                \u001b[49m\u001b[38;5;28;43mself\u001b[39;49m\u001b[38;5;241;43m.\u001b[39;49m\u001b[43m_session\u001b[49m\u001b[38;5;241;43m.\u001b[39;49m\u001b[43mquery_tag\u001b[49m\u001b[43m,\u001b[49m\n\u001b[0;32m   3056\u001b[0m \u001b[43m                \u001b[49m\u001b[43mSKIP_LEVELS_TWO\u001b[49m\u001b[43m,\u001b[49m\n\u001b[0;32m   3057\u001b[0m \u001b[43m            \u001b[49m\u001b[43m)\u001b[49m\u001b[43m,\u001b[49m\n\u001b[0;32m   3058\u001b[0m \u001b[43m        \u001b[49m\u001b[43m)\u001b[49m\n\u001b[0;32m   3059\u001b[0m     )\n",
      "File \u001b[1;32m~\\anaconda3\\envs\\python310\\lib\\site-packages\\snowflake\\snowpark\\dataframe.py:3168\u001b[0m, in \u001b[0;36mDataFrame._show_string\u001b[1;34m(self, n, max_width, **kwargs)\u001b[0m\n\u001b[0;32m   3165\u001b[0m query \u001b[38;5;241m=\u001b[39m \u001b[38;5;28mself\u001b[39m\u001b[38;5;241m.\u001b[39m_plan\u001b[38;5;241m.\u001b[39mqueries[\u001b[38;5;241m-\u001b[39m\u001b[38;5;241m1\u001b[39m]\u001b[38;5;241m.\u001b[39msql\u001b[38;5;241m.\u001b[39mstrip()\u001b[38;5;241m.\u001b[39mlower()\n\u001b[0;32m   3167\u001b[0m \u001b[38;5;28;01mif\u001b[39;00m is_sql_select_statement(query):\n\u001b[1;32m-> 3168\u001b[0m     result, meta \u001b[38;5;241m=\u001b[39m \u001b[38;5;28mself\u001b[39m\u001b[38;5;241m.\u001b[39m_session\u001b[38;5;241m.\u001b[39m_conn\u001b[38;5;241m.\u001b[39mget_result_and_metadata(\n\u001b[0;32m   3169\u001b[0m         \u001b[38;5;28mself\u001b[39m\u001b[38;5;241m.\u001b[39mlimit(n)\u001b[38;5;241m.\u001b[39m_plan, \u001b[38;5;241m*\u001b[39m\u001b[38;5;241m*\u001b[39mkwargs\n\u001b[0;32m   3170\u001b[0m     )\n\u001b[0;32m   3171\u001b[0m \u001b[38;5;28;01melse\u001b[39;00m:\n\u001b[0;32m   3172\u001b[0m     res, meta \u001b[38;5;241m=\u001b[39m \u001b[38;5;28mself\u001b[39m\u001b[38;5;241m.\u001b[39m_session\u001b[38;5;241m.\u001b[39m_conn\u001b[38;5;241m.\u001b[39mget_result_and_metadata(\n\u001b[0;32m   3173\u001b[0m         \u001b[38;5;28mself\u001b[39m\u001b[38;5;241m.\u001b[39m_plan, \u001b[38;5;241m*\u001b[39m\u001b[38;5;241m*\u001b[39mkwargs\n\u001b[0;32m   3174\u001b[0m     )\n",
      "File \u001b[1;32m~\\anaconda3\\envs\\python310\\lib\\site-packages\\snowflake\\snowpark\\_internal\\server_connection.py:652\u001b[0m, in \u001b[0;36mServerConnection.get_result_and_metadata\u001b[1;34m(self, plan, **kwargs)\u001b[0m\n\u001b[0;32m    649\u001b[0m \u001b[38;5;28;01mdef\u001b[39;00m \u001b[38;5;21mget_result_and_metadata\u001b[39m(\n\u001b[0;32m    650\u001b[0m     \u001b[38;5;28mself\u001b[39m, plan: SnowflakePlan, \u001b[38;5;241m*\u001b[39m\u001b[38;5;241m*\u001b[39mkwargs\n\u001b[0;32m    651\u001b[0m ) \u001b[38;5;241m-\u001b[39m\u001b[38;5;241m>\u001b[39m Tuple[List[Row], List[Attribute]]:\n\u001b[1;32m--> 652\u001b[0m     result_set, result_meta \u001b[38;5;241m=\u001b[39m \u001b[38;5;28mself\u001b[39m\u001b[38;5;241m.\u001b[39mget_result_set(plan, \u001b[38;5;241m*\u001b[39m\u001b[38;5;241m*\u001b[39mkwargs)\n\u001b[0;32m    653\u001b[0m     result \u001b[38;5;241m=\u001b[39m result_set_to_rows(result_set[\u001b[38;5;124m\"\u001b[39m\u001b[38;5;124mdata\u001b[39m\u001b[38;5;124m\"\u001b[39m])\n\u001b[0;32m    654\u001b[0m     attributes \u001b[38;5;241m=\u001b[39m convert_result_meta_to_attribute(result_meta)\n",
      "File \u001b[1;32m~\\anaconda3\\envs\\python310\\lib\\site-packages\\snowflake\\snowpark\\_internal\\analyzer\\snowflake_plan.py:190\u001b[0m, in \u001b[0;36mSnowflakePlan.Decorator.wrap_exception.<locals>.wrap\u001b[1;34m(*args, **kwargs)\u001b[0m\n\u001b[0;32m    186\u001b[0m \u001b[38;5;28;01melse\u001b[39;00m:\n\u001b[0;32m    187\u001b[0m     ne \u001b[38;5;241m=\u001b[39m SnowparkClientExceptionMessages\u001b[38;5;241m.\u001b[39mSQL_EXCEPTION_FROM_PROGRAMMING_ERROR(\n\u001b[0;32m    188\u001b[0m         e\n\u001b[0;32m    189\u001b[0m     )\n\u001b[1;32m--> 190\u001b[0m     \u001b[38;5;28;01mraise\u001b[39;00m ne\u001b[38;5;241m.\u001b[39mwith_traceback(tb) \u001b[38;5;28;01mfrom\u001b[39;00m \u001b[38;5;28;01mNone\u001b[39;00m\n",
      "File \u001b[1;32m~\\anaconda3\\envs\\python310\\lib\\site-packages\\snowflake\\snowpark\\_internal\\analyzer\\snowflake_plan.py:121\u001b[0m, in \u001b[0;36mSnowflakePlan.Decorator.wrap_exception.<locals>.wrap\u001b[1;34m(*args, **kwargs)\u001b[0m\n\u001b[0;32m    119\u001b[0m \u001b[38;5;28;01mdef\u001b[39;00m \u001b[38;5;21mwrap\u001b[39m(\u001b[38;5;241m*\u001b[39margs, \u001b[38;5;241m*\u001b[39m\u001b[38;5;241m*\u001b[39mkwargs):\n\u001b[0;32m    120\u001b[0m     \u001b[38;5;28;01mtry\u001b[39;00m:\n\u001b[1;32m--> 121\u001b[0m         \u001b[38;5;28;01mreturn\u001b[39;00m func(\u001b[38;5;241m*\u001b[39margs, \u001b[38;5;241m*\u001b[39m\u001b[38;5;241m*\u001b[39mkwargs)\n\u001b[0;32m    122\u001b[0m     \u001b[38;5;28;01mexcept\u001b[39;00m snowflake\u001b[38;5;241m.\u001b[39mconnector\u001b[38;5;241m.\u001b[39merrors\u001b[38;5;241m.\u001b[39mProgrammingError \u001b[38;5;28;01mas\u001b[39;00m e:\n\u001b[0;32m    123\u001b[0m         query \u001b[38;5;241m=\u001b[39m \u001b[38;5;28mgetattr\u001b[39m(e, \u001b[38;5;124m\"\u001b[39m\u001b[38;5;124mquery\u001b[39m\u001b[38;5;124m\"\u001b[39m, \u001b[38;5;28;01mNone\u001b[39;00m)\n",
      "File \u001b[1;32m~\\anaconda3\\envs\\python310\\lib\\site-packages\\snowflake\\snowpark\\_internal\\server_connection.py:612\u001b[0m, in \u001b[0;36mServerConnection.get_result_set\u001b[1;34m(self, plan, to_pandas, to_iter, block, data_type, log_on_exception, case_sensitive, **kwargs)\u001b[0m\n\u001b[0;32m    610\u001b[0m \u001b[38;5;28;01mfor\u001b[39;00m holder, id_ \u001b[38;5;129;01min\u001b[39;00m placeholders\u001b[38;5;241m.\u001b[39mitems():\n\u001b[0;32m    611\u001b[0m     final_query \u001b[38;5;241m=\u001b[39m final_query\u001b[38;5;241m.\u001b[39mreplace(holder, id_)\n\u001b[1;32m--> 612\u001b[0m result \u001b[38;5;241m=\u001b[39m \u001b[38;5;28mself\u001b[39m\u001b[38;5;241m.\u001b[39mrun_query(\n\u001b[0;32m    613\u001b[0m     final_query,\n\u001b[0;32m    614\u001b[0m     to_pandas,\n\u001b[0;32m    615\u001b[0m     to_iter \u001b[38;5;129;01mand\u001b[39;00m (i \u001b[38;5;241m==\u001b[39m \u001b[38;5;28mlen\u001b[39m(plan\u001b[38;5;241m.\u001b[39mqueries) \u001b[38;5;241m-\u001b[39m \u001b[38;5;241m1\u001b[39m),\n\u001b[0;32m    616\u001b[0m     is_ddl_on_temp_object\u001b[38;5;241m=\u001b[39mquery\u001b[38;5;241m.\u001b[39mis_ddl_on_temp_object,\n\u001b[0;32m    617\u001b[0m     block\u001b[38;5;241m=\u001b[39m\u001b[38;5;129;01mnot\u001b[39;00m is_last,\n\u001b[0;32m    618\u001b[0m     data_type\u001b[38;5;241m=\u001b[39mdata_type,\n\u001b[0;32m    619\u001b[0m     async_job_plan\u001b[38;5;241m=\u001b[39mplan,\n\u001b[0;32m    620\u001b[0m     log_on_exception\u001b[38;5;241m=\u001b[39mlog_on_exception,\n\u001b[0;32m    621\u001b[0m     case_sensitive\u001b[38;5;241m=\u001b[39mcase_sensitive,\n\u001b[0;32m    622\u001b[0m     params\u001b[38;5;241m=\u001b[39mquery\u001b[38;5;241m.\u001b[39mparams,\n\u001b[0;32m    623\u001b[0m     \u001b[38;5;241m*\u001b[39m\u001b[38;5;241m*\u001b[39mkwargs,\n\u001b[0;32m    624\u001b[0m )\n\u001b[0;32m    625\u001b[0m placeholders[query\u001b[38;5;241m.\u001b[39mquery_id_place_holder] \u001b[38;5;241m=\u001b[39m (\n\u001b[0;32m    626\u001b[0m     result[\u001b[38;5;124m\"\u001b[39m\u001b[38;5;124msfqid\u001b[39m\u001b[38;5;124m\"\u001b[39m] \u001b[38;5;28;01mif\u001b[39;00m \u001b[38;5;129;01mnot\u001b[39;00m is_last \u001b[38;5;28;01melse\u001b[39;00m result\u001b[38;5;241m.\u001b[39mquery_id\n\u001b[0;32m    627\u001b[0m )\n\u001b[0;32m    628\u001b[0m result_meta \u001b[38;5;241m=\u001b[39m get_new_description(\u001b[38;5;28mself\u001b[39m\u001b[38;5;241m.\u001b[39m_cursor)\n",
      "File \u001b[1;32m~\\anaconda3\\envs\\python310\\lib\\site-packages\\snowflake\\snowpark\\_internal\\server_connection.py:123\u001b[0m, in \u001b[0;36mServerConnection._Decorator.wrap_exception.<locals>.wrap\u001b[1;34m(*args, **kwargs)\u001b[0m\n\u001b[0;32m    119\u001b[0m     \u001b[38;5;28;01mraise\u001b[39;00m SnowparkClientExceptionMessages\u001b[38;5;241m.\u001b[39mSERVER_SESSION_EXPIRED(\n\u001b[0;32m    120\u001b[0m         ex\u001b[38;5;241m.\u001b[39mcause\n\u001b[0;32m    121\u001b[0m     )\n\u001b[0;32m    122\u001b[0m \u001b[38;5;28;01mexcept\u001b[39;00m \u001b[38;5;167;01mException\u001b[39;00m \u001b[38;5;28;01mas\u001b[39;00m ex:\n\u001b[1;32m--> 123\u001b[0m     \u001b[38;5;28;01mraise\u001b[39;00m ex\n",
      "File \u001b[1;32m~\\anaconda3\\envs\\python310\\lib\\site-packages\\snowflake\\snowpark\\_internal\\server_connection.py:117\u001b[0m, in \u001b[0;36mServerConnection._Decorator.wrap_exception.<locals>.wrap\u001b[1;34m(*args, **kwargs)\u001b[0m\n\u001b[0;32m    115\u001b[0m     \u001b[38;5;28;01mraise\u001b[39;00m SnowparkClientExceptionMessages\u001b[38;5;241m.\u001b[39mSERVER_SESSION_HAS_BEEN_CLOSED()\n\u001b[0;32m    116\u001b[0m \u001b[38;5;28;01mtry\u001b[39;00m:\n\u001b[1;32m--> 117\u001b[0m     \u001b[38;5;28;01mreturn\u001b[39;00m func(\u001b[38;5;241m*\u001b[39margs, \u001b[38;5;241m*\u001b[39m\u001b[38;5;241m*\u001b[39mkwargs)\n\u001b[0;32m    118\u001b[0m \u001b[38;5;28;01mexcept\u001b[39;00m ReauthenticationRequest \u001b[38;5;28;01mas\u001b[39;00m ex:\n\u001b[0;32m    119\u001b[0m     \u001b[38;5;28;01mraise\u001b[39;00m SnowparkClientExceptionMessages\u001b[38;5;241m.\u001b[39mSERVER_SESSION_EXPIRED(\n\u001b[0;32m    120\u001b[0m         ex\u001b[38;5;241m.\u001b[39mcause\n\u001b[0;32m    121\u001b[0m     )\n",
      "File \u001b[1;32m~\\anaconda3\\envs\\python310\\lib\\site-packages\\snowflake\\snowpark\\_internal\\server_connection.py:417\u001b[0m, in \u001b[0;36mServerConnection.run_query\u001b[1;34m(self, query, to_pandas, to_iter, is_ddl_on_temp_object, block, data_type, async_job_plan, log_on_exception, case_sensitive, params, num_statements, **kwargs)\u001b[0m\n\u001b[0;32m    415\u001b[0m         query_id_log \u001b[38;5;241m=\u001b[39m \u001b[38;5;124mf\u001b[39m\u001b[38;5;124m\"\u001b[39m\u001b[38;5;124m [queryID: \u001b[39m\u001b[38;5;132;01m{\u001b[39;00mex\u001b[38;5;241m.\u001b[39msfqid\u001b[38;5;132;01m}\u001b[39;00m\u001b[38;5;124m]\u001b[39m\u001b[38;5;124m\"\u001b[39m \u001b[38;5;28;01mif\u001b[39;00m \u001b[38;5;28mhasattr\u001b[39m(ex, \u001b[38;5;124m\"\u001b[39m\u001b[38;5;124msfqid\u001b[39m\u001b[38;5;124m\"\u001b[39m) \u001b[38;5;28;01melse\u001b[39;00m \u001b[38;5;124m\"\u001b[39m\u001b[38;5;124m\"\u001b[39m\n\u001b[0;32m    416\u001b[0m         logger\u001b[38;5;241m.\u001b[39merror(\u001b[38;5;124mf\u001b[39m\u001b[38;5;124m\"\u001b[39m\u001b[38;5;124mFailed to execute query\u001b[39m\u001b[38;5;132;01m{\u001b[39;00mquery_id_log\u001b[38;5;132;01m}\u001b[39;00m\u001b[38;5;124m \u001b[39m\u001b[38;5;132;01m{\u001b[39;00mquery\u001b[38;5;132;01m}\u001b[39;00m\u001b[38;5;130;01m\\n\u001b[39;00m\u001b[38;5;132;01m{\u001b[39;00mex\u001b[38;5;132;01m}\u001b[39;00m\u001b[38;5;124m\"\u001b[39m)\n\u001b[1;32m--> 417\u001b[0m     \u001b[38;5;28;01mraise\u001b[39;00m ex\n\u001b[0;32m    419\u001b[0m \u001b[38;5;66;03m# fetch_pandas_all/batches() only works for SELECT statements\u001b[39;00m\n\u001b[0;32m    420\u001b[0m \u001b[38;5;66;03m# We call fetchall() if fetch_pandas_all/batches() fails,\u001b[39;00m\n\u001b[0;32m    421\u001b[0m \u001b[38;5;66;03m# because when the query plan has multiple queries, it will\u001b[39;00m\n\u001b[0;32m    422\u001b[0m \u001b[38;5;66;03m# have non-select statements, and it shouldn't fail if the user\u001b[39;00m\n\u001b[0;32m    423\u001b[0m \u001b[38;5;66;03m# calls to_pandas() to execute the query.\u001b[39;00m\n\u001b[0;32m    424\u001b[0m \u001b[38;5;28;01mif\u001b[39;00m block:\n",
      "File \u001b[1;32m~\\anaconda3\\envs\\python310\\lib\\site-packages\\snowflake\\snowpark\\_internal\\server_connection.py:402\u001b[0m, in \u001b[0;36mServerConnection.run_query\u001b[1;34m(self, query, to_pandas, to_iter, is_ddl_on_temp_object, block, data_type, async_job_plan, log_on_exception, case_sensitive, params, num_statements, **kwargs)\u001b[0m\n\u001b[0;32m    400\u001b[0m     kwargs[\u001b[38;5;124m\"\u001b[39m\u001b[38;5;124m_statement_params\u001b[39m\u001b[38;5;124m\"\u001b[39m][\u001b[38;5;124m\"\u001b[39m\u001b[38;5;124mSNOWPARK_SKIP_TXN_COMMIT_IN_DDL\u001b[39m\u001b[38;5;124m\"\u001b[39m] \u001b[38;5;241m=\u001b[39m \u001b[38;5;28;01mTrue\u001b[39;00m\n\u001b[0;32m    401\u001b[0m \u001b[38;5;28;01mif\u001b[39;00m block:\n\u001b[1;32m--> 402\u001b[0m     results_cursor \u001b[38;5;241m=\u001b[39m \u001b[38;5;28mself\u001b[39m\u001b[38;5;241m.\u001b[39mexecute_and_notify_query_listener(\n\u001b[0;32m    403\u001b[0m         query, params\u001b[38;5;241m=\u001b[39mparams, \u001b[38;5;241m*\u001b[39m\u001b[38;5;241m*\u001b[39mkwargs\n\u001b[0;32m    404\u001b[0m     )\n\u001b[0;32m    405\u001b[0m     logger\u001b[38;5;241m.\u001b[39mdebug(\u001b[38;5;124mf\u001b[39m\u001b[38;5;124m\"\u001b[39m\u001b[38;5;124mExecute query [queryID: \u001b[39m\u001b[38;5;132;01m{\u001b[39;00mresults_cursor\u001b[38;5;241m.\u001b[39msfqid\u001b[38;5;132;01m}\u001b[39;00m\u001b[38;5;124m] \u001b[39m\u001b[38;5;132;01m{\u001b[39;00mquery\u001b[38;5;132;01m}\u001b[39;00m\u001b[38;5;124m\"\u001b[39m)\n\u001b[0;32m    406\u001b[0m \u001b[38;5;28;01melse\u001b[39;00m:\n",
      "File \u001b[1;32m~\\anaconda3\\envs\\python310\\lib\\site-packages\\snowflake\\snowpark\\_internal\\server_connection.py:354\u001b[0m, in \u001b[0;36mServerConnection.execute_and_notify_query_listener\u001b[1;34m(self, query, **kwargs)\u001b[0m\n\u001b[0;32m    351\u001b[0m \u001b[38;5;28;01mdef\u001b[39;00m \u001b[38;5;21mexecute_and_notify_query_listener\u001b[39m(\n\u001b[0;32m    352\u001b[0m     \u001b[38;5;28mself\u001b[39m, query: \u001b[38;5;28mstr\u001b[39m, \u001b[38;5;241m*\u001b[39m\u001b[38;5;241m*\u001b[39mkwargs: Any\n\u001b[0;32m    353\u001b[0m ) \u001b[38;5;241m-\u001b[39m\u001b[38;5;241m>\u001b[39m SnowflakeCursor:\n\u001b[1;32m--> 354\u001b[0m     results_cursor \u001b[38;5;241m=\u001b[39m \u001b[38;5;28mself\u001b[39m\u001b[38;5;241m.\u001b[39m_cursor\u001b[38;5;241m.\u001b[39mexecute(query, \u001b[38;5;241m*\u001b[39m\u001b[38;5;241m*\u001b[39mkwargs)\n\u001b[0;32m    355\u001b[0m     \u001b[38;5;28mself\u001b[39m\u001b[38;5;241m.\u001b[39mnotify_query_listeners(\n\u001b[0;32m    356\u001b[0m         QueryRecord(results_cursor\u001b[38;5;241m.\u001b[39msfqid, results_cursor\u001b[38;5;241m.\u001b[39mquery)\n\u001b[0;32m    357\u001b[0m     )\n\u001b[0;32m    358\u001b[0m     \u001b[38;5;28;01mreturn\u001b[39;00m results_cursor\n",
      "File \u001b[1;32m~\\anaconda3\\envs\\python310\\lib\\site-packages\\snowflake\\connector\\cursor.py:1080\u001b[0m, in \u001b[0;36mSnowflakeCursor.execute\u001b[1;34m(self, command, params, _bind_stage, timeout, _exec_async, _no_retry, _do_reset, _put_callback, _put_azure_callback, _put_callback_output_stream, _get_callback, _get_azure_callback, _get_callback_output_stream, _show_progress_bar, _statement_params, _is_internal, _describe_only, _no_results, _is_put_get, _raise_put_get_error, _force_put_overwrite, _skip_upload_on_content_match, file_stream, num_statements)\u001b[0m\n\u001b[0;32m   1076\u001b[0m     is_integrity_error \u001b[38;5;241m=\u001b[39m (\n\u001b[0;32m   1077\u001b[0m         code \u001b[38;5;241m==\u001b[39m \u001b[38;5;124m\"\u001b[39m\u001b[38;5;124m100072\u001b[39m\u001b[38;5;124m\"\u001b[39m\n\u001b[0;32m   1078\u001b[0m     )  \u001b[38;5;66;03m# NULL result in a non-nullable column\u001b[39;00m\n\u001b[0;32m   1079\u001b[0m     error_class \u001b[38;5;241m=\u001b[39m IntegrityError \u001b[38;5;28;01mif\u001b[39;00m is_integrity_error \u001b[38;5;28;01melse\u001b[39;00m ProgrammingError\n\u001b[1;32m-> 1080\u001b[0m     \u001b[43mError\u001b[49m\u001b[38;5;241;43m.\u001b[39;49m\u001b[43merrorhandler_wrapper\u001b[49m\u001b[43m(\u001b[49m\u001b[38;5;28;43mself\u001b[39;49m\u001b[38;5;241;43m.\u001b[39;49m\u001b[43mconnection\u001b[49m\u001b[43m,\u001b[49m\u001b[43m \u001b[49m\u001b[38;5;28;43mself\u001b[39;49m\u001b[43m,\u001b[49m\u001b[43m \u001b[49m\u001b[43merror_class\u001b[49m\u001b[43m,\u001b[49m\u001b[43m \u001b[49m\u001b[43merrvalue\u001b[49m\u001b[43m)\u001b[49m\n\u001b[0;32m   1081\u001b[0m \u001b[38;5;28;01mreturn\u001b[39;00m \u001b[38;5;28mself\u001b[39m\n",
      "File \u001b[1;32m~\\anaconda3\\envs\\python310\\lib\\site-packages\\snowflake\\connector\\errors.py:290\u001b[0m, in \u001b[0;36mError.errorhandler_wrapper\u001b[1;34m(connection, cursor, error_class, error_value)\u001b[0m\n\u001b[0;32m    267\u001b[0m \u001b[38;5;129m@staticmethod\u001b[39m\n\u001b[0;32m    268\u001b[0m \u001b[38;5;28;01mdef\u001b[39;00m \u001b[38;5;21merrorhandler_wrapper\u001b[39m(\n\u001b[0;32m    269\u001b[0m     connection: SnowflakeConnection \u001b[38;5;241m|\u001b[39m \u001b[38;5;28;01mNone\u001b[39;00m,\n\u001b[1;32m   (...)\u001b[0m\n\u001b[0;32m    272\u001b[0m     error_value: \u001b[38;5;28mdict\u001b[39m[\u001b[38;5;28mstr\u001b[39m, Any],\n\u001b[0;32m    273\u001b[0m ) \u001b[38;5;241m-\u001b[39m\u001b[38;5;241m>\u001b[39m \u001b[38;5;28;01mNone\u001b[39;00m:\n\u001b[0;32m    274\u001b[0m \u001b[38;5;250m    \u001b[39m\u001b[38;5;124;03m\"\"\"Error handler wrapper that calls the errorhandler method.\u001b[39;00m\n\u001b[0;32m    275\u001b[0m \n\u001b[0;32m    276\u001b[0m \u001b[38;5;124;03m    Args:\u001b[39;00m\n\u001b[1;32m   (...)\u001b[0m\n\u001b[0;32m    287\u001b[0m \u001b[38;5;124;03m        exception to the first handler in that order.\u001b[39;00m\n\u001b[0;32m    288\u001b[0m \u001b[38;5;124;03m    \"\"\"\u001b[39;00m\n\u001b[1;32m--> 290\u001b[0m     handed_over \u001b[38;5;241m=\u001b[39m \u001b[43mError\u001b[49m\u001b[38;5;241;43m.\u001b[39;49m\u001b[43mhand_to_other_handler\u001b[49m\u001b[43m(\u001b[49m\n\u001b[0;32m    291\u001b[0m \u001b[43m        \u001b[49m\u001b[43mconnection\u001b[49m\u001b[43m,\u001b[49m\n\u001b[0;32m    292\u001b[0m \u001b[43m        \u001b[49m\u001b[43mcursor\u001b[49m\u001b[43m,\u001b[49m\n\u001b[0;32m    293\u001b[0m \u001b[43m        \u001b[49m\u001b[43merror_class\u001b[49m\u001b[43m,\u001b[49m\n\u001b[0;32m    294\u001b[0m \u001b[43m        \u001b[49m\u001b[43merror_value\u001b[49m\u001b[43m,\u001b[49m\n\u001b[0;32m    295\u001b[0m \u001b[43m    \u001b[49m\u001b[43m)\u001b[49m\n\u001b[0;32m    296\u001b[0m     \u001b[38;5;28;01mif\u001b[39;00m \u001b[38;5;129;01mnot\u001b[39;00m handed_over:\n\u001b[0;32m    297\u001b[0m         \u001b[38;5;28;01mraise\u001b[39;00m Error\u001b[38;5;241m.\u001b[39merrorhandler_make_exception(\n\u001b[0;32m    298\u001b[0m             error_class,\n\u001b[0;32m    299\u001b[0m             error_value,\n\u001b[0;32m    300\u001b[0m         )\n",
      "File \u001b[1;32m~\\anaconda3\\envs\\python310\\lib\\site-packages\\snowflake\\connector\\errors.py:345\u001b[0m, in \u001b[0;36mError.hand_to_other_handler\u001b[1;34m(connection, cursor, error_class, error_value)\u001b[0m\n\u001b[0;32m    343\u001b[0m \u001b[38;5;28;01mif\u001b[39;00m cursor \u001b[38;5;129;01mis\u001b[39;00m \u001b[38;5;129;01mnot\u001b[39;00m \u001b[38;5;28;01mNone\u001b[39;00m:\n\u001b[0;32m    344\u001b[0m     cursor\u001b[38;5;241m.\u001b[39mmessages\u001b[38;5;241m.\u001b[39mappend((error_class, error_value))\n\u001b[1;32m--> 345\u001b[0m     \u001b[43mcursor\u001b[49m\u001b[38;5;241;43m.\u001b[39;49m\u001b[43merrorhandler\u001b[49m\u001b[43m(\u001b[49m\u001b[43mconnection\u001b[49m\u001b[43m,\u001b[49m\u001b[43m \u001b[49m\u001b[43mcursor\u001b[49m\u001b[43m,\u001b[49m\u001b[43m \u001b[49m\u001b[43merror_class\u001b[49m\u001b[43m,\u001b[49m\u001b[43m \u001b[49m\u001b[43merror_value\u001b[49m\u001b[43m)\u001b[49m\n\u001b[0;32m    346\u001b[0m     \u001b[38;5;28;01mreturn\u001b[39;00m \u001b[38;5;28;01mTrue\u001b[39;00m\n\u001b[0;32m    347\u001b[0m \u001b[38;5;28;01melif\u001b[39;00m connection \u001b[38;5;129;01mis\u001b[39;00m \u001b[38;5;129;01mnot\u001b[39;00m \u001b[38;5;28;01mNone\u001b[39;00m:\n",
      "File \u001b[1;32m~\\anaconda3\\envs\\python310\\lib\\site-packages\\snowflake\\connector\\errors.py:221\u001b[0m, in \u001b[0;36mError.default_errorhandler\u001b[1;34m(connection, cursor, error_class, error_value)\u001b[0m\n\u001b[0;32m    219\u001b[0m errno \u001b[38;5;241m=\u001b[39m error_value\u001b[38;5;241m.\u001b[39mget(\u001b[38;5;124m\"\u001b[39m\u001b[38;5;124merrno\u001b[39m\u001b[38;5;124m\"\u001b[39m)\n\u001b[0;32m    220\u001b[0m done_format_msg \u001b[38;5;241m=\u001b[39m error_value\u001b[38;5;241m.\u001b[39mget(\u001b[38;5;124m\"\u001b[39m\u001b[38;5;124mdone_format_msg\u001b[39m\u001b[38;5;124m\"\u001b[39m)\n\u001b[1;32m--> 221\u001b[0m \u001b[38;5;28;01mraise\u001b[39;00m error_class(\n\u001b[0;32m    222\u001b[0m     msg\u001b[38;5;241m=\u001b[39merror_value\u001b[38;5;241m.\u001b[39mget(\u001b[38;5;124m\"\u001b[39m\u001b[38;5;124mmsg\u001b[39m\u001b[38;5;124m\"\u001b[39m),\n\u001b[0;32m    223\u001b[0m     errno\u001b[38;5;241m=\u001b[39m\u001b[38;5;28;01mNone\u001b[39;00m \u001b[38;5;28;01mif\u001b[39;00m errno \u001b[38;5;129;01mis\u001b[39;00m \u001b[38;5;28;01mNone\u001b[39;00m \u001b[38;5;28;01melse\u001b[39;00m \u001b[38;5;28mint\u001b[39m(errno),\n\u001b[0;32m    224\u001b[0m     sqlstate\u001b[38;5;241m=\u001b[39merror_value\u001b[38;5;241m.\u001b[39mget(\u001b[38;5;124m\"\u001b[39m\u001b[38;5;124msqlstate\u001b[39m\u001b[38;5;124m\"\u001b[39m),\n\u001b[0;32m    225\u001b[0m     sfqid\u001b[38;5;241m=\u001b[39merror_value\u001b[38;5;241m.\u001b[39mget(\u001b[38;5;124m\"\u001b[39m\u001b[38;5;124msfqid\u001b[39m\u001b[38;5;124m\"\u001b[39m),\n\u001b[0;32m    226\u001b[0m     query\u001b[38;5;241m=\u001b[39merror_value\u001b[38;5;241m.\u001b[39mget(\u001b[38;5;124m\"\u001b[39m\u001b[38;5;124mquery\u001b[39m\u001b[38;5;124m\"\u001b[39m),\n\u001b[0;32m    227\u001b[0m     done_format_msg\u001b[38;5;241m=\u001b[39m(\n\u001b[0;32m    228\u001b[0m         \u001b[38;5;28;01mNone\u001b[39;00m \u001b[38;5;28;01mif\u001b[39;00m done_format_msg \u001b[38;5;129;01mis\u001b[39;00m \u001b[38;5;28;01mNone\u001b[39;00m \u001b[38;5;28;01melse\u001b[39;00m \u001b[38;5;28mbool\u001b[39m(done_format_msg)\n\u001b[0;32m    229\u001b[0m     ),\n\u001b[0;32m    230\u001b[0m     connection\u001b[38;5;241m=\u001b[39mconnection,\n\u001b[0;32m    231\u001b[0m     cursor\u001b[38;5;241m=\u001b[39mcursor,\n\u001b[0;32m    232\u001b[0m )\n",
      "\u001b[1;31mSnowparkSQLException\u001b[0m: (1304): 01b3b537-0002-4e04-005b-a60700031666: 100357 (P0000): Python Interpreter Error:\nTraceback (most recent call last):\n  File \"/home/udf/393627500893/udf_py_2062953880.zip/udf_py_2062953880.py\", line 78, in compute\n    return lock_function_once(func, invoked)(df)\n  File \"/home/udf/393627500893/udf_py_2062953880.zip/udf_py_2062953880.py\", line 71, in wrapper\n    return f(*args, **kwargs)\n  File \"C:\\Users\\Preston\\anaconda3\\envs\\python310\\lib\\site-packages\\snowflake\\ml\\modeling\\_internal\\snowpark_implementations\\snowpark_handlers.py\", line 137, in vec_batch_infer\n  File \"/usr/lib/python_udf/87dec2689362c1d2431f66bb95498922cda63a052a9fe283199e04628a8f0867/lib/python3.10/site-packages/sklearn/model_selection/_search.py\", line 519, in predict\n    return self.best_estimator_.predict(X)\n  File \"/usr/lib/python_udf/87dec2689362c1d2431f66bb95498922cda63a052a9fe283199e04628a8f0867/lib/python3.10/site-packages/sklearn/ensemble/_gb.py\", line 1779, in predict\n    X = self._validate_data(\n  File \"/usr/lib/python_udf/87dec2689362c1d2431f66bb95498922cda63a052a9fe283199e04628a8f0867/lib/python3.10/site-packages/sklearn/base.py\", line 604, in _validate_data\n    out = check_array(X, input_name=\"X\", **check_params)\n  File \"/usr/lib/python_udf/87dec2689362c1d2431f66bb95498922cda63a052a9fe283199e04628a8f0867/lib/python3.10/site-packages/sklearn/utils/validation.py\", line 959, in check_array\n    _assert_all_finite(\n  File \"/usr/lib/python_udf/87dec2689362c1d2431f66bb95498922cda63a052a9fe283199e04628a8f0867/lib/python3.10/site-packages/sklearn/utils/validation.py\", line 124, in _assert_all_finite\n    _assert_all_finite_element_wise(\n  File \"/usr/lib/python_udf/87dec2689362c1d2431f66bb95498922cda63a052a9fe283199e04628a8f0867/lib/python3.10/site-packages/sklearn/utils/validation.py\", line 173, in _assert_all_finite_element_wise\n    raise ValueError(msg_err)\nValueError: Input X contains NaN.\nGradientBoostingRegressor does not accept missing values encoded as NaN natively. For supervised learning, you might want to consider sklearn.ensemble.HistGradientBoostingClassifier and Regressor which accept missing values encoded as NaNs natively. Alternatively, it is possible to preprocess the data, for instance by using an imputer transformer in a pipeline or drop samples with missing values. See https://scikit-learn.org/stable/modules/impute.html You can find a list of all estimators that handle NaN values at the following page: https://scikit-learn.org/stable/modules/impute.html#estimators-that-handle-nan-values\n in function SNOWPARK_TEMP_FUNCTION_WJPTNA6WCR with handler udf_py_2062953880.compute"
     ]
    }
   ],
   "source": [
    "pred = grid_search.predict(enriched_df)\n",
    "pred.show()"
   ]
  },
  {
   "cell_type": "markdown",
   "id": "68ef8ae2",
   "metadata": {},
   "source": [
    "### Feature Store - Support Functions"
   ]
  },
  {
   "cell_type": "code",
   "execution_count": 15,
   "id": "bb553bb5",
   "metadata": {
    "id": "65594f8b-f7e7-4494-9d17-9d6e157e9a5e",
    "outputId": "45b16afc-711c-4168-94da-380a946b7d06"
   },
   "outputs": [
    {
     "data": {
      "text/plain": [
       "FeatureViewSlice(feature_view_ref=FeatureView(_name=WEATHER_FEATURES, _entities=[Entity(name=WEATHER, join_keys=['ID'], owner=None, desc=)], _feature_df=<snowflake.snowpark.dataframe.DataFrame object at 0x00000211AC7FA9E0>, _timestamp_col=None, _desc=weather features, _query=SELECT \"SEASON\", \"WEATHER\", \"TEMP\", \"ATEMP\", \"HUMIDITY\", \"WINDSPEED\",  CAST (((\"MONTH\" + 2 :: INT) / 3 :: INT) AS INT) AS \"QUARTER\", seq8(0) AS \"ID\" FROM model_data, _version=V1, _status=FeatureViewStatus.STATIC, _feature_desc=OrderedDict([('SEASON', ''), ('WEATHER', ''), ('TEMP', ''), ('ATEMP', ''), ('HUMIDITY', ''), ('WINDSPEED', ''), ('QUARTER', '')]), _refresh_freq=None, _database=SNOWPARK, _schema=TUTORIAL, _warehouse=None, _refresh_mode=None, _refresh_mode_reason=None, _owner=ACCOUNTADMIN), names=['TEMP'])"
      ]
     },
     "execution_count": 15,
     "metadata": {},
     "output_type": "execute_result"
    }
   ],
   "source": [
    "# FEATURE VIEW  FROM LIBRARY\n",
    "\n",
    "#SLICE - GET SUBSET OF FEATURES FROM A VIEW\n",
    "sliced_fv = fv.slice([\"TEMP\"])\n",
    "sliced_fv"
   ]
  },
  {
   "cell_type": "code",
   "execution_count": 16,
   "id": "b3da35ac",
   "metadata": {
    "id": "23531711-ffd7-434c-ba49-7ab2aabe3d40",
    "outputId": "795e449b-208c-4a07-81d1-6bb98aece296"
   },
   "outputs": [
    {
     "name": "stdout",
     "output_type": "stream",
     "text": [
      "WEATHER_FEATURES$V1\n",
      "SNOWPARK.TUTORIAL.WEATHER_FEATURES$V1\n"
     ]
    }
   ],
   "source": [
    "#FEATURE VIEW PHYSICAL NAME\n",
    "print(fv.physical_name())\n",
    "\n",
    "#FEATURE VIEW QUALIFIED NAME\n",
    "print(fv.fully_qualified_name())"
   ]
  },
  {
   "cell_type": "code",
   "execution_count": 17,
   "id": "0807ad17",
   "metadata": {
    "id": "4814d786-f248-42f9-b159-1bcda0100b21"
   },
   "outputs": [],
   "source": [
    "#SET DESCRIPTION TO FEATURE\n",
    "\n",
    "fv = fv.attach_feature_desc({\"TEMP\": \"Current Temperature\"})"
   ]
  },
  {
   "cell_type": "code",
   "execution_count": 19,
   "id": "42f9acf3",
   "metadata": {
    "id": "865eb310-6100-4a4b-a968-137d6611d1e6",
    "outputId": "f67d8893-f1d6-495c-ff47-e41d402bc0a1"
   },
   "outputs": [
    {
     "name": "stdout",
     "output_type": "stream",
     "text": [
      "---------------------------------------------------------------------------------------------------------------------------------------------------------------------------------------------------------------------------------------------------------------------------------------------------------------------------------------\n",
      "|\"NAME\"            |\"ENTITIES\"              |\"TIMESTAMP_COL\"  |\"DESC\"            |\"QUERY\"                                             |\"VERSION\"  |\"STATUS\"                  |\"FEATURE_DESC\"     |\"REFRESH_FREQ\"  |\"DATABASE\"  |\"SCHEMA\"  |\"WAREHOUSE\"  |\"REFRESH_MODE\"  |\"REFRESH_MODE_REASON\"  |\"OWNER\"       |\"PHYSICAL_NAME\"      |\n",
      "---------------------------------------------------------------------------------------------------------------------------------------------------------------------------------------------------------------------------------------------------------------------------------------------------------------------------------------\n",
      "|WEATHER_FEATURES  |[                       |NULL             |weather features  |SELECT \"SEASON\", \"WEATHER\", \"TEMP\", \"ATEMP\", \"H...  |V1         |FeatureViewStatus.STATIC  |{                  |NULL            |SNOWPARK    |TUTORIAL  |NULL         |NULL            |NULL                   |ACCOUNTADMIN  |WEATHER_FEATURES$V1  |\n",
      "|                  |  {                     |                 |                  |                                                    |           |                          |  \"ATEMP\": \"\",     |                |            |          |             |                |                       |              |                     |\n",
      "|                  |    \"desc\": \"\",         |                 |                  |                                                    |           |                          |  \"HUMIDITY\": \"\",  |                |            |          |             |                |                       |              |                     |\n",
      "|                  |    \"join_keys\": [      |                 |                  |                                                    |           |                          |  \"QUARTER\": \"\",   |                |            |          |             |                |                       |              |                     |\n",
      "|                  |      \"ID\"              |                 |                  |                                                    |           |                          |  \"SEASON\": \"\",    |                |            |          |             |                |                       |              |                     |\n",
      "|                  |    ],                  |                 |                  |                                                    |           |                          |  \"TEMP\": \"\",      |                |            |          |             |                |                       |              |                     |\n",
      "|                  |    \"name\": \"WEATHER\",  |                 |                  |                                                    |           |                          |  \"WEATHER\": \"\",   |                |            |          |             |                |                       |              |                     |\n",
      "|                  |    \"owner\": null       |                 |                  |                                                    |           |                          |  \"WINDSPEED\": \"\"  |                |            |          |             |                |                       |              |                     |\n",
      "|                  |  }                     |                 |                  |                                                    |           |                          |}                  |                |            |          |             |                |                       |              |                     |\n",
      "|                  |]                       |                 |                  |                                                    |           |                          |                   |                |            |          |             |                |                       |              |                     |\n",
      "---------------------------------------------------------------------------------------------------------------------------------------------------------------------------------------------------------------------------------------------------------------------------------------------------------------------------------------\n",
      "\n"
     ]
    }
   ],
   "source": [
    "# FEATURE STORE FROM LIBRARY\n",
    "\n",
    "#GET FEATURE VIEW\n",
    "fs.get_feature_view(\"WEATHER_FEATURES\", \"V1\").to_df(session).show()"
   ]
  },
  {
   "cell_type": "code",
   "execution_count": 20,
   "id": "21d1158e",
   "metadata": {
    "id": "a3af69d0-c9af-47e9-9b00-7da748ad129b",
    "outputId": "a21d450e-e21b-410a-8e87-94ca84e6e9ac"
   },
   "outputs": [
    {
     "name": "stderr",
     "output_type": "stream",
     "text": [
      "FeatureStore.suspend_feature_view() is in private preview since 1.0.8. Do not use it in production. \n"
     ]
    },
    {
     "ename": "RuntimeError",
     "evalue": "(1300) Failed to update feature view SNOWPARK.TUTORIAL.WEATHER_FEATURES$V1's status: (1304): 01b3b532-0002-4e07-005b-a6070002e64e: 001434 (42601): SQL compilation error:\ncannot use ALTER TABLE on a view; use ALTER VIEW instead",
     "output_type": "error",
     "traceback": [
      "\u001b[1;31m---------------------------------------------------------------------------\u001b[0m",
      "\u001b[1;31mSnowparkSQLException\u001b[0m                      Traceback (most recent call last)",
      "File \u001b[1;32m~\\anaconda3\\envs\\python310\\lib\\site-packages\\snowflake\\ml\\feature_store\\feature_store.py:1312\u001b[0m, in \u001b[0;36mFeatureStore._update_feature_view_status\u001b[1;34m(self, feature_view, operation)\u001b[0m\n\u001b[0;32m   1311\u001b[0m \u001b[38;5;28;01mtry\u001b[39;00m:\n\u001b[1;32m-> 1312\u001b[0m     \u001b[38;5;28;43mself\u001b[39;49m\u001b[38;5;241;43m.\u001b[39;49m\u001b[43m_session\u001b[49m\u001b[38;5;241;43m.\u001b[39;49m\u001b[43msql\u001b[49m\u001b[43m(\u001b[49m\u001b[38;5;124;43mf\u001b[39;49m\u001b[38;5;124;43m\"\u001b[39;49m\u001b[38;5;124;43mALTER DYNAMIC TABLE \u001b[39;49m\u001b[38;5;132;43;01m{\u001b[39;49;00m\u001b[43mfully_qualified_name\u001b[49m\u001b[38;5;132;43;01m}\u001b[39;49;00m\u001b[38;5;124;43m \u001b[39;49m\u001b[38;5;132;43;01m{\u001b[39;49;00m\u001b[43moperation\u001b[49m\u001b[38;5;132;43;01m}\u001b[39;49;00m\u001b[38;5;124;43m\"\u001b[39;49m\u001b[43m)\u001b[49m\u001b[38;5;241;43m.\u001b[39;49m\u001b[43mcollect\u001b[49m\u001b[43m(\u001b[49m\n\u001b[0;32m   1313\u001b[0m \u001b[43m        \u001b[49m\u001b[43mstatement_params\u001b[49m\u001b[38;5;241;43m=\u001b[39;49m\u001b[38;5;28;43mself\u001b[39;49m\u001b[38;5;241;43m.\u001b[39;49m\u001b[43m_telemetry_stmp\u001b[49m\n\u001b[0;32m   1314\u001b[0m \u001b[43m    \u001b[49m\u001b[43m)\u001b[49m\n\u001b[0;32m   1315\u001b[0m     \u001b[38;5;28mself\u001b[39m\u001b[38;5;241m.\u001b[39m_session\u001b[38;5;241m.\u001b[39msql(\u001b[38;5;124mf\u001b[39m\u001b[38;5;124m\"\u001b[39m\u001b[38;5;124mALTER TASK IF EXISTS \u001b[39m\u001b[38;5;132;01m{\u001b[39;00mfully_qualified_name\u001b[38;5;132;01m}\u001b[39;00m\u001b[38;5;124m \u001b[39m\u001b[38;5;132;01m{\u001b[39;00moperation\u001b[38;5;132;01m}\u001b[39;00m\u001b[38;5;124m\"\u001b[39m)\u001b[38;5;241m.\u001b[39mcollect(\n\u001b[0;32m   1316\u001b[0m         statement_params\u001b[38;5;241m=\u001b[39m\u001b[38;5;28mself\u001b[39m\u001b[38;5;241m.\u001b[39m_telemetry_stmp\n\u001b[0;32m   1317\u001b[0m     )\n",
      "File \u001b[1;32m~\\anaconda3\\envs\\python310\\lib\\site-packages\\snowflake\\snowpark\\_internal\\telemetry.py:139\u001b[0m, in \u001b[0;36mdf_collect_api_telemetry.<locals>.wrap\u001b[1;34m(*args, **kwargs)\u001b[0m\n\u001b[0;32m    138\u001b[0m \u001b[38;5;28;01mwith\u001b[39;00m args[\u001b[38;5;241m0\u001b[39m]\u001b[38;5;241m.\u001b[39m_session\u001b[38;5;241m.\u001b[39mquery_history() \u001b[38;5;28;01mas\u001b[39;00m query_history:\n\u001b[1;32m--> 139\u001b[0m     result \u001b[38;5;241m=\u001b[39m func(\u001b[38;5;241m*\u001b[39margs, \u001b[38;5;241m*\u001b[39m\u001b[38;5;241m*\u001b[39mkwargs)\n\u001b[0;32m    140\u001b[0m plan \u001b[38;5;241m=\u001b[39m args[\u001b[38;5;241m0\u001b[39m]\u001b[38;5;241m.\u001b[39m_select_statement \u001b[38;5;129;01mor\u001b[39;00m args[\u001b[38;5;241m0\u001b[39m]\u001b[38;5;241m.\u001b[39m_plan\n",
      "File \u001b[1;32m~\\anaconda3\\envs\\python310\\lib\\site-packages\\snowflake\\snowpark\\dataframe.py:594\u001b[0m, in \u001b[0;36mDataFrame.collect\u001b[1;34m(self, statement_params, block, log_on_exception, case_sensitive)\u001b[0m\n\u001b[0;32m    580\u001b[0m \u001b[38;5;250m\u001b[39m\u001b[38;5;124;03m\"\"\"Executes the query representing this DataFrame and returns the result as a\u001b[39;00m\n\u001b[0;32m    581\u001b[0m \u001b[38;5;124;03mlist of :class:`Row` objects.\u001b[39;00m\n\u001b[0;32m    582\u001b[0m \n\u001b[1;32m   (...)\u001b[0m\n\u001b[0;32m    592\u001b[0m \u001b[38;5;124;03m    :meth:`collect_nowait()`\u001b[39;00m\n\u001b[0;32m    593\u001b[0m \u001b[38;5;124;03m\"\"\"\u001b[39;00m\n\u001b[1;32m--> 594\u001b[0m \u001b[38;5;28;01mreturn\u001b[39;00m \u001b[38;5;28;43mself\u001b[39;49m\u001b[38;5;241;43m.\u001b[39;49m\u001b[43m_internal_collect_with_tag_no_telemetry\u001b[49m\u001b[43m(\u001b[49m\n\u001b[0;32m    595\u001b[0m \u001b[43m    \u001b[49m\u001b[43mstatement_params\u001b[49m\u001b[38;5;241;43m=\u001b[39;49m\u001b[43mstatement_params\u001b[49m\u001b[43m,\u001b[49m\n\u001b[0;32m    596\u001b[0m \u001b[43m    \u001b[49m\u001b[43mblock\u001b[49m\u001b[38;5;241;43m=\u001b[39;49m\u001b[43mblock\u001b[49m\u001b[43m,\u001b[49m\n\u001b[0;32m    597\u001b[0m \u001b[43m    \u001b[49m\u001b[43mlog_on_exception\u001b[49m\u001b[38;5;241;43m=\u001b[39;49m\u001b[43mlog_on_exception\u001b[49m\u001b[43m,\u001b[49m\n\u001b[0;32m    598\u001b[0m \u001b[43m    \u001b[49m\u001b[43mcase_sensitive\u001b[49m\u001b[38;5;241;43m=\u001b[39;49m\u001b[43mcase_sensitive\u001b[49m\u001b[43m,\u001b[49m\n\u001b[0;32m    599\u001b[0m \u001b[43m\u001b[49m\u001b[43m)\u001b[49m\n",
      "File \u001b[1;32m~\\anaconda3\\envs\\python310\\lib\\site-packages\\snowflake\\snowpark\\dataframe.py:641\u001b[0m, in \u001b[0;36mDataFrame._internal_collect_with_tag_no_telemetry\u001b[1;34m(self, statement_params, block, data_type, log_on_exception, case_sensitive)\u001b[0m\n\u001b[0;32m    629\u001b[0m \u001b[38;5;28;01mdef\u001b[39;00m \u001b[38;5;21m_internal_collect_with_tag_no_telemetry\u001b[39m(\n\u001b[0;32m    630\u001b[0m     \u001b[38;5;28mself\u001b[39m,\n\u001b[0;32m    631\u001b[0m     \u001b[38;5;241m*\u001b[39m,\n\u001b[1;32m   (...)\u001b[0m\n\u001b[0;32m    639\u001b[0m     \u001b[38;5;66;03m# we should always call this method instead of collect(), to make sure the\u001b[39;00m\n\u001b[0;32m    640\u001b[0m     \u001b[38;5;66;03m# query tag is set properly.\u001b[39;00m\n\u001b[1;32m--> 641\u001b[0m     \u001b[38;5;28;01mreturn\u001b[39;00m \u001b[38;5;28;43mself\u001b[39;49m\u001b[38;5;241;43m.\u001b[39;49m\u001b[43m_session\u001b[49m\u001b[38;5;241;43m.\u001b[39;49m\u001b[43m_conn\u001b[49m\u001b[38;5;241;43m.\u001b[39;49m\u001b[43mexecute\u001b[49m\u001b[43m(\u001b[49m\n\u001b[0;32m    642\u001b[0m \u001b[43m        \u001b[49m\u001b[38;5;28;43mself\u001b[39;49m\u001b[38;5;241;43m.\u001b[39;49m\u001b[43m_plan\u001b[49m\u001b[43m,\u001b[49m\n\u001b[0;32m    643\u001b[0m \u001b[43m        \u001b[49m\u001b[43mblock\u001b[49m\u001b[38;5;241;43m=\u001b[39;49m\u001b[43mblock\u001b[49m\u001b[43m,\u001b[49m\n\u001b[0;32m    644\u001b[0m \u001b[43m        \u001b[49m\u001b[43mdata_type\u001b[49m\u001b[38;5;241;43m=\u001b[39;49m\u001b[43mdata_type\u001b[49m\u001b[43m,\u001b[49m\n\u001b[0;32m    645\u001b[0m \u001b[43m        \u001b[49m\u001b[43m_statement_params\u001b[49m\u001b[38;5;241;43m=\u001b[39;49m\u001b[43mcreate_or_update_statement_params_with_query_tag\u001b[49m\u001b[43m(\u001b[49m\n\u001b[0;32m    646\u001b[0m \u001b[43m            \u001b[49m\u001b[43mstatement_params\u001b[49m\u001b[43m \u001b[49m\u001b[38;5;129;43;01mor\u001b[39;49;00m\u001b[43m \u001b[49m\u001b[38;5;28;43mself\u001b[39;49m\u001b[38;5;241;43m.\u001b[39;49m\u001b[43m_statement_params\u001b[49m\u001b[43m,\u001b[49m\n\u001b[0;32m    647\u001b[0m \u001b[43m            \u001b[49m\u001b[38;5;28;43mself\u001b[39;49m\u001b[38;5;241;43m.\u001b[39;49m\u001b[43m_session\u001b[49m\u001b[38;5;241;43m.\u001b[39;49m\u001b[43mquery_tag\u001b[49m\u001b[43m,\u001b[49m\n\u001b[0;32m    648\u001b[0m \u001b[43m            \u001b[49m\u001b[43mSKIP_LEVELS_THREE\u001b[49m\u001b[43m,\u001b[49m\n\u001b[0;32m    649\u001b[0m \u001b[43m        \u001b[49m\u001b[43m)\u001b[49m\u001b[43m,\u001b[49m\n\u001b[0;32m    650\u001b[0m \u001b[43m        \u001b[49m\u001b[43mlog_on_exception\u001b[49m\u001b[38;5;241;43m=\u001b[39;49m\u001b[43mlog_on_exception\u001b[49m\u001b[43m,\u001b[49m\n\u001b[0;32m    651\u001b[0m \u001b[43m        \u001b[49m\u001b[43mcase_sensitive\u001b[49m\u001b[38;5;241;43m=\u001b[39;49m\u001b[43mcase_sensitive\u001b[49m\u001b[43m,\u001b[49m\n\u001b[0;32m    652\u001b[0m \u001b[43m    \u001b[49m\u001b[43m)\u001b[49m\n",
      "File \u001b[1;32m~\\anaconda3\\envs\\python310\\lib\\site-packages\\snowflake\\snowpark\\_internal\\server_connection.py:510\u001b[0m, in \u001b[0;36mServerConnection.execute\u001b[1;34m(self, plan, to_pandas, to_iter, block, data_type, log_on_exception, case_sensitive, **kwargs)\u001b[0m\n\u001b[0;32m    507\u001b[0m     \u001b[38;5;28;01mraise\u001b[39;00m \u001b[38;5;167;01mNotImplementedError\u001b[39;00m(\n\u001b[0;32m    508\u001b[0m         \u001b[38;5;124m\"\u001b[39m\u001b[38;5;124mAsync query is not supported in stored procedure yet\u001b[39m\u001b[38;5;124m\"\u001b[39m\n\u001b[0;32m    509\u001b[0m     )\n\u001b[1;32m--> 510\u001b[0m result_set, result_meta \u001b[38;5;241m=\u001b[39m \u001b[38;5;28mself\u001b[39m\u001b[38;5;241m.\u001b[39mget_result_set(\n\u001b[0;32m    511\u001b[0m     plan,\n\u001b[0;32m    512\u001b[0m     to_pandas,\n\u001b[0;32m    513\u001b[0m     to_iter,\n\u001b[0;32m    514\u001b[0m     \u001b[38;5;241m*\u001b[39m\u001b[38;5;241m*\u001b[39mkwargs,\n\u001b[0;32m    515\u001b[0m     block\u001b[38;5;241m=\u001b[39mblock,\n\u001b[0;32m    516\u001b[0m     data_type\u001b[38;5;241m=\u001b[39mdata_type,\n\u001b[0;32m    517\u001b[0m     log_on_exception\u001b[38;5;241m=\u001b[39mlog_on_exception,\n\u001b[0;32m    518\u001b[0m     case_sensitive\u001b[38;5;241m=\u001b[39mcase_sensitive,\n\u001b[0;32m    519\u001b[0m )\n\u001b[0;32m    520\u001b[0m \u001b[38;5;28;01mif\u001b[39;00m \u001b[38;5;129;01mnot\u001b[39;00m block:\n",
      "File \u001b[1;32m~\\anaconda3\\envs\\python310\\lib\\site-packages\\snowflake\\snowpark\\_internal\\analyzer\\snowflake_plan.py:190\u001b[0m, in \u001b[0;36mSnowflakePlan.Decorator.wrap_exception.<locals>.wrap\u001b[1;34m(*args, **kwargs)\u001b[0m\n\u001b[0;32m    187\u001b[0m ne \u001b[38;5;241m=\u001b[39m SnowparkClientExceptionMessages\u001b[38;5;241m.\u001b[39mSQL_EXCEPTION_FROM_PROGRAMMING_ERROR(\n\u001b[0;32m    188\u001b[0m     e\n\u001b[0;32m    189\u001b[0m )\n\u001b[1;32m--> 190\u001b[0m \u001b[38;5;28;01mraise\u001b[39;00m ne\u001b[38;5;241m.\u001b[39mwith_traceback(tb) \u001b[38;5;28;01mfrom\u001b[39;00m \u001b[38;5;28;01mNone\u001b[39;00m\n",
      "File \u001b[1;32m~\\anaconda3\\envs\\python310\\lib\\site-packages\\snowflake\\snowpark\\_internal\\analyzer\\snowflake_plan.py:121\u001b[0m, in \u001b[0;36mSnowflakePlan.Decorator.wrap_exception.<locals>.wrap\u001b[1;34m(*args, **kwargs)\u001b[0m\n\u001b[0;32m    120\u001b[0m \u001b[38;5;28;01mtry\u001b[39;00m:\n\u001b[1;32m--> 121\u001b[0m     \u001b[38;5;28;01mreturn\u001b[39;00m func(\u001b[38;5;241m*\u001b[39margs, \u001b[38;5;241m*\u001b[39m\u001b[38;5;241m*\u001b[39mkwargs)\n\u001b[0;32m    122\u001b[0m \u001b[38;5;28;01mexcept\u001b[39;00m snowflake\u001b[38;5;241m.\u001b[39mconnector\u001b[38;5;241m.\u001b[39merrors\u001b[38;5;241m.\u001b[39mProgrammingError \u001b[38;5;28;01mas\u001b[39;00m e:\n",
      "File \u001b[1;32m~\\anaconda3\\envs\\python310\\lib\\site-packages\\snowflake\\snowpark\\_internal\\server_connection.py:612\u001b[0m, in \u001b[0;36mServerConnection.get_result_set\u001b[1;34m(self, plan, to_pandas, to_iter, block, data_type, log_on_exception, case_sensitive, **kwargs)\u001b[0m\n\u001b[0;32m    611\u001b[0m     final_query \u001b[38;5;241m=\u001b[39m final_query\u001b[38;5;241m.\u001b[39mreplace(holder, id_)\n\u001b[1;32m--> 612\u001b[0m result \u001b[38;5;241m=\u001b[39m \u001b[38;5;28mself\u001b[39m\u001b[38;5;241m.\u001b[39mrun_query(\n\u001b[0;32m    613\u001b[0m     final_query,\n\u001b[0;32m    614\u001b[0m     to_pandas,\n\u001b[0;32m    615\u001b[0m     to_iter \u001b[38;5;129;01mand\u001b[39;00m (i \u001b[38;5;241m==\u001b[39m \u001b[38;5;28mlen\u001b[39m(plan\u001b[38;5;241m.\u001b[39mqueries) \u001b[38;5;241m-\u001b[39m \u001b[38;5;241m1\u001b[39m),\n\u001b[0;32m    616\u001b[0m     is_ddl_on_temp_object\u001b[38;5;241m=\u001b[39mquery\u001b[38;5;241m.\u001b[39mis_ddl_on_temp_object,\n\u001b[0;32m    617\u001b[0m     block\u001b[38;5;241m=\u001b[39m\u001b[38;5;129;01mnot\u001b[39;00m is_last,\n\u001b[0;32m    618\u001b[0m     data_type\u001b[38;5;241m=\u001b[39mdata_type,\n\u001b[0;32m    619\u001b[0m     async_job_plan\u001b[38;5;241m=\u001b[39mplan,\n\u001b[0;32m    620\u001b[0m     log_on_exception\u001b[38;5;241m=\u001b[39mlog_on_exception,\n\u001b[0;32m    621\u001b[0m     case_sensitive\u001b[38;5;241m=\u001b[39mcase_sensitive,\n\u001b[0;32m    622\u001b[0m     params\u001b[38;5;241m=\u001b[39mquery\u001b[38;5;241m.\u001b[39mparams,\n\u001b[0;32m    623\u001b[0m     \u001b[38;5;241m*\u001b[39m\u001b[38;5;241m*\u001b[39mkwargs,\n\u001b[0;32m    624\u001b[0m )\n\u001b[0;32m    625\u001b[0m placeholders[query\u001b[38;5;241m.\u001b[39mquery_id_place_holder] \u001b[38;5;241m=\u001b[39m (\n\u001b[0;32m    626\u001b[0m     result[\u001b[38;5;124m\"\u001b[39m\u001b[38;5;124msfqid\u001b[39m\u001b[38;5;124m\"\u001b[39m] \u001b[38;5;28;01mif\u001b[39;00m \u001b[38;5;129;01mnot\u001b[39;00m is_last \u001b[38;5;28;01melse\u001b[39;00m result\u001b[38;5;241m.\u001b[39mquery_id\n\u001b[0;32m    627\u001b[0m )\n",
      "File \u001b[1;32m~\\anaconda3\\envs\\python310\\lib\\site-packages\\snowflake\\snowpark\\_internal\\server_connection.py:123\u001b[0m, in \u001b[0;36mServerConnection._Decorator.wrap_exception.<locals>.wrap\u001b[1;34m(*args, **kwargs)\u001b[0m\n\u001b[0;32m    122\u001b[0m \u001b[38;5;28;01mexcept\u001b[39;00m \u001b[38;5;167;01mException\u001b[39;00m \u001b[38;5;28;01mas\u001b[39;00m ex:\n\u001b[1;32m--> 123\u001b[0m     \u001b[38;5;28;01mraise\u001b[39;00m ex\n",
      "File \u001b[1;32m~\\anaconda3\\envs\\python310\\lib\\site-packages\\snowflake\\snowpark\\_internal\\server_connection.py:117\u001b[0m, in \u001b[0;36mServerConnection._Decorator.wrap_exception.<locals>.wrap\u001b[1;34m(*args, **kwargs)\u001b[0m\n\u001b[0;32m    116\u001b[0m \u001b[38;5;28;01mtry\u001b[39;00m:\n\u001b[1;32m--> 117\u001b[0m     \u001b[38;5;28;01mreturn\u001b[39;00m func(\u001b[38;5;241m*\u001b[39margs, \u001b[38;5;241m*\u001b[39m\u001b[38;5;241m*\u001b[39mkwargs)\n\u001b[0;32m    118\u001b[0m \u001b[38;5;28;01mexcept\u001b[39;00m ReauthenticationRequest \u001b[38;5;28;01mas\u001b[39;00m ex:\n",
      "File \u001b[1;32m~\\anaconda3\\envs\\python310\\lib\\site-packages\\snowflake\\snowpark\\_internal\\server_connection.py:417\u001b[0m, in \u001b[0;36mServerConnection.run_query\u001b[1;34m(self, query, to_pandas, to_iter, is_ddl_on_temp_object, block, data_type, async_job_plan, log_on_exception, case_sensitive, params, num_statements, **kwargs)\u001b[0m\n\u001b[0;32m    416\u001b[0m         logger\u001b[38;5;241m.\u001b[39merror(\u001b[38;5;124mf\u001b[39m\u001b[38;5;124m\"\u001b[39m\u001b[38;5;124mFailed to execute query\u001b[39m\u001b[38;5;132;01m{\u001b[39;00mquery_id_log\u001b[38;5;132;01m}\u001b[39;00m\u001b[38;5;124m \u001b[39m\u001b[38;5;132;01m{\u001b[39;00mquery\u001b[38;5;132;01m}\u001b[39;00m\u001b[38;5;130;01m\\n\u001b[39;00m\u001b[38;5;132;01m{\u001b[39;00mex\u001b[38;5;132;01m}\u001b[39;00m\u001b[38;5;124m\"\u001b[39m)\n\u001b[1;32m--> 417\u001b[0m     \u001b[38;5;28;01mraise\u001b[39;00m ex\n\u001b[0;32m    419\u001b[0m \u001b[38;5;66;03m# fetch_pandas_all/batches() only works for SELECT statements\u001b[39;00m\n\u001b[0;32m    420\u001b[0m \u001b[38;5;66;03m# We call fetchall() if fetch_pandas_all/batches() fails,\u001b[39;00m\n\u001b[0;32m    421\u001b[0m \u001b[38;5;66;03m# because when the query plan has multiple queries, it will\u001b[39;00m\n\u001b[0;32m    422\u001b[0m \u001b[38;5;66;03m# have non-select statements, and it shouldn't fail if the user\u001b[39;00m\n\u001b[0;32m    423\u001b[0m \u001b[38;5;66;03m# calls to_pandas() to execute the query.\u001b[39;00m\n",
      "File \u001b[1;32m~\\anaconda3\\envs\\python310\\lib\\site-packages\\snowflake\\snowpark\\_internal\\server_connection.py:402\u001b[0m, in \u001b[0;36mServerConnection.run_query\u001b[1;34m(self, query, to_pandas, to_iter, is_ddl_on_temp_object, block, data_type, async_job_plan, log_on_exception, case_sensitive, params, num_statements, **kwargs)\u001b[0m\n\u001b[0;32m    401\u001b[0m \u001b[38;5;28;01mif\u001b[39;00m block:\n\u001b[1;32m--> 402\u001b[0m     results_cursor \u001b[38;5;241m=\u001b[39m \u001b[38;5;28mself\u001b[39m\u001b[38;5;241m.\u001b[39mexecute_and_notify_query_listener(\n\u001b[0;32m    403\u001b[0m         query, params\u001b[38;5;241m=\u001b[39mparams, \u001b[38;5;241m*\u001b[39m\u001b[38;5;241m*\u001b[39mkwargs\n\u001b[0;32m    404\u001b[0m     )\n\u001b[0;32m    405\u001b[0m     logger\u001b[38;5;241m.\u001b[39mdebug(\u001b[38;5;124mf\u001b[39m\u001b[38;5;124m\"\u001b[39m\u001b[38;5;124mExecute query [queryID: \u001b[39m\u001b[38;5;132;01m{\u001b[39;00mresults_cursor\u001b[38;5;241m.\u001b[39msfqid\u001b[38;5;132;01m}\u001b[39;00m\u001b[38;5;124m] \u001b[39m\u001b[38;5;132;01m{\u001b[39;00mquery\u001b[38;5;132;01m}\u001b[39;00m\u001b[38;5;124m\"\u001b[39m)\n",
      "File \u001b[1;32m~\\anaconda3\\envs\\python310\\lib\\site-packages\\snowflake\\snowpark\\_internal\\server_connection.py:354\u001b[0m, in \u001b[0;36mServerConnection.execute_and_notify_query_listener\u001b[1;34m(self, query, **kwargs)\u001b[0m\n\u001b[0;32m    351\u001b[0m \u001b[38;5;28;01mdef\u001b[39;00m \u001b[38;5;21mexecute_and_notify_query_listener\u001b[39m(\n\u001b[0;32m    352\u001b[0m     \u001b[38;5;28mself\u001b[39m, query: \u001b[38;5;28mstr\u001b[39m, \u001b[38;5;241m*\u001b[39m\u001b[38;5;241m*\u001b[39mkwargs: Any\n\u001b[0;32m    353\u001b[0m ) \u001b[38;5;241m-\u001b[39m\u001b[38;5;241m>\u001b[39m SnowflakeCursor:\n\u001b[1;32m--> 354\u001b[0m     results_cursor \u001b[38;5;241m=\u001b[39m \u001b[38;5;28mself\u001b[39m\u001b[38;5;241m.\u001b[39m_cursor\u001b[38;5;241m.\u001b[39mexecute(query, \u001b[38;5;241m*\u001b[39m\u001b[38;5;241m*\u001b[39mkwargs)\n\u001b[0;32m    355\u001b[0m     \u001b[38;5;28mself\u001b[39m\u001b[38;5;241m.\u001b[39mnotify_query_listeners(\n\u001b[0;32m    356\u001b[0m         QueryRecord(results_cursor\u001b[38;5;241m.\u001b[39msfqid, results_cursor\u001b[38;5;241m.\u001b[39mquery)\n\u001b[0;32m    357\u001b[0m     )\n",
      "File \u001b[1;32m~\\anaconda3\\envs\\python310\\lib\\site-packages\\snowflake\\connector\\cursor.py:1080\u001b[0m, in \u001b[0;36mSnowflakeCursor.execute\u001b[1;34m(self, command, params, _bind_stage, timeout, _exec_async, _no_retry, _do_reset, _put_callback, _put_azure_callback, _put_callback_output_stream, _get_callback, _get_azure_callback, _get_callback_output_stream, _show_progress_bar, _statement_params, _is_internal, _describe_only, _no_results, _is_put_get, _raise_put_get_error, _force_put_overwrite, _skip_upload_on_content_match, file_stream, num_statements)\u001b[0m\n\u001b[0;32m   1079\u001b[0m     error_class \u001b[38;5;241m=\u001b[39m IntegrityError \u001b[38;5;28;01mif\u001b[39;00m is_integrity_error \u001b[38;5;28;01melse\u001b[39;00m ProgrammingError\n\u001b[1;32m-> 1080\u001b[0m     \u001b[43mError\u001b[49m\u001b[38;5;241;43m.\u001b[39;49m\u001b[43merrorhandler_wrapper\u001b[49m\u001b[43m(\u001b[49m\u001b[38;5;28;43mself\u001b[39;49m\u001b[38;5;241;43m.\u001b[39;49m\u001b[43mconnection\u001b[49m\u001b[43m,\u001b[49m\u001b[43m \u001b[49m\u001b[38;5;28;43mself\u001b[39;49m\u001b[43m,\u001b[49m\u001b[43m \u001b[49m\u001b[43merror_class\u001b[49m\u001b[43m,\u001b[49m\u001b[43m \u001b[49m\u001b[43merrvalue\u001b[49m\u001b[43m)\u001b[49m\n\u001b[0;32m   1081\u001b[0m \u001b[38;5;28;01mreturn\u001b[39;00m \u001b[38;5;28mself\u001b[39m\n",
      "File \u001b[1;32m~\\anaconda3\\envs\\python310\\lib\\site-packages\\snowflake\\connector\\errors.py:290\u001b[0m, in \u001b[0;36mError.errorhandler_wrapper\u001b[1;34m(connection, cursor, error_class, error_value)\u001b[0m\n\u001b[0;32m    274\u001b[0m \u001b[38;5;250m\u001b[39m\u001b[38;5;124;03m\"\"\"Error handler wrapper that calls the errorhandler method.\u001b[39;00m\n\u001b[0;32m    275\u001b[0m \n\u001b[0;32m    276\u001b[0m \u001b[38;5;124;03mArgs:\u001b[39;00m\n\u001b[1;32m   (...)\u001b[0m\n\u001b[0;32m    287\u001b[0m \u001b[38;5;124;03m    exception to the first handler in that order.\u001b[39;00m\n\u001b[0;32m    288\u001b[0m \u001b[38;5;124;03m\"\"\"\u001b[39;00m\n\u001b[1;32m--> 290\u001b[0m handed_over \u001b[38;5;241m=\u001b[39m \u001b[43mError\u001b[49m\u001b[38;5;241;43m.\u001b[39;49m\u001b[43mhand_to_other_handler\u001b[49m\u001b[43m(\u001b[49m\n\u001b[0;32m    291\u001b[0m \u001b[43m    \u001b[49m\u001b[43mconnection\u001b[49m\u001b[43m,\u001b[49m\n\u001b[0;32m    292\u001b[0m \u001b[43m    \u001b[49m\u001b[43mcursor\u001b[49m\u001b[43m,\u001b[49m\n\u001b[0;32m    293\u001b[0m \u001b[43m    \u001b[49m\u001b[43merror_class\u001b[49m\u001b[43m,\u001b[49m\n\u001b[0;32m    294\u001b[0m \u001b[43m    \u001b[49m\u001b[43merror_value\u001b[49m\u001b[43m,\u001b[49m\n\u001b[0;32m    295\u001b[0m \u001b[43m\u001b[49m\u001b[43m)\u001b[49m\n\u001b[0;32m    296\u001b[0m \u001b[38;5;28;01mif\u001b[39;00m \u001b[38;5;129;01mnot\u001b[39;00m handed_over:\n",
      "File \u001b[1;32m~\\anaconda3\\envs\\python310\\lib\\site-packages\\snowflake\\connector\\errors.py:345\u001b[0m, in \u001b[0;36mError.hand_to_other_handler\u001b[1;34m(connection, cursor, error_class, error_value)\u001b[0m\n\u001b[0;32m    344\u001b[0m cursor\u001b[38;5;241m.\u001b[39mmessages\u001b[38;5;241m.\u001b[39mappend((error_class, error_value))\n\u001b[1;32m--> 345\u001b[0m \u001b[43mcursor\u001b[49m\u001b[38;5;241;43m.\u001b[39;49m\u001b[43merrorhandler\u001b[49m\u001b[43m(\u001b[49m\u001b[43mconnection\u001b[49m\u001b[43m,\u001b[49m\u001b[43m \u001b[49m\u001b[43mcursor\u001b[49m\u001b[43m,\u001b[49m\u001b[43m \u001b[49m\u001b[43merror_class\u001b[49m\u001b[43m,\u001b[49m\u001b[43m \u001b[49m\u001b[43merror_value\u001b[49m\u001b[43m)\u001b[49m\n\u001b[0;32m    346\u001b[0m \u001b[38;5;28;01mreturn\u001b[39;00m \u001b[38;5;28;01mTrue\u001b[39;00m\n",
      "File \u001b[1;32m~\\anaconda3\\envs\\python310\\lib\\site-packages\\snowflake\\connector\\errors.py:221\u001b[0m, in \u001b[0;36mError.default_errorhandler\u001b[1;34m(connection, cursor, error_class, error_value)\u001b[0m\n\u001b[0;32m    220\u001b[0m done_format_msg \u001b[38;5;241m=\u001b[39m error_value\u001b[38;5;241m.\u001b[39mget(\u001b[38;5;124m\"\u001b[39m\u001b[38;5;124mdone_format_msg\u001b[39m\u001b[38;5;124m\"\u001b[39m)\n\u001b[1;32m--> 221\u001b[0m \u001b[38;5;28;01mraise\u001b[39;00m error_class(\n\u001b[0;32m    222\u001b[0m     msg\u001b[38;5;241m=\u001b[39merror_value\u001b[38;5;241m.\u001b[39mget(\u001b[38;5;124m\"\u001b[39m\u001b[38;5;124mmsg\u001b[39m\u001b[38;5;124m\"\u001b[39m),\n\u001b[0;32m    223\u001b[0m     errno\u001b[38;5;241m=\u001b[39m\u001b[38;5;28;01mNone\u001b[39;00m \u001b[38;5;28;01mif\u001b[39;00m errno \u001b[38;5;129;01mis\u001b[39;00m \u001b[38;5;28;01mNone\u001b[39;00m \u001b[38;5;28;01melse\u001b[39;00m \u001b[38;5;28mint\u001b[39m(errno),\n\u001b[0;32m    224\u001b[0m     sqlstate\u001b[38;5;241m=\u001b[39merror_value\u001b[38;5;241m.\u001b[39mget(\u001b[38;5;124m\"\u001b[39m\u001b[38;5;124msqlstate\u001b[39m\u001b[38;5;124m\"\u001b[39m),\n\u001b[0;32m    225\u001b[0m     sfqid\u001b[38;5;241m=\u001b[39merror_value\u001b[38;5;241m.\u001b[39mget(\u001b[38;5;124m\"\u001b[39m\u001b[38;5;124msfqid\u001b[39m\u001b[38;5;124m\"\u001b[39m),\n\u001b[0;32m    226\u001b[0m     query\u001b[38;5;241m=\u001b[39merror_value\u001b[38;5;241m.\u001b[39mget(\u001b[38;5;124m\"\u001b[39m\u001b[38;5;124mquery\u001b[39m\u001b[38;5;124m\"\u001b[39m),\n\u001b[0;32m    227\u001b[0m     done_format_msg\u001b[38;5;241m=\u001b[39m(\n\u001b[0;32m    228\u001b[0m         \u001b[38;5;28;01mNone\u001b[39;00m \u001b[38;5;28;01mif\u001b[39;00m done_format_msg \u001b[38;5;129;01mis\u001b[39;00m \u001b[38;5;28;01mNone\u001b[39;00m \u001b[38;5;28;01melse\u001b[39;00m \u001b[38;5;28mbool\u001b[39m(done_format_msg)\n\u001b[0;32m    229\u001b[0m     ),\n\u001b[0;32m    230\u001b[0m     connection\u001b[38;5;241m=\u001b[39mconnection,\n\u001b[0;32m    231\u001b[0m     cursor\u001b[38;5;241m=\u001b[39mcursor,\n\u001b[0;32m    232\u001b[0m )\n",
      "\u001b[1;31mSnowparkSQLException\u001b[0m: (1304): 01b3b532-0002-4e07-005b-a6070002e64e: 001434 (42601): SQL compilation error:\ncannot use ALTER TABLE on a view; use ALTER VIEW instead",
      "\nThe above exception was the direct cause of the following exception:\n",
      "\u001b[1;31mSnowflakeMLException\u001b[0m                      Traceback (most recent call last)",
      "File \u001b[1;32m~\\anaconda3\\envs\\python310\\lib\\site-packages\\snowflake\\ml\\_internal\\telemetry.py:367\u001b[0m, in \u001b[0;36msend_api_usage_telemetry.<locals>.decorator.<locals>.wrap\u001b[1;34m(*args, **kwargs)\u001b[0m\n\u001b[0;32m    366\u001b[0m \u001b[38;5;28;01mtry\u001b[39;00m:\n\u001b[1;32m--> 367\u001b[0m     res \u001b[38;5;241m=\u001b[39m func(\u001b[38;5;241m*\u001b[39margs, \u001b[38;5;241m*\u001b[39m\u001b[38;5;241m*\u001b[39mkwargs)\n\u001b[0;32m    368\u001b[0m \u001b[38;5;28;01mexcept\u001b[39;00m \u001b[38;5;167;01mException\u001b[39;00m \u001b[38;5;28;01mas\u001b[39;00m e:\n",
      "File \u001b[1;32m~\\anaconda3\\envs\\python310\\lib\\site-packages\\snowflake\\snowpark\\_internal\\utils.py:661\u001b[0m, in \u001b[0;36mfunc_decorator.<locals>.wrapper.<locals>.func_call_wrapper\u001b[1;34m(*args, **kwargs)\u001b[0m\n\u001b[0;32m    660\u001b[0m warning(func\u001b[38;5;241m.\u001b[39m\u001b[38;5;18m__qualname__\u001b[39m, warning_text)\n\u001b[1;32m--> 661\u001b[0m \u001b[38;5;28;01mreturn\u001b[39;00m func(\u001b[38;5;241m*\u001b[39margs, \u001b[38;5;241m*\u001b[39m\u001b[38;5;241m*\u001b[39mkwargs)\n",
      "File \u001b[1;32m~\\anaconda3\\envs\\python310\\lib\\site-packages\\snowflake\\ml\\feature_store\\feature_store.py:97\u001b[0m, in \u001b[0;36mswitch_warehouse.<locals>.wrapper\u001b[1;34m(self, *args, **kargs)\u001b[0m\n\u001b[0;32m     96\u001b[0m         warehouse_updated \u001b[38;5;241m=\u001b[39m \u001b[38;5;28;01mTrue\u001b[39;00m\n\u001b[1;32m---> 97\u001b[0m     \u001b[38;5;28;01mreturn\u001b[39;00m f(\u001b[38;5;28mself\u001b[39m, \u001b[38;5;241m*\u001b[39margs, \u001b[38;5;241m*\u001b[39m\u001b[38;5;241m*\u001b[39mkargs)\n\u001b[0;32m     98\u001b[0m \u001b[38;5;28;01mfinally\u001b[39;00m:\n",
      "File \u001b[1;32m~\\anaconda3\\envs\\python310\\lib\\site-packages\\snowflake\\ml\\feature_store\\feature_store.py:116\u001b[0m, in \u001b[0;36mdispatch_decorator.<locals>.decorator.<locals>.wrap\u001b[1;34m(self, *args, **kargs)\u001b[0m\n\u001b[0;32m    111\u001b[0m \u001b[38;5;129m@telemetry\u001b[39m\u001b[38;5;241m.\u001b[39msend_api_usage_telemetry(project\u001b[38;5;241m=\u001b[39m_PROJECT)\n\u001b[0;32m    112\u001b[0m \u001b[38;5;129m@snowpark_utils\u001b[39m\u001b[38;5;241m.\u001b[39mprivate_preview(version\u001b[38;5;241m=\u001b[39mprpr_version)\n\u001b[0;32m    113\u001b[0m \u001b[38;5;129m@switch_warehouse\u001b[39m\n\u001b[0;32m    114\u001b[0m \u001b[38;5;129m@functools\u001b[39m\u001b[38;5;241m.\u001b[39mwraps(f)\n\u001b[0;32m    115\u001b[0m \u001b[38;5;28;01mdef\u001b[39;00m \u001b[38;5;21mwrap\u001b[39m(\u001b[38;5;28mself\u001b[39m: FeatureStore, \u001b[38;5;241m/\u001b[39m, \u001b[38;5;241m*\u001b[39margs: _Args\u001b[38;5;241m.\u001b[39margs, \u001b[38;5;241m*\u001b[39m\u001b[38;5;241m*\u001b[39mkargs: _Args\u001b[38;5;241m.\u001b[39mkwargs) \u001b[38;5;241m-\u001b[39m\u001b[38;5;241m>\u001b[39m _RT:\n\u001b[1;32m--> 116\u001b[0m     \u001b[38;5;28;01mreturn\u001b[39;00m f(\u001b[38;5;28mself\u001b[39m, \u001b[38;5;241m*\u001b[39margs, \u001b[38;5;241m*\u001b[39m\u001b[38;5;241m*\u001b[39mkargs)\n",
      "File \u001b[1;32m~\\anaconda3\\envs\\python310\\lib\\site-packages\\snowflake\\ml\\feature_store\\feature_store.py:558\u001b[0m, in \u001b[0;36mFeatureStore.suspend_feature_view\u001b[1;34m(self, feature_view)\u001b[0m\n\u001b[0;32m    549\u001b[0m \u001b[38;5;250m\u001b[39m\u001b[38;5;124;03m\"\"\"\u001b[39;00m\n\u001b[0;32m    550\u001b[0m \u001b[38;5;124;03mSuspend an active FeatureView.\u001b[39;00m\n\u001b[0;32m    551\u001b[0m \n\u001b[1;32m   (...)\u001b[0m\n\u001b[0;32m    556\u001b[0m \u001b[38;5;124;03m    A new feature view with updated status.\u001b[39;00m\n\u001b[0;32m    557\u001b[0m \u001b[38;5;124;03m\"\"\"\u001b[39;00m\n\u001b[1;32m--> 558\u001b[0m \u001b[38;5;28;01mreturn\u001b[39;00m \u001b[38;5;28;43mself\u001b[39;49m\u001b[38;5;241;43m.\u001b[39;49m\u001b[43m_update_feature_view_status\u001b[49m\u001b[43m(\u001b[49m\u001b[43mfeature_view\u001b[49m\u001b[43m,\u001b[49m\u001b[43m \u001b[49m\u001b[38;5;124;43m\"\u001b[39;49m\u001b[38;5;124;43mSUSPEND\u001b[39;49m\u001b[38;5;124;43m\"\u001b[39;49m\u001b[43m)\u001b[49m\n",
      "File \u001b[1;32m~\\anaconda3\\envs\\python310\\lib\\site-packages\\snowflake\\ml\\feature_store\\feature_store.py:1319\u001b[0m, in \u001b[0;36mFeatureStore._update_feature_view_status\u001b[1;34m(self, feature_view, operation)\u001b[0m\n\u001b[0;32m   1318\u001b[0m \u001b[38;5;28;01mexcept\u001b[39;00m \u001b[38;5;167;01mException\u001b[39;00m \u001b[38;5;28;01mas\u001b[39;00m e:\n\u001b[1;32m-> 1319\u001b[0m     \u001b[38;5;28;01mraise\u001b[39;00m snowml_exceptions\u001b[38;5;241m.\u001b[39mSnowflakeMLException(\n\u001b[0;32m   1320\u001b[0m         error_code\u001b[38;5;241m=\u001b[39merror_codes\u001b[38;5;241m.\u001b[39mINTERNAL_SNOWPARK_ERROR,\n\u001b[0;32m   1321\u001b[0m         original_exception\u001b[38;5;241m=\u001b[39m\u001b[38;5;167;01mRuntimeError\u001b[39;00m(\u001b[38;5;124mf\u001b[39m\u001b[38;5;124m\"\u001b[39m\u001b[38;5;124mFailed to update feature view \u001b[39m\u001b[38;5;132;01m{\u001b[39;00mfully_qualified_name\u001b[38;5;132;01m}\u001b[39;00m\u001b[38;5;124m'\u001b[39m\u001b[38;5;124ms status: \u001b[39m\u001b[38;5;132;01m{\u001b[39;00me\u001b[38;5;132;01m}\u001b[39;00m\u001b[38;5;124m\"\u001b[39m),\n\u001b[0;32m   1322\u001b[0m     ) \u001b[38;5;28;01mfrom\u001b[39;00m \u001b[38;5;21;01me\u001b[39;00m\n\u001b[0;32m   1324\u001b[0m logger\u001b[38;5;241m.\u001b[39minfo(\u001b[38;5;124mf\u001b[39m\u001b[38;5;124m\"\u001b[39m\u001b[38;5;124mSuccessfully \u001b[39m\u001b[38;5;132;01m{\u001b[39;00moperation\u001b[38;5;132;01m}\u001b[39;00m\u001b[38;5;124m FeatureView \u001b[39m\u001b[38;5;132;01m{\u001b[39;00mfeature_view\u001b[38;5;241m.\u001b[39mname\u001b[38;5;132;01m}\u001b[39;00m\u001b[38;5;124m/\u001b[39m\u001b[38;5;132;01m{\u001b[39;00mfeature_view\u001b[38;5;241m.\u001b[39mversion\u001b[38;5;132;01m}\u001b[39;00m\u001b[38;5;124m.\u001b[39m\u001b[38;5;124m\"\u001b[39m)\n",
      "\u001b[1;31mSnowflakeMLException\u001b[0m: RuntimeError(\"(1300) Failed to update feature view SNOWPARK.TUTORIAL.WEATHER_FEATURES$V1's status: (1304): 01b3b532-0002-4e07-005b-a6070002e64e: 001434 (42601): SQL compilation error:\\ncannot use ALTER TABLE on a view; use ALTER VIEW instead\")",
      "\nThe above exception was the direct cause of the following exception:\n",
      "\u001b[1;31mRuntimeError\u001b[0m                              Traceback (most recent call last)",
      "Cell \u001b[1;32mIn[20], line 2\u001b[0m\n\u001b[0;32m      1\u001b[0m \u001b[38;5;66;03m#SUSPEND A FEATURE VIEW\u001b[39;00m\n\u001b[1;32m----> 2\u001b[0m \u001b[43mfs\u001b[49m\u001b[38;5;241;43m.\u001b[39;49m\u001b[43msuspend_feature_view\u001b[49m\u001b[43m(\u001b[49m\u001b[43mfv\u001b[49m\u001b[43m)\u001b[49m\n\u001b[0;32m      4\u001b[0m \u001b[38;5;66;03m#RESUME A FEATURE VIEW\u001b[39;00m\n\u001b[0;32m      5\u001b[0m fs\u001b[38;5;241m.\u001b[39mresume_feature_view(fv)\n",
      "File \u001b[1;32m~\\anaconda3\\envs\\python310\\lib\\site-packages\\snowflake\\ml\\_internal\\telemetry.py:389\u001b[0m, in \u001b[0;36msend_api_usage_telemetry.<locals>.decorator.<locals>.wrap\u001b[1;34m(*args, **kwargs)\u001b[0m\n\u001b[0;32m    387\u001b[0m         \u001b[38;5;28;01mraise\u001b[39;00m me\u001b[38;5;241m.\u001b[39moriginal_exception \u001b[38;5;28;01mfrom\u001b[39;00m \u001b[38;5;28;01mNone\u001b[39;00m\n\u001b[0;32m    388\u001b[0m     \u001b[38;5;28;01melse\u001b[39;00m:\n\u001b[1;32m--> 389\u001b[0m         \u001b[38;5;28;01mraise\u001b[39;00m me\u001b[38;5;241m.\u001b[39moriginal_exception \u001b[38;5;28;01mfrom\u001b[39;00m \u001b[38;5;21;01me\u001b[39;00m\n\u001b[0;32m    390\u001b[0m \u001b[38;5;28;01melse\u001b[39;00m:\n\u001b[0;32m    391\u001b[0m     \u001b[38;5;28;01mreturn\u001b[39;00m update_stmt_params_if_snowpark_df(res, statement_params)\n",
      "\u001b[1;31mRuntimeError\u001b[0m: (1300) Failed to update feature view SNOWPARK.TUTORIAL.WEATHER_FEATURES$V1's status: (1304): 01b3b532-0002-4e07-005b-a6070002e64e: 001434 (42601): SQL compilation error:\ncannot use ALTER TABLE on a view; use ALTER VIEW instead"
     ]
    }
   ],
   "source": [
    "#SUSPEND A FEATURE VIEW\n",
    "fs.suspend_feature_view(fv)\n",
    "\n",
    "#RESUME A FEATURE VIEW\n",
    "fs.resume_feature_view(fv)\n",
    "\n",
    "fs.get_feature_view(\"WEATHER_FEATURES\", \"V1\").to_df(session)[\"NAME\", \"STATUS\"].show()"
   ]
  },
  {
   "cell_type": "code",
   "execution_count": null,
   "id": "fd6caf38",
   "metadata": {
    "id": "25f6d738-6fda-47e0-8af6-d60293cf07fb",
    "outputId": "3e30af28-e196-47bb-9481-bb496111658d"
   },
   "outputs": [],
   "source": [
    "# DELETE A FEATURE VIEW\n",
    "\n",
    "fs.list_feature_views(entity_name=\"WEATHER\").select([\"NAME\"]).show()\n",
    "fs.delete_feature_view(fv)"
   ]
  },
  {
   "cell_type": "code",
   "execution_count": 21,
   "id": "e930aefb",
   "metadata": {
    "id": "4411efcc-83f6-405a-a894-36cc6738115c",
    "outputId": "3aef6b2f-1b6a-4785-bd8d-65e9133df594"
   },
   "outputs": [
    {
     "name": "stdout",
     "output_type": "stream",
     "text": [
      "-------------------------------------------------\n",
      "|\"NAME\"   |\"JOIN_KEYS\"  |\"DESC\"  |\"OWNER\"       |\n",
      "-------------------------------------------------\n",
      "|TEST     |[\"ID\"]       |        |ACCOUNTADMIN  |\n",
      "|WEATHER  |[\"ID\"]       |        |ACCOUNTADMIN  |\n",
      "-------------------------------------------------\n",
      "\n"
     ]
    }
   ],
   "source": [
    "#LIST ENTITIES\n",
    "\n",
    "entity = Entity(name=\"TEST\", join_keys=[\"ID\"])\n",
    "fs.register_entity(entity)\n",
    "fs.list_entities().show()"
   ]
  },
  {
   "cell_type": "code",
   "execution_count": 22,
   "id": "6fb73f02",
   "metadata": {
    "id": "a1fe7f06-516b-49ed-9dc4-3913f8533cb9",
    "outputId": "2e6d852d-dbe0-4374-c907-988aeb48be3d"
   },
   "outputs": [
    {
     "data": {
      "text/plain": [
       "Entity(name=TEST, join_keys=['ID'], owner=ACCOUNTADMIN, desc=)"
      ]
     },
     "execution_count": 22,
     "metadata": {},
     "output_type": "execute_result"
    }
   ],
   "source": [
    "# GET ENTITY\n",
    "fs.get_entity(\"TEST\")"
   ]
  },
  {
   "cell_type": "code",
   "execution_count": 23,
   "id": "e56a754c",
   "metadata": {
    "id": "b612c9b4-6761-4ca5-bab3-b25851b3d459",
    "outputId": "e813d050-1e76-4eb8-a126-8f9b38e97ca5"
   },
   "outputs": [
    {
     "name": "stderr",
     "output_type": "stream",
     "text": [
      "FeatureStore.delete_entity() is in private preview since 1.0.8. Do not use it in production. \n"
     ]
    },
    {
     "name": "stdout",
     "output_type": "stream",
     "text": [
      "-------------------------------------------------\n",
      "|\"NAME\"   |\"JOIN_KEYS\"  |\"DESC\"  |\"OWNER\"       |\n",
      "-------------------------------------------------\n",
      "|WEATHER  |[\"ID\"]       |        |ACCOUNTADMIN  |\n",
      "-------------------------------------------------\n",
      "\n"
     ]
    }
   ],
   "source": [
    "#DELETE ENTITY\n",
    "fs.delete_entity(\"TEST\")\n",
    "fs.list_entities().show()"
   ]
  },
  {
   "cell_type": "code",
   "execution_count": 24,
   "id": "150df0b9",
   "metadata": {
    "id": "e4289226-1ae7-4555-870b-4d0133d573a1",
    "outputId": "13edd92b-8f4d-45d2-8028-3ec68a942f22"
   },
   "outputs": [
    {
     "ename": "NameError",
     "evalue": "name 'training_data' is not defined",
     "output_type": "error",
     "traceback": [
      "\u001b[1;31m---------------------------------------------------------------------------\u001b[0m",
      "\u001b[1;31mNameError\u001b[0m                                 Traceback (most recent call last)",
      "Cell \u001b[1;32mIn[24], line 2\u001b[0m\n\u001b[0;32m      1\u001b[0m \u001b[38;5;66;03m#load data into feature view from dataset\u001b[39;00m\n\u001b[1;32m----> 2\u001b[0m fs\u001b[38;5;241m.\u001b[39mload_feature_views_from_dataset(\u001b[43mtraining_data\u001b[49m)\n",
      "\u001b[1;31mNameError\u001b[0m: name 'training_data' is not defined"
     ]
    }
   ],
   "source": [
    "#load data into feature view from dataset\n",
    "fs.load_feature_views_from_dataset(training_data)"
   ]
  },
  {
   "cell_type": "code",
   "execution_count": null,
   "id": "4c774a92",
   "metadata": {
    "id": "242d0d3a-c2ec-458e-aa06-3e88ceb14b13",
    "tags": []
   },
   "outputs": [],
   "source": [
    "#CLEAR ALL THE ITEMS IN THE FEATURE STORE\n",
    "fs.clear()"
   ]
  },
  {
   "cell_type": "code",
   "execution_count": null,
   "id": "905dcb6f-eb9a-41e7-ba3f-255840d42d03",
   "metadata": {},
   "outputs": [],
   "source": []
  }
 ],
 "metadata": {
  "colab": {
   "provenance": []
  },
  "kernelspec": {
   "display_name": "Python 3 (ipykernel)",
   "language": "python",
   "name": "python3"
  },
  "language_info": {
   "codemirror_mode": {
    "name": "ipython",
    "version": 3
   },
   "file_extension": ".py",
   "mimetype": "text/x-python",
   "name": "python",
   "nbconvert_exporter": "python",
   "pygments_lexer": "ipython3",
   "version": "3.10.11"
  }
 },
 "nbformat": 4,
 "nbformat_minor": 5
}
