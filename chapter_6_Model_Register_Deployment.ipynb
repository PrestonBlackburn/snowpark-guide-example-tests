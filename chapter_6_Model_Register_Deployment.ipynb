{
 "cells": [
  {
   "cell_type": "markdown",
   "id": "43b6bba2",
   "metadata": {},
   "source": [
    "### Session Creation"
   ]
  },
  {
   "cell_type": "code",
   "execution_count": 1,
   "id": "4dc26756",
   "metadata": {
    "executionInfo": {
     "elapsed": 4954,
     "status": "ok",
     "timestamp": 1701595097461,
     "user": {
      "displayName": "Vivek Ss",
      "userId": "14764910798655109096"
     },
     "user_tz": -330
    },
    "id": "c81ff43a-242e-499c-8de2-62a0971bc2b9"
   },
   "outputs": [],
   "source": [
    "from snowflake.snowpark import Session\n",
    "from snowflake.snowpark.functions import col\n",
    "\n",
    "\n",
    "connection_parameters = {\n",
    "    \"account\": \"<your snowflake account identifier>\",\n",
    "    \"user\": \"<your snowflake username>\",\n",
    "    \"password\": \"<your snowflake password>\",\n",
    "    \"role\": \"<your snowflake role>\",\n",
    "    \"warehouse\": \"<your snowflake warehouse>\",  # optional\n",
    "    \"database\": \"<your snowflake database>\",  # optional\n",
    "    \"schema\": \"<your snowflake schema>\" # optional\n",
    "  }\n",
    "\n",
    "\n",
    "# it is best practice to not use/save your credentials in a jupyter notebook\n",
    "# In this case I'm loading my credentials as a dictionary\n",
    "import os\n",
    "connection_parameters = {\n",
    "    \"account\": os.getenv('SNOWFLAKE_ACCOUNT'),\n",
    "    \"user\": os.getenv('SNOWFLAKE_USER'),\n",
    "    \"password\": os.getenv('SNOWFLAKE_PASSWORD'),\n",
    "    \"role\": os.getenv('SNOWFLAKE_ROLE'),\n",
    "    \"warehouse\": os.getenv(\"SNOWFLAKE_WAREHOUSE\"),  # optional\n",
    "    \"database\": \"SNOWPARK\",  # optional\n",
    "    \"schema\": \"TUTORIAL\" # optional\n",
    "  }\n",
    "\n",
    "\n",
    "session = Session.builder.configs(connection_parameters).create()"
   ]
  },
  {
   "cell_type": "code",
   "execution_count": null,
   "id": "1b467972",
   "metadata": {},
   "outputs": [],
   "source": []
  },
  {
   "cell_type": "code",
   "execution_count": 2,
   "id": "42dfd626",
   "metadata": {
    "colab": {
     "base_uri": "https://localhost:8080/"
    },
    "executionInfo": {
     "elapsed": 2577,
     "status": "ok",
     "timestamp": 1701595226243,
     "user": {
      "displayName": "Vivek Ss",
      "userId": "14764910798655109096"
     },
     "user_tz": -330
    },
    "id": "83a288d3-2b5b-4c73-8523-79d5e9a1d04f",
    "outputId": "14f877c9-c6b4-4658-e6c4-8be63e94b542"
   },
   "outputs": [
    {
     "name": "stdout",
     "output_type": "stream",
     "text": [
      "--------------------------------------------------------------------------------------------------------------------------------------------------------------------\n",
      "|\"SEASON\"  |\"HOLIDAY\"  |\"WORKINGDAY\"  |\"WEATHER\"  |\"TEMP\"  |\"ATEMP\"  |\"HUMIDITY\"  |\"WINDSPEED\"  |\"CASUAL\"  |\"REGISTERED\"  |\"COUNT\"  |\"HOUR\"  |\"MONTH\"  |\"WEEKDAY\"  |\n",
      "--------------------------------------------------------------------------------------------------------------------------------------------------------------------\n",
      "|1         |0          |0             |1          |9.84    |14.395   |81          |0.0000       |3         |13            |16       |0       |1        |6          |\n",
      "|1         |0          |0             |1          |9.02    |13.635   |80          |0.0000       |8         |32            |40       |1       |1        |6          |\n",
      "--------------------------------------------------------------------------------------------------------------------------------------------------------------------\n",
      "\n"
     ]
    }
   ],
   "source": [
    "FEATURE_LIST = [ \"HOLIDAY\", \"WORKINGDAY\", \"WEEKDAY\", \"HOUR\", \"HUMIDITY\", \"MONTH\", \"TEMP\", \"ATEMP\", \"WINDSPEED\", \"SEASON\", \"WEATHER\"]\n",
    "LABEL_COLUMNS = ['COUNT']\n",
    "OUTPUT_COLUMNS = ['PREDICTED_COUNT']\n",
    "\n",
    "df = session.table(\"MODEL_DATA\")\n",
    "df = df.drop(\"DATETIME\",\"DATE\")\n",
    "df.show(2)"
   ]
  },
  {
   "cell_type": "markdown",
   "id": "76bc6d41",
   "metadata": {},
   "source": [
    "### Preparing the Model -  XGBoost\n",
    "\n",
    "* Code block delineates building XGboost model by optimizing two parameters through Gridsearch\n",
    "* Contains code snippets to find optimal model parameters - max_depth & min_child_weight"
   ]
  },
  {
   "cell_type": "code",
   "execution_count": 3,
   "id": "c5030c1d",
   "metadata": {
    "id": "080328b2-d7a2-4dee-8e63-3d8035a69126"
   },
   "outputs": [],
   "source": [
    "from snowflake.ml.modeling.model_selection import GridSearchCV\n",
    "from snowflake.ml.modeling.xgboost import XGBRegressor\n",
    "\n",
    "param_grid = {\n",
    "        \"max_depth\":[3, 4, 5, 6, 7, 8],\n",
    "        \"min_child_weight\":[1, 2, 3, 4],\n",
    "}\n",
    "\n",
    "grid_search = GridSearchCV(\n",
    "    estimator=XGBRegressor(),\n",
    "    param_grid=param_grid,\n",
    "    n_jobs = -1,\n",
    "    scoring=\"neg_root_mean_squared_error\",\n",
    "    input_cols=FEATURE_LIST,\n",
    "    label_cols=LABEL_COLUMNS,\n",
    "    output_cols=['PREDICTED_COUNT']\n",
    ")"
   ]
  },
  {
   "cell_type": "code",
   "execution_count": 4,
   "id": "3e718941",
   "metadata": {
    "id": "3cbf4466-02f2-4c1c-a58e-bf89921f9828",
    "outputId": "8011f549-c51a-4c9c-8abe-f56ea3b43266"
   },
   "outputs": [
    {
     "name": "stderr",
     "output_type": "stream",
     "text": [
      "C:\\Users\\Preston\\anaconda3\\envs\\python310\\lib\\site-packages\\snowflake\\ml\\_internal\\utils\\snowpark_dataframe_utils.py:88: UserWarning: Warning: The Decimal(38, 2) data type is being automatically converted to DoubleType in the Snowpark DataFrame. This automatic conversion may lead to potential precision loss and rounding errors. If you wish to prevent this conversion, you should manually perform the necessary data type conversion.\n",
      "  warnings.warn(\n",
      "C:\\Users\\Preston\\anaconda3\\envs\\python310\\lib\\site-packages\\snowflake\\ml\\_internal\\utils\\snowpark_dataframe_utils.py:88: UserWarning: Warning: The Decimal(38, 3) data type is being automatically converted to DoubleType in the Snowpark DataFrame. This automatic conversion may lead to potential precision loss and rounding errors. If you wish to prevent this conversion, you should manually perform the necessary data type conversion.\n",
      "  warnings.warn(\n",
      "C:\\Users\\Preston\\anaconda3\\envs\\python310\\lib\\site-packages\\snowflake\\ml\\_internal\\utils\\snowpark_dataframe_utils.py:88: UserWarning: Warning: The Decimal(38, 4) data type is being automatically converted to DoubleType in the Snowpark DataFrame. This automatic conversion may lead to potential precision loss and rounding errors. If you wish to prevent this conversion, you should manually perform the necessary data type conversion.\n",
      "  warnings.warn(\n",
      "The version of package 'snowflake-snowpark-python' in the local environment is 1.14.0, which does not fit the criteria for the requirement 'snowflake-snowpark-python'. Your UDF might not work when the package version is different between the server and your local environment.\n",
      "C:\\Users\\Preston\\anaconda3\\envs\\python310\\lib\\site-packages\\snowflake\\ml\\model\\_signatures\\snowpark_handler.py:40: UserWarning: Warning: Type DecimalType(38, 2) is being automatically converted to DOUBLE in the Snowpark DataFrame. This automatic conversion may lead to potential precision loss and rounding errors. If you wish to prevent this conversion, you should manually perform the necessary data type conversion.\n",
      "  core.DataType.from_snowpark_type(data_type)\n",
      "C:\\Users\\Preston\\anaconda3\\envs\\python310\\lib\\site-packages\\snowflake\\ml\\model\\_signatures\\snowpark_handler.py:40: UserWarning: Warning: Type DecimalType(38, 3) is being automatically converted to DOUBLE in the Snowpark DataFrame. This automatic conversion may lead to potential precision loss and rounding errors. If you wish to prevent this conversion, you should manually perform the necessary data type conversion.\n",
      "  core.DataType.from_snowpark_type(data_type)\n",
      "C:\\Users\\Preston\\anaconda3\\envs\\python310\\lib\\site-packages\\snowflake\\ml\\model\\_signatures\\snowpark_handler.py:40: UserWarning: Warning: Type DecimalType(38, 4) is being automatically converted to DOUBLE in the Snowpark DataFrame. This automatic conversion may lead to potential precision loss and rounding errors. If you wish to prevent this conversion, you should manually perform the necessary data type conversion.\n",
      "  core.DataType.from_snowpark_type(data_type)\n"
     ]
    },
    {
     "data": {
      "text/plain": [
       "<snowflake.ml.modeling.model_selection.grid_search_cv.GridSearchCV at 0x12acc3b07f0>"
      ]
     },
     "execution_count": 4,
     "metadata": {},
     "output_type": "execute_result"
    }
   ],
   "source": [
    "\n",
    "train_df, test_df = df.random_split(weights=[0.7, 0.3], seed=0) \n",
    "\n",
    "grid_search.fit(train_df)"
   ]
  },
  {
   "cell_type": "code",
   "execution_count": 5,
   "id": "b8768904",
   "metadata": {
    "id": "9399a324-d5e8-45a3-80bb-28a460ab0c52",
    "outputId": "d762a732-29b3-4ed1-c47a-4dbe8ed6ddb6"
   },
   "outputs": [
    {
     "data": {
      "text/html": [
       "<style>#sk-container-id-1 {color: black;}#sk-container-id-1 pre{padding: 0;}#sk-container-id-1 div.sk-toggleable {background-color: white;}#sk-container-id-1 label.sk-toggleable__label {cursor: pointer;display: block;width: 100%;margin-bottom: 0;padding: 0.3em;box-sizing: border-box;text-align: center;}#sk-container-id-1 label.sk-toggleable__label-arrow:before {content: \"▸\";float: left;margin-right: 0.25em;color: #696969;}#sk-container-id-1 label.sk-toggleable__label-arrow:hover:before {color: black;}#sk-container-id-1 div.sk-estimator:hover label.sk-toggleable__label-arrow:before {color: black;}#sk-container-id-1 div.sk-toggleable__content {max-height: 0;max-width: 0;overflow: hidden;text-align: left;background-color: #f0f8ff;}#sk-container-id-1 div.sk-toggleable__content pre {margin: 0.2em;color: black;border-radius: 0.25em;background-color: #f0f8ff;}#sk-container-id-1 input.sk-toggleable__control:checked~div.sk-toggleable__content {max-height: 200px;max-width: 100%;overflow: auto;}#sk-container-id-1 input.sk-toggleable__control:checked~label.sk-toggleable__label-arrow:before {content: \"▾\";}#sk-container-id-1 div.sk-estimator input.sk-toggleable__control:checked~label.sk-toggleable__label {background-color: #d4ebff;}#sk-container-id-1 div.sk-label input.sk-toggleable__control:checked~label.sk-toggleable__label {background-color: #d4ebff;}#sk-container-id-1 input.sk-hidden--visually {border: 0;clip: rect(1px 1px 1px 1px);clip: rect(1px, 1px, 1px, 1px);height: 1px;margin: -1px;overflow: hidden;padding: 0;position: absolute;width: 1px;}#sk-container-id-1 div.sk-estimator {font-family: monospace;background-color: #f0f8ff;border: 1px dotted black;border-radius: 0.25em;box-sizing: border-box;margin-bottom: 0.5em;}#sk-container-id-1 div.sk-estimator:hover {background-color: #d4ebff;}#sk-container-id-1 div.sk-parallel-item::after {content: \"\";width: 100%;border-bottom: 1px solid gray;flex-grow: 1;}#sk-container-id-1 div.sk-label:hover label.sk-toggleable__label {background-color: #d4ebff;}#sk-container-id-1 div.sk-serial::before {content: \"\";position: absolute;border-left: 1px solid gray;box-sizing: border-box;top: 0;bottom: 0;left: 50%;z-index: 0;}#sk-container-id-1 div.sk-serial {display: flex;flex-direction: column;align-items: center;background-color: white;padding-right: 0.2em;padding-left: 0.2em;position: relative;}#sk-container-id-1 div.sk-item {position: relative;z-index: 1;}#sk-container-id-1 div.sk-parallel {display: flex;align-items: stretch;justify-content: center;background-color: white;position: relative;}#sk-container-id-1 div.sk-item::before, #sk-container-id-1 div.sk-parallel-item::before {content: \"\";position: absolute;border-left: 1px solid gray;box-sizing: border-box;top: 0;bottom: 0;left: 50%;z-index: -1;}#sk-container-id-1 div.sk-parallel-item {display: flex;flex-direction: column;z-index: 1;position: relative;background-color: white;}#sk-container-id-1 div.sk-parallel-item:first-child::after {align-self: flex-end;width: 50%;}#sk-container-id-1 div.sk-parallel-item:last-child::after {align-self: flex-start;width: 50%;}#sk-container-id-1 div.sk-parallel-item:only-child::after {width: 0;}#sk-container-id-1 div.sk-dashed-wrapped {border: 1px dashed gray;margin: 0 0.4em 0.5em 0.4em;box-sizing: border-box;padding-bottom: 0.4em;background-color: white;}#sk-container-id-1 div.sk-label label {font-family: monospace;font-weight: bold;display: inline-block;line-height: 1.2em;}#sk-container-id-1 div.sk-label-container {text-align: center;}#sk-container-id-1 div.sk-container {/* jupyter's `normalize.less` sets `[hidden] { display: none; }` but bootstrap.min.css set `[hidden] { display: none !important; }` so we also need the `!important` here to be able to override the default hidden behavior on the sphinx rendered scikit-learn.org. See: https://github.com/scikit-learn/scikit-learn/issues/21755 */display: inline-block !important;position: relative;}#sk-container-id-1 div.sk-text-repr-fallback {display: none;}</style><div id=\"sk-container-id-1\" class=\"sk-top-container\"><div class=\"sk-text-repr-fallback\"><pre>XGBRegressor(base_score=None, booster=None, callbacks=None,\n",
       "             colsample_bylevel=None, colsample_bynode=None,\n",
       "             colsample_bytree=None, early_stopping_rounds=None,\n",
       "             enable_categorical=False, eval_metric=None, feature_types=None,\n",
       "             gamma=None, gpu_id=None, grow_policy=None, importance_type=None,\n",
       "             interaction_constraints=None, learning_rate=None, max_bin=None,\n",
       "             max_cat_threshold=None, max_cat_to_onehot=None,\n",
       "             max_delta_step=None, max_depth=4, max_leaves=None,\n",
       "             min_child_weight=4, missing=nan, monotone_constraints=None,\n",
       "             n_estimators=100, n_jobs=None, num_parallel_tree=None,\n",
       "             predictor=None, random_state=None, ...)</pre><b>In a Jupyter environment, please rerun this cell to show the HTML representation or trust the notebook. <br />On GitHub, the HTML representation is unable to render, please try loading this page with nbviewer.org.</b></div><div class=\"sk-container\" hidden><div class=\"sk-item\"><div class=\"sk-estimator sk-toggleable\"><input class=\"sk-toggleable__control sk-hidden--visually\" id=\"sk-estimator-id-1\" type=\"checkbox\" checked><label for=\"sk-estimator-id-1\" class=\"sk-toggleable__label sk-toggleable__label-arrow\">XGBRegressor</label><div class=\"sk-toggleable__content\"><pre>XGBRegressor(base_score=None, booster=None, callbacks=None,\n",
       "             colsample_bylevel=None, colsample_bynode=None,\n",
       "             colsample_bytree=None, early_stopping_rounds=None,\n",
       "             enable_categorical=False, eval_metric=None, feature_types=None,\n",
       "             gamma=None, gpu_id=None, grow_policy=None, importance_type=None,\n",
       "             interaction_constraints=None, learning_rate=None, max_bin=None,\n",
       "             max_cat_threshold=None, max_cat_to_onehot=None,\n",
       "             max_delta_step=None, max_depth=4, max_leaves=None,\n",
       "             min_child_weight=4, missing=nan, monotone_constraints=None,\n",
       "             n_estimators=100, n_jobs=None, num_parallel_tree=None,\n",
       "             predictor=None, random_state=None, ...)</pre></div></div></div></div></div>"
      ],
      "text/plain": [
       "XGBRegressor(base_score=None, booster=None, callbacks=None,\n",
       "             colsample_bylevel=None, colsample_bynode=None,\n",
       "             colsample_bytree=None, early_stopping_rounds=None,\n",
       "             enable_categorical=False, eval_metric=None, feature_types=None,\n",
       "             gamma=None, gpu_id=None, grow_policy=None, importance_type=None,\n",
       "             interaction_constraints=None, learning_rate=None, max_bin=None,\n",
       "             max_cat_threshold=None, max_cat_to_onehot=None,\n",
       "             max_delta_step=None, max_depth=4, max_leaves=None,\n",
       "             min_child_weight=4, missing=nan, monotone_constraints=None,\n",
       "             n_estimators=100, n_jobs=None, num_parallel_tree=None,\n",
       "             predictor=None, random_state=None, ...)"
      ]
     },
     "execution_count": 5,
     "metadata": {},
     "output_type": "execute_result"
    }
   ],
   "source": [
    "grid_search.to_sklearn().best_estimator_"
   ]
  },
  {
   "cell_type": "code",
   "execution_count": 6,
   "id": "e2157d5c",
   "metadata": {
    "id": "a77e3ac1-c818-4c5f-b525-b32e88515727",
    "outputId": "9109f7dd-fb98-4d62-a6b5-67c0785e78ab"
   },
   "outputs": [
    {
     "data": {
      "image/png": "[encoded data removed]",
      "text/plain": [
       "<Figure size 588.986x500 with 1 Axes>"
      ]
     },
     "metadata": {},
     "output_type": "display_data"
    }
   ],
   "source": [
    "import pandas as pd\n",
    "import seaborn as sns\n",
    "import matplotlib.pyplot as plt\n",
    "\n",
    "gs_results = grid_search.to_sklearn().cv_results_\n",
    "max_depth_val = []\n",
    "min_child_weight_val = []\n",
    "for param_dict in gs_results[\"params\"]:\n",
    "    max_depth_val.append(param_dict[\"max_depth\"])\n",
    "    min_child_weight_val.append(param_dict[\"min_child_weight\"])\n",
    "mape_val = gs_results[\"mean_test_score\"]*-1\n",
    "\n",
    "gs_results_df = pd.DataFrame(data={\n",
    "    \"max_depth\":max_depth_val,\n",
    "    \"min_child_weight\":min_child_weight_val,\n",
    "    \"mape\":mape_val})\n",
    "\n",
    "sns.relplot(data=gs_results_df, x=\"min_child_weight\", y=\"mape\", hue=\"max_depth\", kind=\"line\")\n",
    "\n",
    "plt.show()"
   ]
  },
  {
   "cell_type": "code",
   "execution_count": 7,
   "id": "bf178e4b",
   "metadata": {
    "id": "bf2d1522-6bff-494c-9b19-92c3e08e5f00",
    "outputId": "450fd1c7-e6f8-424f-e013-505d5746cbaa"
   },
   "outputs": [
    {
     "name": "stderr",
     "output_type": "stream",
     "text": [
      "C:\\Users\\Preston\\anaconda3\\envs\\python310\\lib\\site-packages\\snowflake\\ml\\_internal\\utils\\snowpark_dataframe_utils.py:88: UserWarning: Warning: The Decimal(38, 2) data type is being automatically converted to DoubleType in the Snowpark DataFrame. This automatic conversion may lead to potential precision loss and rounding errors. If you wish to prevent this conversion, you should manually perform the necessary data type conversion.\n",
      "  warnings.warn(\n",
      "C:\\Users\\Preston\\anaconda3\\envs\\python310\\lib\\site-packages\\snowflake\\ml\\_internal\\utils\\snowpark_dataframe_utils.py:88: UserWarning: Warning: The Decimal(38, 3) data type is being automatically converted to DoubleType in the Snowpark DataFrame. This automatic conversion may lead to potential precision loss and rounding errors. If you wish to prevent this conversion, you should manually perform the necessary data type conversion.\n",
      "  warnings.warn(\n",
      "C:\\Users\\Preston\\anaconda3\\envs\\python310\\lib\\site-packages\\snowflake\\ml\\_internal\\utils\\snowpark_dataframe_utils.py:88: UserWarning: Warning: The Decimal(38, 4) data type is being automatically converted to DoubleType in the Snowpark DataFrame. This automatic conversion may lead to potential precision loss and rounding errors. If you wish to prevent this conversion, you should manually perform the necessary data type conversion.\n",
      "  warnings.warn(\n"
     ]
    },
    {
     "name": "stdout",
     "output_type": "stream",
     "text": [
      "-------------------------------\n",
      "|\"COUNT\"  |\"PREDICTED_COUNT\"  |\n",
      "-------------------------------\n",
      "|1        |5                  |\n",
      "|3        |-23                |\n",
      "|36       |181                |\n",
      "|94       |245                |\n",
      "|106      |235                |\n",
      "|93       |116                |\n",
      "|37       |32                 |\n",
      "|28       |42                 |\n",
      "|39       |23                 |\n",
      "|17       |39                 |\n",
      "-------------------------------\n",
      "\n",
      "Mean absolute percentage error: 0.69748060773\n"
     ]
    }
   ],
   "source": [
    "from snowflake.ml.modeling.metrics import mean_absolute_percentage_error\n",
    "\n",
    "result = grid_search.predict(test_df)\n",
    "mape = mean_absolute_percentage_error(df=result,\n",
    "                                        y_true_col_names=\"COUNT\",\n",
    "                                        y_pred_col_names=\"PREDICTED_COUNT\")\n",
    "\n",
    "result.select(\"COUNT\", \"PREDICTED_COUNT\").show()\n",
    "print(f\"Mean absolute percentage error: {mape}\")"
   ]
  },
  {
   "cell_type": "code",
   "execution_count": 8,
   "id": "06914aeb",
   "metadata": {
    "id": "f3237782-2082-404a-b6e1-ebc935bb9823",
    "outputId": "8f33a9d2-11c4-49bf-9b43-c55a9aac81f5"
   },
   "outputs": [
    {
     "data": {
      "image/png": "[encoded data removed]",
      "text/plain": [
       "<Figure size 500x500 with 1 Axes>"
      ]
     },
     "metadata": {},
     "output_type": "display_data"
    }
   ],
   "source": [
    "g = sns.relplot(data=result[\"COUNT\", \"PREDICTED_COUNT\"].to_pandas().astype(\"float64\"), x=\"COUNT\", y=\"PREDICTED_COUNT\", kind=\"scatter\")\n",
    "g.ax.axline((0,0), slope=1, color=\"r\")\n",
    "\n",
    "plt.show()"
   ]
  },
  {
   "cell_type": "markdown",
   "id": "87b1c30c",
   "metadata": {},
   "source": [
    "### Registering The Model\n"
   ]
  },
  {
   "cell_type": "code",
   "execution_count": 9,
   "id": "e057376c",
   "metadata": {
    "id": "dace15c6-47a1-4c18-bcd8-514966dde657"
   },
   "outputs": [
    {
     "name": "stderr",
     "output_type": "stream",
     "text": [
      "C:\\Users\\Preston\\AppData\\Local\\Temp\\ipykernel_23732\\1417870892.py:2: DeprecationWarning: \n",
      "The `snowflake.ml.registry.model_registry.ModelRegistry` has been deprecated starting from version 1.2.0.\n",
      "It will stay in the Private Preview phase. For future implementations, kindly utilize `snowflake.ml.registry.Registry`,\n",
      "except when specifically required. The old model registry will be removed once all its primary functionalities are\n",
      "fully integrated into the new registry.\n",
      "        \n",
      "  registry = model_registry.ModelRegistry(session=session, database_name=\"SNOWPARK\", schema_name=\"TUTORIAL\", create_if_not_exists=True)\n",
      "create_model_registry() is in private preview since 0.2.0. Do not use it in production. \n",
      "WARNING:absl:The database SNOWPARK already exists. Skipping creation.\n",
      "WARNING:absl:The schema SNOWPARK.TUTORIAL already exists. Skipping creation.\n"
     ]
    }
   ],
   "source": [
    "from snowflake.ml.registry import model_registry\n",
    "registry = model_registry.ModelRegistry(session=session, database_name=\"SNOWPARK\", schema_name=\"TUTORIAL\", create_if_not_exists=True)\n",
    "\n",
    "optimal_model = grid_search.to_sklearn().best_estimator_\n",
    "optimal_max_depth = grid_search.to_sklearn().best_estimator_.max_depth\n",
    "optimal_min_child_weight = grid_search.to_sklearn().best_estimator_.min_child_weight\n",
    "\n",
    "optimal_mape = gs_results_df.loc[(gs_results_df['max_depth']==optimal_max_depth) &\n",
    "                                 (gs_results_df['min_child_weight']==optimal_min_child_weight), 'mape'].values[0]"
   ]
  },
  {
   "cell_type": "code",
   "execution_count": 10,
   "id": "6ad0ca0e-a450-47d6-8be3-28b97aaff035",
   "metadata": {
    "tags": []
   },
   "outputs": [],
   "source": [
    "from snowflake.ml._internal.utils import identifier \n",
    "\n",
    "X = train_df.select(FEATURE_LIST).limit(100) \n",
    "\n",
    " \n",
    "\n",
    "db = identifier._get_unescaped_name(session.get_current_database()) \n",
    "\n",
    "schema = identifier._get_unescaped_name(session.get_current_schema()) \n"
   ]
  },
  {
   "cell_type": "code",
   "execution_count": 13,
   "id": "be8349e3-86cd-44cf-bb57-512fb467bd12",
   "metadata": {
    "tags": []
   },
   "outputs": [
    {
     "name": "stderr",
     "output_type": "stream",
     "text": [
      "WARNING:snowflake.snowpark:ModelRegistry.delete_model() is in private preview since 0.2.0. Do not use it in production. \n"
     ]
    }
   ],
   "source": [
    "try:\n",
    "    registry.delete_model(model_name=\"bike_model_xg_boost\",\n",
    "                model_version=1)\n",
    "except:\n",
    "    pass"
   ]
  },
  {
   "cell_type": "code",
   "execution_count": 14,
   "id": "cdc6a49e",
   "metadata": {
    "id": "ac7d1d3e-ef2b-43da-9047-e521b379d578",
    "outputId": "e4c0dedc-8eeb-4fbd-e3a3-480f600d7d25"
   },
   "outputs": [
    {
     "name": "stderr",
     "output_type": "stream",
     "text": [
      "C:\\Users\\Preston\\anaconda3\\envs\\python310\\lib\\contextlib.py:135: UserWarning: `relax_version` is not set and therefore defaulted to True. Dependency version constraints relaxed from ==x.y.z to >=x.y, <(x+1). To use specific dependency versions for compatibility, reproducibility, etc., set `options={'relax_version': False}` when logging the model.\n",
      "  return next(self.gen)\n",
      "C:\\Users\\Preston\\anaconda3\\envs\\python310\\lib\\site-packages\\snowflake\\ml\\model\\model_signature.py:69: UserWarning: The sample input has 100 rows, thus a truncation happened before inferring signature. This might cause inaccurate signature inference. If that happens, consider specifying signature manually.\n",
      "  warnings.warn(\n",
      "WARNING:snowflake.snowpark:ModelRegistry.set_metric() is in private preview since 0.2.0. Do not use it in production. \n",
      "WARNING:snowflake.snowpark:ModelRegistry.get_metrics() is in private preview since 0.2.0. Do not use it in production. \n"
     ]
    }
   ],
   "source": [
    "model_name = \"bike_model_xg_boost\"\n",
    "model_version = 1\n",
    "\n",
    "registry.log_model(\n",
    "    model_name=model_name,\n",
    "    model_version=model_version,\n",
    "    model=optimal_model,\n",
    "    sample_input_data=X,\n",
    "    options={\"embed_local_ml_library\": True, \"relax\": True})\n",
    "\n",
    "registry.set_metric(model_name=model_name, model_version=model_version, metric_name=\"mean_abs_pct_err\", metric_value=optimal_mape)"
   ]
  },
  {
   "cell_type": "code",
   "execution_count": 15,
   "id": "0ae8ba98",
   "metadata": {
    "id": "1dbff7d8-3f00-4e86-915d-6632a0a445cb",
    "outputId": "34da2259-550b-4e4b-fcd4-cc9412ce0d06"
   },
   "outputs": [
    {
     "data": {
      "text/html": [
       "<div>\n",
       "<style scoped>\n",
       "    .dataframe tbody tr th:only-of-type {\n",
       "        vertical-align: middle;\n",
       "    }\n",
       "\n",
       "    .dataframe tbody tr th {\n",
       "        vertical-align: top;\n",
       "    }\n",
       "\n",
       "    .dataframe thead th {\n",
       "        text-align: right;\n",
       "    }\n",
       "</style>\n",
       "<table border=\"1\" class=\"dataframe\">\n",
       "  <thead>\n",
       "    <tr style=\"text-align: right;\">\n",
       "      <th></th>\n",
       "      <th>CREATION_CONTEXT</th>\n",
       "      <th>CREATION_ENVIRONMENT_SPEC</th>\n",
       "      <th>CREATION_ROLE</th>\n",
       "      <th>CREATION_TIME</th>\n",
       "      <th>ID</th>\n",
       "      <th>INPUT_SPEC</th>\n",
       "      <th>NAME</th>\n",
       "      <th>OUTPUT_SPEC</th>\n",
       "      <th>RUNTIME_ENVIRONMENT_SPEC</th>\n",
       "      <th>TYPE</th>\n",
       "      <th>URI</th>\n",
       "      <th>VERSION</th>\n",
       "      <th>ARTIFACT_IDS</th>\n",
       "      <th>DESCRIPTION</th>\n",
       "      <th>METRICS</th>\n",
       "      <th>TAGS</th>\n",
       "      <th>REGISTRATION_TIMESTAMP</th>\n",
       "    </tr>\n",
       "  </thead>\n",
       "  <tbody>\n",
       "    <tr>\n",
       "      <th>0</th>\n",
       "      <td>None</td>\n",
       "      <td>{\\n  \"python\": \"3.10.11\"\\n}</td>\n",
       "      <td>\"ACCOUNTADMIN\"</td>\n",
       "      <td>2024-04-16 05:49:01.741000-07:00</td>\n",
       "      <td>ac88e6fdfbef11eeaab700e04c316b7e</td>\n",
       "      <td>None</td>\n",
       "      <td>bike_model_xg_boost</td>\n",
       "      <td>None</td>\n",
       "      <td>None</td>\n",
       "      <td>xgboost</td>\n",
       "      <td>sfc://SNOWPARK.TUTORIAL.SNOWML_MODEL_AC88E6FDF...</td>\n",
       "      <td>1</td>\n",
       "      <td>None</td>\n",
       "      <td>None</td>\n",
       "      <td>{\\n  \"mean_abs_pct_err\": 115.64584045410156\\n}</td>\n",
       "      <td>None</td>\n",
       "      <td>2024-04-16 05:49:02.829000-07:00</td>\n",
       "    </tr>\n",
       "  </tbody>\n",
       "</table>\n",
       "</div>"
      ],
      "text/plain": [
       "  CREATION_CONTEXT    CREATION_ENVIRONMENT_SPEC   CREATION_ROLE  \\\n",
       "0             None  {\\n  \"python\": \"3.10.11\"\\n}  \"ACCOUNTADMIN\"   \n",
       "\n",
       "                     CREATION_TIME                                ID  \\\n",
       "0 2024-04-16 05:49:01.741000-07:00  ac88e6fdfbef11eeaab700e04c316b7e   \n",
       "\n",
       "  INPUT_SPEC                 NAME OUTPUT_SPEC RUNTIME_ENVIRONMENT_SPEC  \\\n",
       "0       None  bike_model_xg_boost        None                     None   \n",
       "\n",
       "      TYPE                                                URI VERSION  \\\n",
       "0  xgboost  sfc://SNOWPARK.TUTORIAL.SNOWML_MODEL_AC88E6FDF...       1   \n",
       "\n",
       "  ARTIFACT_IDS DESCRIPTION                                         METRICS  \\\n",
       "0         None        None  {\\n  \"mean_abs_pct_err\": 115.64584045410156\\n}   \n",
       "\n",
       "   TAGS           REGISTRATION_TIMESTAMP  \n",
       "0  None 2024-04-16 05:49:02.829000-07:00  "
      ]
     },
     "execution_count": 15,
     "metadata": {},
     "output_type": "execute_result"
    }
   ],
   "source": [
    "#LIST MODELS IN THE REGISTRY\n",
    "\n",
    "registry.list_models().to_pandas()"
   ]
  },
  {
   "cell_type": "markdown",
   "id": "acae97ea",
   "metadata": {},
   "source": [
    "### Model Registry Method\n",
    "* Code snippets covers all vital model registry methods. Methods include as following\n",
    "* Set, get & remove tags / Set model description\n",
    "* Ways to access registry history & finding evaluation metric\n",
    "* Loading model from registry"
   ]
  },
  {
   "cell_type": "code",
   "execution_count": 17,
   "id": "2764dc54",
   "metadata": {
    "id": "c8f8cb40-068d-492c-bc93-9ec7d05c0b1a",
    "outputId": "d6f0e9c9-38f9-4d6a-a3bd-b47e272631bc"
   },
   "outputs": [
    {
     "data": {
      "text/html": [
       "<div>\n",
       "<style scoped>\n",
       "    .dataframe tbody tr th:only-of-type {\n",
       "        vertical-align: middle;\n",
       "    }\n",
       "\n",
       "    .dataframe tbody tr th {\n",
       "        vertical-align: top;\n",
       "    }\n",
       "\n",
       "    .dataframe thead th {\n",
       "        text-align: right;\n",
       "    }\n",
       "</style>\n",
       "<table border=\"1\" class=\"dataframe\">\n",
       "  <thead>\n",
       "    <tr style=\"text-align: right;\">\n",
       "      <th></th>\n",
       "      <th>NAME</th>\n",
       "      <th>TAGS</th>\n",
       "    </tr>\n",
       "  </thead>\n",
       "  <tbody>\n",
       "    <tr>\n",
       "      <th>0</th>\n",
       "      <td>bike_model_xg_boost</td>\n",
       "      <td>{\\n  \"usage\": \"experiment\"\\n}</td>\n",
       "    </tr>\n",
       "  </tbody>\n",
       "</table>\n",
       "</div>"
      ],
      "text/plain": [
       "                  NAME                           TAGS\n",
       "0  bike_model_xg_boost  {\\n  \"usage\": \"experiment\"\\n}"
      ]
     },
     "execution_count": 17,
     "metadata": {},
     "output_type": "execute_result"
    }
   ],
   "source": [
    "#set tag for your model\n",
    "\n",
    "registry.set_tag(model_name=model_name, model_version=model_version, tag_name=\"usage\", tag_value=\"experiment\")\n",
    "registry.list_models().to_pandas()[[\"NAME\", \"TAGS\"]]"
   ]
  },
  {
   "cell_type": "code",
   "execution_count": 18,
   "id": "25d73d3c",
   "metadata": {
    "id": "85fec4f4-10bd-4b51-bded-2d9bb9bba87b",
    "outputId": "a25de16b-b02a-4460-e2dc-99acfbef5a92"
   },
   "outputs": [
    {
     "name": "stderr",
     "output_type": "stream",
     "text": [
      "WARNING:snowflake.snowpark:ModelRegistry.remove_tag() is in private preview since 0.2.0. Do not use it in production. \n"
     ]
    },
    {
     "data": {
      "text/html": [
       "<div>\n",
       "<style scoped>\n",
       "    .dataframe tbody tr th:only-of-type {\n",
       "        vertical-align: middle;\n",
       "    }\n",
       "\n",
       "    .dataframe tbody tr th {\n",
       "        vertical-align: top;\n",
       "    }\n",
       "\n",
       "    .dataframe thead th {\n",
       "        text-align: right;\n",
       "    }\n",
       "</style>\n",
       "<table border=\"1\" class=\"dataframe\">\n",
       "  <thead>\n",
       "    <tr style=\"text-align: right;\">\n",
       "      <th></th>\n",
       "      <th>NAME</th>\n",
       "      <th>TAGS</th>\n",
       "    </tr>\n",
       "  </thead>\n",
       "  <tbody>\n",
       "    <tr>\n",
       "      <th>0</th>\n",
       "      <td>bike_model_xg_boost</td>\n",
       "      <td>{}</td>\n",
       "    </tr>\n",
       "  </tbody>\n",
       "</table>\n",
       "</div>"
      ],
      "text/plain": [
       "                  NAME TAGS\n",
       "0  bike_model_xg_boost   {}"
      ]
     },
     "execution_count": 18,
     "metadata": {},
     "output_type": "execute_result"
    }
   ],
   "source": [
    "#removing tag\n",
    "\n",
    "registry.remove_tag(model_name=model_name, model_version=model_version, tag_name=\"usage\")\n",
    "registry.list_models().to_pandas()[[\"NAME\", \"TAGS\"]]"
   ]
  },
  {
   "cell_type": "code",
   "execution_count": 19,
   "id": "85f3ff9d",
   "metadata": {
    "id": "700d23ee-33f4-4eee-8438-f1afa5cb52d1",
    "outputId": "4e8aace1-5a9f-4781-eca1-151d237a5f86"
   },
   "outputs": [
    {
     "name": "stderr",
     "output_type": "stream",
     "text": [
      "WARNING:snowflake.snowpark:ModelRegistry.get_tag_value() is in private preview since 0.2.0. Do not use it in production. \n"
     ]
    },
    {
     "name": "stdout",
     "output_type": "stream",
     "text": [
      "experiment\n",
      "{'usage': 'experiment'}\n"
     ]
    }
   ],
   "source": [
    "#get tag value\n",
    "registry.set_tag(model_name=model_name, model_version=model_version, tag_name=\"usage\", tag_value=\"experiment\")\n",
    "print(registry.get_tag_value(model_name=model_name, model_version=model_version, tag_name=\"usage\"))\n",
    "\n",
    "#get all tags\n",
    "print(registry.get_tags(model_name=model_name, model_version=model_version))"
   ]
  },
  {
   "cell_type": "code",
   "execution_count": 20,
   "id": "b95d20be",
   "metadata": {
    "id": "66f8f151-40c9-407e-9f74-f1c9774280f9",
    "outputId": "25476513-74f5-48d8-b891-db9a10a72b4d"
   },
   "outputs": [
    {
     "name": "stderr",
     "output_type": "stream",
     "text": [
      "WARNING:snowflake.snowpark:ModelRegistry.set_model_description() is in private preview since 0.2.0. Do not use it in production. \n",
      "WARNING:snowflake.snowpark:ModelRegistry.get_model_description() is in private preview since 0.2.0. Do not use it in production. \n"
     ]
    },
    {
     "name": "stdout",
     "output_type": "stream",
     "text": [
      "this is a test model\n"
     ]
    }
   ],
   "source": [
    "#MODEL DESCRIPTION\n",
    "\n",
    "registry.set_model_description(model_name=model_name, model_version=model_version, description=\"this is a test model\")\n",
    "print(registry.get_model_description(model_name=model_name, model_version=model_version))"
   ]
  },
  {
   "cell_type": "code",
   "execution_count": 21,
   "id": "7bcd418c",
   "metadata": {
    "id": "eaec1cf5-9e7a-4245-9cfe-70d31e8554f9",
    "outputId": "4c21e673-c0ed-4aaf-8d0e-cbebb2a3300f"
   },
   "outputs": [
    {
     "name": "stderr",
     "output_type": "stream",
     "text": [
      "WARNING:snowflake.snowpark:ModelRegistry.get_history() is in private preview since 0.2.0. Do not use it in production. \n"
     ]
    },
    {
     "data": {
      "text/html": [
       "<div>\n",
       "<style scoped>\n",
       "    .dataframe tbody tr th:only-of-type {\n",
       "        vertical-align: middle;\n",
       "    }\n",
       "\n",
       "    .dataframe tbody tr th {\n",
       "        vertical-align: top;\n",
       "    }\n",
       "\n",
       "    .dataframe thead th {\n",
       "        text-align: right;\n",
       "    }\n",
       "</style>\n",
       "<table border=\"1\" class=\"dataframe\">\n",
       "  <thead>\n",
       "    <tr style=\"text-align: right;\">\n",
       "      <th></th>\n",
       "      <th>EVENT_TIMESTAMP</th>\n",
       "      <th>EVENT_ID</th>\n",
       "      <th>MODEL_ID</th>\n",
       "      <th>ROLE</th>\n",
       "      <th>OPERATION</th>\n",
       "      <th>ATTRIBUTE_NAME</th>\n",
       "      <th>VALUE[ATTRIBUTE_NAME]</th>\n",
       "    </tr>\n",
       "  </thead>\n",
       "  <tbody>\n",
       "    <tr>\n",
       "      <th>0</th>\n",
       "      <td>2024-04-10 07:03:45.892000-07:00</td>\n",
       "      <td>246b2a2ff74311eead3a00e04c316b7e</td>\n",
       "      <td>1dc54ee9f74311eea7b000e04c316b7e</td>\n",
       "      <td>\"ACCOUNTADMIN\"</td>\n",
       "      <td>SET</td>\n",
       "      <td>REGISTRATION</td>\n",
       "      <td>{\\n  \"CREATION_ENVIRONMENT_SPEC\": {\\n    \"pyth...</td>\n",
       "    </tr>\n",
       "    <tr>\n",
       "      <th>1</th>\n",
       "      <td>2024-04-10 07:03:49.450000-07:00</td>\n",
       "      <td>268e43a4f74311ee828400e04c316b7e</td>\n",
       "      <td>1dc54ee9f74311eea7b000e04c316b7e</td>\n",
       "      <td>\"ACCOUNTADMIN\"</td>\n",
       "      <td>SET</td>\n",
       "      <td>METRICS</td>\n",
       "      <td>{\\n  \"mean_abs_pct_err\": 115.64584045410156\\n}</td>\n",
       "    </tr>\n",
       "    <tr>\n",
       "      <th>2</th>\n",
       "      <td>2024-04-10 07:05:39.683000-07:00</td>\n",
       "      <td>684251a2f74311eeb8d300e04c316b7e</td>\n",
       "      <td>1dc54ee9f74311eea7b000e04c316b7e</td>\n",
       "      <td>\"ACCOUNTADMIN\"</td>\n",
       "      <td>SET</td>\n",
       "      <td>TAGS</td>\n",
       "      <td>{\\n  \"usage\": \"experiment\"\\n}</td>\n",
       "    </tr>\n",
       "    <tr>\n",
       "      <th>3</th>\n",
       "      <td>2024-04-10 07:05:42.563000-07:00</td>\n",
       "      <td>69f964fcf74311eeaccc00e04c316b7e</td>\n",
       "      <td>1dc54ee9f74311eea7b000e04c316b7e</td>\n",
       "      <td>\"ACCOUNTADMIN\"</td>\n",
       "      <td>SET</td>\n",
       "      <td>TAGS</td>\n",
       "      <td>{}</td>\n",
       "    </tr>\n",
       "    <tr>\n",
       "      <th>4</th>\n",
       "      <td>2024-04-10 07:05:48.665000-07:00</td>\n",
       "      <td>6d9cf5f0f74311ee821500e04c316b7e</td>\n",
       "      <td>1dc54ee9f74311eea7b000e04c316b7e</td>\n",
       "      <td>\"ACCOUNTADMIN\"</td>\n",
       "      <td>SET</td>\n",
       "      <td>TAGS</td>\n",
       "      <td>{\\n  \"usage\": \"experiment\"\\n}</td>\n",
       "    </tr>\n",
       "    <tr>\n",
       "      <th>5</th>\n",
       "      <td>2024-04-10 07:05:52.215000-07:00</td>\n",
       "      <td>6fbb6907f74311ee9c8a00e04c316b7e</td>\n",
       "      <td>1dc54ee9f74311eea7b000e04c316b7e</td>\n",
       "      <td>\"ACCOUNTADMIN\"</td>\n",
       "      <td>SET</td>\n",
       "      <td>DESCRIPTION</td>\n",
       "      <td>\"this is a test model\"</td>\n",
       "    </tr>\n",
       "    <tr>\n",
       "      <th>6</th>\n",
       "      <td>2024-04-10 07:14:38.012000-07:00</td>\n",
       "      <td>a920798af74411ee8ec600e04c316b7e</td>\n",
       "      <td>1dc54ee9f74311eea7b000e04c316b7e</td>\n",
       "      <td>\"ACCOUNTADMIN\"</td>\n",
       "      <td>SET</td>\n",
       "      <td>DELETION</td>\n",
       "      <td>{\\n  \"URI\": \"sfc://SNOWPARK.TUTORIAL.SNOWML_MO...</td>\n",
       "    </tr>\n",
       "    <tr>\n",
       "      <th>7</th>\n",
       "      <td>2024-04-10 07:14:58.850000-07:00</td>\n",
       "      <td>b58c0210f74411ee991f00e04c316b7e</td>\n",
       "      <td>af995dbef74411eeb72700e04c316b7e</td>\n",
       "      <td>\"ACCOUNTADMIN\"</td>\n",
       "      <td>SET</td>\n",
       "      <td>REGISTRATION</td>\n",
       "      <td>{\\n  \"CREATION_ENVIRONMENT_SPEC\": {\\n    \"pyth...</td>\n",
       "    </tr>\n",
       "    <tr>\n",
       "      <th>8</th>\n",
       "      <td>2024-04-10 07:15:00.500000-07:00</td>\n",
       "      <td>b68860e4f74411ee920500e04c316b7e</td>\n",
       "      <td>af995dbef74411eeb72700e04c316b7e</td>\n",
       "      <td>\"ACCOUNTADMIN\"</td>\n",
       "      <td>SET</td>\n",
       "      <td>METRICS</td>\n",
       "      <td>{\\n  \"mean_abs_pct_err\": 115.64584045410156\\n}</td>\n",
       "    </tr>\n",
       "    <tr>\n",
       "      <th>9</th>\n",
       "      <td>2024-04-10 07:15:08.344000-07:00</td>\n",
       "      <td>bb348a86f74411ee854b00e04c316b7e</td>\n",
       "      <td>af995dbef74411eeb72700e04c316b7e</td>\n",
       "      <td>\"ACCOUNTADMIN\"</td>\n",
       "      <td>SET</td>\n",
       "      <td>TAGS</td>\n",
       "      <td>{\\n  \"usage\": \"experiment\"\\n}</td>\n",
       "    </tr>\n",
       "    <tr>\n",
       "      <th>10</th>\n",
       "      <td>2024-04-10 07:15:09.962000-07:00</td>\n",
       "      <td>bc2b6f56f74411ee9e3800e04c316b7e</td>\n",
       "      <td>af995dbef74411eeb72700e04c316b7e</td>\n",
       "      <td>\"ACCOUNTADMIN\"</td>\n",
       "      <td>SET</td>\n",
       "      <td>TAGS</td>\n",
       "      <td>{}</td>\n",
       "    </tr>\n",
       "    <tr>\n",
       "      <th>11</th>\n",
       "      <td>2024-04-10 07:15:11.899000-07:00</td>\n",
       "      <td>bd53cf25f74411eea76b00e04c316b7e</td>\n",
       "      <td>af995dbef74411eeb72700e04c316b7e</td>\n",
       "      <td>\"ACCOUNTADMIN\"</td>\n",
       "      <td>SET</td>\n",
       "      <td>TAGS</td>\n",
       "      <td>{\\n  \"usage\": \"experiment\"\\n}</td>\n",
       "    </tr>\n",
       "    <tr>\n",
       "      <th>12</th>\n",
       "      <td>2024-04-10 07:15:13.468000-07:00</td>\n",
       "      <td>be4251b7f74411eeb48c00e04c316b7e</td>\n",
       "      <td>af995dbef74411eeb72700e04c316b7e</td>\n",
       "      <td>\"ACCOUNTADMIN\"</td>\n",
       "      <td>SET</td>\n",
       "      <td>DESCRIPTION</td>\n",
       "      <td>\"this is a test model\"</td>\n",
       "    </tr>\n",
       "    <tr>\n",
       "      <th>13</th>\n",
       "      <td>2024-04-10 07:17:21.623000-07:00</td>\n",
       "      <td>0aa59dc5f74511eea9ed00e04c316b7e</td>\n",
       "      <td>af995dbef74411eeb72700e04c316b7e</td>\n",
       "      <td>\"ACCOUNTADMIN\"</td>\n",
       "      <td>SET</td>\n",
       "      <td>DELETION</td>\n",
       "      <td>{\\n  \"URI\": \"sfc://SNOWPARK.TUTORIAL.SNOWML_MO...</td>\n",
       "    </tr>\n",
       "    <tr>\n",
       "      <th>14</th>\n",
       "      <td>2024-04-10 07:22:37.610000-07:00</td>\n",
       "      <td>c6fc80a3f74511eead6500e04c316b7e</td>\n",
       "      <td>c0969714f74511ee831c00e04c316b7e</td>\n",
       "      <td>\"ACCOUNTADMIN\"</td>\n",
       "      <td>SET</td>\n",
       "      <td>REGISTRATION</td>\n",
       "      <td>{\\n  \"CREATION_ENVIRONMENT_SPEC\": {\\n    \"pyth...</td>\n",
       "    </tr>\n",
       "    <tr>\n",
       "      <th>15</th>\n",
       "      <td>2024-04-10 07:22:39.858000-07:00</td>\n",
       "      <td>c85334b6f74511eeaf1500e04c316b7e</td>\n",
       "      <td>c0969714f74511ee831c00e04c316b7e</td>\n",
       "      <td>\"ACCOUNTADMIN\"</td>\n",
       "      <td>SET</td>\n",
       "      <td>METRICS</td>\n",
       "      <td>{\\n  \"mean_abs_pct_err\": 115.64584045410156\\n}</td>\n",
       "    </tr>\n",
       "    <tr>\n",
       "      <th>16</th>\n",
       "      <td>2024-04-10 07:22:41.760000-07:00</td>\n",
       "      <td>c972cb91f74511eeb28000e04c316b7e</td>\n",
       "      <td>c0969714f74511ee831c00e04c316b7e</td>\n",
       "      <td>\"ACCOUNTADMIN\"</td>\n",
       "      <td>SET</td>\n",
       "      <td>TAGS</td>\n",
       "      <td>{\\n  \"usage\": \"experiment\"\\n}</td>\n",
       "    </tr>\n",
       "    <tr>\n",
       "      <th>17</th>\n",
       "      <td>2024-04-10 07:22:43.426000-07:00</td>\n",
       "      <td>ca74ae52f74511ee83d100e04c316b7e</td>\n",
       "      <td>c0969714f74511ee831c00e04c316b7e</td>\n",
       "      <td>\"ACCOUNTADMIN\"</td>\n",
       "      <td>SET</td>\n",
       "      <td>TAGS</td>\n",
       "      <td>{}</td>\n",
       "    </tr>\n",
       "    <tr>\n",
       "      <th>18</th>\n",
       "      <td>2024-04-10 07:22:45.054000-07:00</td>\n",
       "      <td>cb6cd140f74511ee828e00e04c316b7e</td>\n",
       "      <td>c0969714f74511ee831c00e04c316b7e</td>\n",
       "      <td>\"ACCOUNTADMIN\"</td>\n",
       "      <td>SET</td>\n",
       "      <td>TAGS</td>\n",
       "      <td>{\\n  \"usage\": \"experiment\"\\n}</td>\n",
       "    </tr>\n",
       "    <tr>\n",
       "      <th>19</th>\n",
       "      <td>2024-04-10 07:22:46.651000-07:00</td>\n",
       "      <td>cc60acfaf74511ee96b700e04c316b7e</td>\n",
       "      <td>c0969714f74511ee831c00e04c316b7e</td>\n",
       "      <td>\"ACCOUNTADMIN\"</td>\n",
       "      <td>SET</td>\n",
       "      <td>DESCRIPTION</td>\n",
       "      <td>\"this is a test model\"</td>\n",
       "    </tr>\n",
       "    <tr>\n",
       "      <th>20</th>\n",
       "      <td>2024-04-16 05:48:45.019000-07:00</td>\n",
       "      <td>a8ba1d57fbef11ee8d8300e04c316b7e</td>\n",
       "      <td>c0969714f74511ee831c00e04c316b7e</td>\n",
       "      <td>\"ACCOUNTADMIN\"</td>\n",
       "      <td>SET</td>\n",
       "      <td>DELETION</td>\n",
       "      <td>{\\n  \"URI\": \"sfc://SNOWPARK.TUTORIAL.SNOWML_MO...</td>\n",
       "    </tr>\n",
       "    <tr>\n",
       "      <th>21</th>\n",
       "      <td>2024-04-16 05:49:02.829000-07:00</td>\n",
       "      <td>b3579b1ffbef11ee89ce00e04c316b7e</td>\n",
       "      <td>ac88e6fdfbef11eeaab700e04c316b7e</td>\n",
       "      <td>\"ACCOUNTADMIN\"</td>\n",
       "      <td>SET</td>\n",
       "      <td>REGISTRATION</td>\n",
       "      <td>{\\n  \"CREATION_ENVIRONMENT_SPEC\": {\\n    \"pyth...</td>\n",
       "    </tr>\n",
       "    <tr>\n",
       "      <th>22</th>\n",
       "      <td>2024-04-16 05:49:05.172000-07:00</td>\n",
       "      <td>b4bd17affbef11ee805100e04c316b7e</td>\n",
       "      <td>ac88e6fdfbef11eeaab700e04c316b7e</td>\n",
       "      <td>\"ACCOUNTADMIN\"</td>\n",
       "      <td>SET</td>\n",
       "      <td>METRICS</td>\n",
       "      <td>{\\n  \"mean_abs_pct_err\": 115.64584045410156\\n}</td>\n",
       "    </tr>\n",
       "    <tr>\n",
       "      <th>23</th>\n",
       "      <td>2024-04-16 05:49:36.817000-07:00</td>\n",
       "      <td>c799a0d9fbef11eea0ab00e04c316b7e</td>\n",
       "      <td>ac88e6fdfbef11eeaab700e04c316b7e</td>\n",
       "      <td>\"ACCOUNTADMIN\"</td>\n",
       "      <td>SET</td>\n",
       "      <td>TAGS</td>\n",
       "      <td>{\\n  \"usage\": \"experiment\"\\n}</td>\n",
       "    </tr>\n",
       "    <tr>\n",
       "      <th>24</th>\n",
       "      <td>2024-04-16 05:49:43.249000-07:00</td>\n",
       "      <td>cb6f0db1fbef11eeb55b00e04c316b7e</td>\n",
       "      <td>ac88e6fdfbef11eeaab700e04c316b7e</td>\n",
       "      <td>\"ACCOUNTADMIN\"</td>\n",
       "      <td>SET</td>\n",
       "      <td>TAGS</td>\n",
       "      <td>{\\n  \"usage\": \"experiment\"\\n}</td>\n",
       "    </tr>\n",
       "    <tr>\n",
       "      <th>25</th>\n",
       "      <td>2024-04-16 05:49:45.050000-07:00</td>\n",
       "      <td>cc820a7bfbef11ee8a1800e04c316b7e</td>\n",
       "      <td>ac88e6fdfbef11eeaab700e04c316b7e</td>\n",
       "      <td>\"ACCOUNTADMIN\"</td>\n",
       "      <td>SET</td>\n",
       "      <td>TAGS</td>\n",
       "      <td>{}</td>\n",
       "    </tr>\n",
       "    <tr>\n",
       "      <th>26</th>\n",
       "      <td>2024-04-16 05:49:46.876000-07:00</td>\n",
       "      <td>cd98ceb2fbef11eeb44a00e04c316b7e</td>\n",
       "      <td>ac88e6fdfbef11eeaab700e04c316b7e</td>\n",
       "      <td>\"ACCOUNTADMIN\"</td>\n",
       "      <td>SET</td>\n",
       "      <td>TAGS</td>\n",
       "      <td>{\\n  \"usage\": \"experiment\"\\n}</td>\n",
       "    </tr>\n",
       "    <tr>\n",
       "      <th>27</th>\n",
       "      <td>2024-04-16 05:49:48.567000-07:00</td>\n",
       "      <td>ce9ad42bfbef11ee8aae00e04c316b7e</td>\n",
       "      <td>ac88e6fdfbef11eeaab700e04c316b7e</td>\n",
       "      <td>\"ACCOUNTADMIN\"</td>\n",
       "      <td>SET</td>\n",
       "      <td>DESCRIPTION</td>\n",
       "      <td>\"this is a test model\"</td>\n",
       "    </tr>\n",
       "  </tbody>\n",
       "</table>\n",
       "</div>"
      ],
      "text/plain": [
       "                    EVENT_TIMESTAMP                          EVENT_ID  \\\n",
       "0  2024-04-10 07:03:45.892000-07:00  246b2a2ff74311eead3a00e04c316b7e   \n",
       "1  2024-04-10 07:03:49.450000-07:00  268e43a4f74311ee828400e04c316b7e   \n",
       "2  2024-04-10 07:05:39.683000-07:00  684251a2f74311eeb8d300e04c316b7e   \n",
       "3  2024-04-10 07:05:42.563000-07:00  69f964fcf74311eeaccc00e04c316b7e   \n",
       "4  2024-04-10 07:05:48.665000-07:00  6d9cf5f0f74311ee821500e04c316b7e   \n",
       "5  2024-04-10 07:05:52.215000-07:00  6fbb6907f74311ee9c8a00e04c316b7e   \n",
       "6  2024-04-10 07:14:38.012000-07:00  a920798af74411ee8ec600e04c316b7e   \n",
       "7  2024-04-10 07:14:58.850000-07:00  b58c0210f74411ee991f00e04c316b7e   \n",
       "8  2024-04-10 07:15:00.500000-07:00  b68860e4f74411ee920500e04c316b7e   \n",
       "9  2024-04-10 07:15:08.344000-07:00  bb348a86f74411ee854b00e04c316b7e   \n",
       "10 2024-04-10 07:15:09.962000-07:00  bc2b6f56f74411ee9e3800e04c316b7e   \n",
       "11 2024-04-10 07:15:11.899000-07:00  bd53cf25f74411eea76b00e04c316b7e   \n",
       "12 2024-04-10 07:15:13.468000-07:00  be4251b7f74411eeb48c00e04c316b7e   \n",
       "13 2024-04-10 07:17:21.623000-07:00  0aa59dc5f74511eea9ed00e04c316b7e   \n",
       "14 2024-04-10 07:22:37.610000-07:00  c6fc80a3f74511eead6500e04c316b7e   \n",
       "15 2024-04-10 07:22:39.858000-07:00  c85334b6f74511eeaf1500e04c316b7e   \n",
       "16 2024-04-10 07:22:41.760000-07:00  c972cb91f74511eeb28000e04c316b7e   \n",
       "17 2024-04-10 07:22:43.426000-07:00  ca74ae52f74511ee83d100e04c316b7e   \n",
       "18 2024-04-10 07:22:45.054000-07:00  cb6cd140f74511ee828e00e04c316b7e   \n",
       "19 2024-04-10 07:22:46.651000-07:00  cc60acfaf74511ee96b700e04c316b7e   \n",
       "20 2024-04-16 05:48:45.019000-07:00  a8ba1d57fbef11ee8d8300e04c316b7e   \n",
       "21 2024-04-16 05:49:02.829000-07:00  b3579b1ffbef11ee89ce00e04c316b7e   \n",
       "22 2024-04-16 05:49:05.172000-07:00  b4bd17affbef11ee805100e04c316b7e   \n",
       "23 2024-04-16 05:49:36.817000-07:00  c799a0d9fbef11eea0ab00e04c316b7e   \n",
       "24 2024-04-16 05:49:43.249000-07:00  cb6f0db1fbef11eeb55b00e04c316b7e   \n",
       "25 2024-04-16 05:49:45.050000-07:00  cc820a7bfbef11ee8a1800e04c316b7e   \n",
       "26 2024-04-16 05:49:46.876000-07:00  cd98ceb2fbef11eeb44a00e04c316b7e   \n",
       "27 2024-04-16 05:49:48.567000-07:00  ce9ad42bfbef11ee8aae00e04c316b7e   \n",
       "\n",
       "                            MODEL_ID            ROLE OPERATION ATTRIBUTE_NAME  \\\n",
       "0   1dc54ee9f74311eea7b000e04c316b7e  \"ACCOUNTADMIN\"       SET   REGISTRATION   \n",
       "1   1dc54ee9f74311eea7b000e04c316b7e  \"ACCOUNTADMIN\"       SET        METRICS   \n",
       "2   1dc54ee9f74311eea7b000e04c316b7e  \"ACCOUNTADMIN\"       SET           TAGS   \n",
       "3   1dc54ee9f74311eea7b000e04c316b7e  \"ACCOUNTADMIN\"       SET           TAGS   \n",
       "4   1dc54ee9f74311eea7b000e04c316b7e  \"ACCOUNTADMIN\"       SET           TAGS   \n",
       "5   1dc54ee9f74311eea7b000e04c316b7e  \"ACCOUNTADMIN\"       SET    DESCRIPTION   \n",
       "6   1dc54ee9f74311eea7b000e04c316b7e  \"ACCOUNTADMIN\"       SET       DELETION   \n",
       "7   af995dbef74411eeb72700e04c316b7e  \"ACCOUNTADMIN\"       SET   REGISTRATION   \n",
       "8   af995dbef74411eeb72700e04c316b7e  \"ACCOUNTADMIN\"       SET        METRICS   \n",
       "9   af995dbef74411eeb72700e04c316b7e  \"ACCOUNTADMIN\"       SET           TAGS   \n",
       "10  af995dbef74411eeb72700e04c316b7e  \"ACCOUNTADMIN\"       SET           TAGS   \n",
       "11  af995dbef74411eeb72700e04c316b7e  \"ACCOUNTADMIN\"       SET           TAGS   \n",
       "12  af995dbef74411eeb72700e04c316b7e  \"ACCOUNTADMIN\"       SET    DESCRIPTION   \n",
       "13  af995dbef74411eeb72700e04c316b7e  \"ACCOUNTADMIN\"       SET       DELETION   \n",
       "14  c0969714f74511ee831c00e04c316b7e  \"ACCOUNTADMIN\"       SET   REGISTRATION   \n",
       "15  c0969714f74511ee831c00e04c316b7e  \"ACCOUNTADMIN\"       SET        METRICS   \n",
       "16  c0969714f74511ee831c00e04c316b7e  \"ACCOUNTADMIN\"       SET           TAGS   \n",
       "17  c0969714f74511ee831c00e04c316b7e  \"ACCOUNTADMIN\"       SET           TAGS   \n",
       "18  c0969714f74511ee831c00e04c316b7e  \"ACCOUNTADMIN\"       SET           TAGS   \n",
       "19  c0969714f74511ee831c00e04c316b7e  \"ACCOUNTADMIN\"       SET    DESCRIPTION   \n",
       "20  c0969714f74511ee831c00e04c316b7e  \"ACCOUNTADMIN\"       SET       DELETION   \n",
       "21  ac88e6fdfbef11eeaab700e04c316b7e  \"ACCOUNTADMIN\"       SET   REGISTRATION   \n",
       "22  ac88e6fdfbef11eeaab700e04c316b7e  \"ACCOUNTADMIN\"       SET        METRICS   \n",
       "23  ac88e6fdfbef11eeaab700e04c316b7e  \"ACCOUNTADMIN\"       SET           TAGS   \n",
       "24  ac88e6fdfbef11eeaab700e04c316b7e  \"ACCOUNTADMIN\"       SET           TAGS   \n",
       "25  ac88e6fdfbef11eeaab700e04c316b7e  \"ACCOUNTADMIN\"       SET           TAGS   \n",
       "26  ac88e6fdfbef11eeaab700e04c316b7e  \"ACCOUNTADMIN\"       SET           TAGS   \n",
       "27  ac88e6fdfbef11eeaab700e04c316b7e  \"ACCOUNTADMIN\"       SET    DESCRIPTION   \n",
       "\n",
       "                                VALUE[ATTRIBUTE_NAME]  \n",
       "0   {\\n  \"CREATION_ENVIRONMENT_SPEC\": {\\n    \"pyth...  \n",
       "1      {\\n  \"mean_abs_pct_err\": 115.64584045410156\\n}  \n",
       "2                       {\\n  \"usage\": \"experiment\"\\n}  \n",
       "3                                                  {}  \n",
       "4                       {\\n  \"usage\": \"experiment\"\\n}  \n",
       "5                              \"this is a test model\"  \n",
       "6   {\\n  \"URI\": \"sfc://SNOWPARK.TUTORIAL.SNOWML_MO...  \n",
       "7   {\\n  \"CREATION_ENVIRONMENT_SPEC\": {\\n    \"pyth...  \n",
       "8      {\\n  \"mean_abs_pct_err\": 115.64584045410156\\n}  \n",
       "9                       {\\n  \"usage\": \"experiment\"\\n}  \n",
       "10                                                 {}  \n",
       "11                      {\\n  \"usage\": \"experiment\"\\n}  \n",
       "12                             \"this is a test model\"  \n",
       "13  {\\n  \"URI\": \"sfc://SNOWPARK.TUTORIAL.SNOWML_MO...  \n",
       "14  {\\n  \"CREATION_ENVIRONMENT_SPEC\": {\\n    \"pyth...  \n",
       "15     {\\n  \"mean_abs_pct_err\": 115.64584045410156\\n}  \n",
       "16                      {\\n  \"usage\": \"experiment\"\\n}  \n",
       "17                                                 {}  \n",
       "18                      {\\n  \"usage\": \"experiment\"\\n}  \n",
       "19                             \"this is a test model\"  \n",
       "20  {\\n  \"URI\": \"sfc://SNOWPARK.TUTORIAL.SNOWML_MO...  \n",
       "21  {\\n  \"CREATION_ENVIRONMENT_SPEC\": {\\n    \"pyth...  \n",
       "22     {\\n  \"mean_abs_pct_err\": 115.64584045410156\\n}  \n",
       "23                      {\\n  \"usage\": \"experiment\"\\n}  \n",
       "24                      {\\n  \"usage\": \"experiment\"\\n}  \n",
       "25                                                 {}  \n",
       "26                      {\\n  \"usage\": \"experiment\"\\n}  \n",
       "27                             \"this is a test model\"  "
      ]
     },
     "execution_count": 21,
     "metadata": {},
     "output_type": "execute_result"
    }
   ],
   "source": [
    "\n",
    "#REGISTRY HISTORY\n",
    "registry.get_history().to_pandas()"
   ]
  },
  {
   "cell_type": "code",
   "execution_count": 22,
   "id": "16656518",
   "metadata": {
    "id": "809869ca-70ae-44f7-b695-991e51f997b8",
    "outputId": "b2dfc376-bf8a-42cd-b62f-35cfc68ddbd6"
   },
   "outputs": [
    {
     "name": "stderr",
     "output_type": "stream",
     "text": [
      "WARNING:snowflake.snowpark:ModelRegistry.get_model_history() is in private preview since 0.2.0. Do not use it in production. \n"
     ]
    },
    {
     "data": {
      "text/html": [
       "<div>\n",
       "<style scoped>\n",
       "    .dataframe tbody tr th:only-of-type {\n",
       "        vertical-align: middle;\n",
       "    }\n",
       "\n",
       "    .dataframe tbody tr th {\n",
       "        vertical-align: top;\n",
       "    }\n",
       "\n",
       "    .dataframe thead th {\n",
       "        text-align: right;\n",
       "    }\n",
       "</style>\n",
       "<table border=\"1\" class=\"dataframe\">\n",
       "  <thead>\n",
       "    <tr style=\"text-align: right;\">\n",
       "      <th></th>\n",
       "      <th>EVENT_TIMESTAMP</th>\n",
       "      <th>EVENT_ID</th>\n",
       "      <th>MODEL_ID</th>\n",
       "      <th>ROLE</th>\n",
       "      <th>OPERATION</th>\n",
       "      <th>ATTRIBUTE_NAME</th>\n",
       "      <th>VALUE[ATTRIBUTE_NAME]</th>\n",
       "    </tr>\n",
       "  </thead>\n",
       "  <tbody>\n",
       "    <tr>\n",
       "      <th>0</th>\n",
       "      <td>2024-04-16 05:49:02.829000-07:00</td>\n",
       "      <td>b3579b1ffbef11ee89ce00e04c316b7e</td>\n",
       "      <td>ac88e6fdfbef11eeaab700e04c316b7e</td>\n",
       "      <td>\"ACCOUNTADMIN\"</td>\n",
       "      <td>SET</td>\n",
       "      <td>REGISTRATION</td>\n",
       "      <td>{\\n  \"CREATION_ENVIRONMENT_SPEC\": {\\n    \"pyth...</td>\n",
       "    </tr>\n",
       "    <tr>\n",
       "      <th>1</th>\n",
       "      <td>2024-04-16 05:49:05.172000-07:00</td>\n",
       "      <td>b4bd17affbef11ee805100e04c316b7e</td>\n",
       "      <td>ac88e6fdfbef11eeaab700e04c316b7e</td>\n",
       "      <td>\"ACCOUNTADMIN\"</td>\n",
       "      <td>SET</td>\n",
       "      <td>METRICS</td>\n",
       "      <td>{\\n  \"mean_abs_pct_err\": 115.64584045410156\\n}</td>\n",
       "    </tr>\n",
       "    <tr>\n",
       "      <th>2</th>\n",
       "      <td>2024-04-16 05:49:36.817000-07:00</td>\n",
       "      <td>c799a0d9fbef11eea0ab00e04c316b7e</td>\n",
       "      <td>ac88e6fdfbef11eeaab700e04c316b7e</td>\n",
       "      <td>\"ACCOUNTADMIN\"</td>\n",
       "      <td>SET</td>\n",
       "      <td>TAGS</td>\n",
       "      <td>{\\n  \"usage\": \"experiment\"\\n}</td>\n",
       "    </tr>\n",
       "    <tr>\n",
       "      <th>3</th>\n",
       "      <td>2024-04-16 05:49:43.249000-07:00</td>\n",
       "      <td>cb6f0db1fbef11eeb55b00e04c316b7e</td>\n",
       "      <td>ac88e6fdfbef11eeaab700e04c316b7e</td>\n",
       "      <td>\"ACCOUNTADMIN\"</td>\n",
       "      <td>SET</td>\n",
       "      <td>TAGS</td>\n",
       "      <td>{\\n  \"usage\": \"experiment\"\\n}</td>\n",
       "    </tr>\n",
       "    <tr>\n",
       "      <th>4</th>\n",
       "      <td>2024-04-16 05:49:45.050000-07:00</td>\n",
       "      <td>cc820a7bfbef11ee8a1800e04c316b7e</td>\n",
       "      <td>ac88e6fdfbef11eeaab700e04c316b7e</td>\n",
       "      <td>\"ACCOUNTADMIN\"</td>\n",
       "      <td>SET</td>\n",
       "      <td>TAGS</td>\n",
       "      <td>{}</td>\n",
       "    </tr>\n",
       "    <tr>\n",
       "      <th>5</th>\n",
       "      <td>2024-04-16 05:49:46.876000-07:00</td>\n",
       "      <td>cd98ceb2fbef11eeb44a00e04c316b7e</td>\n",
       "      <td>ac88e6fdfbef11eeaab700e04c316b7e</td>\n",
       "      <td>\"ACCOUNTADMIN\"</td>\n",
       "      <td>SET</td>\n",
       "      <td>TAGS</td>\n",
       "      <td>{\\n  \"usage\": \"experiment\"\\n}</td>\n",
       "    </tr>\n",
       "    <tr>\n",
       "      <th>6</th>\n",
       "      <td>2024-04-16 05:49:48.567000-07:00</td>\n",
       "      <td>ce9ad42bfbef11ee8aae00e04c316b7e</td>\n",
       "      <td>ac88e6fdfbef11eeaab700e04c316b7e</td>\n",
       "      <td>\"ACCOUNTADMIN\"</td>\n",
       "      <td>SET</td>\n",
       "      <td>DESCRIPTION</td>\n",
       "      <td>\"this is a test model\"</td>\n",
       "    </tr>\n",
       "  </tbody>\n",
       "</table>\n",
       "</div>"
      ],
      "text/plain": [
       "                   EVENT_TIMESTAMP                          EVENT_ID  \\\n",
       "0 2024-04-16 05:49:02.829000-07:00  b3579b1ffbef11ee89ce00e04c316b7e   \n",
       "1 2024-04-16 05:49:05.172000-07:00  b4bd17affbef11ee805100e04c316b7e   \n",
       "2 2024-04-16 05:49:36.817000-07:00  c799a0d9fbef11eea0ab00e04c316b7e   \n",
       "3 2024-04-16 05:49:43.249000-07:00  cb6f0db1fbef11eeb55b00e04c316b7e   \n",
       "4 2024-04-16 05:49:45.050000-07:00  cc820a7bfbef11ee8a1800e04c316b7e   \n",
       "5 2024-04-16 05:49:46.876000-07:00  cd98ceb2fbef11eeb44a00e04c316b7e   \n",
       "6 2024-04-16 05:49:48.567000-07:00  ce9ad42bfbef11ee8aae00e04c316b7e   \n",
       "\n",
       "                           MODEL_ID            ROLE OPERATION ATTRIBUTE_NAME  \\\n",
       "0  ac88e6fdfbef11eeaab700e04c316b7e  \"ACCOUNTADMIN\"       SET   REGISTRATION   \n",
       "1  ac88e6fdfbef11eeaab700e04c316b7e  \"ACCOUNTADMIN\"       SET        METRICS   \n",
       "2  ac88e6fdfbef11eeaab700e04c316b7e  \"ACCOUNTADMIN\"       SET           TAGS   \n",
       "3  ac88e6fdfbef11eeaab700e04c316b7e  \"ACCOUNTADMIN\"       SET           TAGS   \n",
       "4  ac88e6fdfbef11eeaab700e04c316b7e  \"ACCOUNTADMIN\"       SET           TAGS   \n",
       "5  ac88e6fdfbef11eeaab700e04c316b7e  \"ACCOUNTADMIN\"       SET           TAGS   \n",
       "6  ac88e6fdfbef11eeaab700e04c316b7e  \"ACCOUNTADMIN\"       SET    DESCRIPTION   \n",
       "\n",
       "                               VALUE[ATTRIBUTE_NAME]  \n",
       "0  {\\n  \"CREATION_ENVIRONMENT_SPEC\": {\\n    \"pyth...  \n",
       "1     {\\n  \"mean_abs_pct_err\": 115.64584045410156\\n}  \n",
       "2                      {\\n  \"usage\": \"experiment\"\\n}  \n",
       "3                      {\\n  \"usage\": \"experiment\"\\n}  \n",
       "4                                                 {}  \n",
       "5                      {\\n  \"usage\": \"experiment\"\\n}  \n",
       "6                             \"this is a test model\"  "
      ]
     },
     "execution_count": 22,
     "metadata": {},
     "output_type": "execute_result"
    }
   ],
   "source": [
    "\n",
    "#MODEL HISTORY\n",
    "registry.get_model_history(model_name=model_name, model_version=model_version).to_pandas()"
   ]
  },
  {
   "cell_type": "code",
   "execution_count": 23,
   "id": "4b64d1a6",
   "metadata": {
    "id": "607e45b1-fc27-4dc4-a2ec-1de7b8b4a4f7",
    "outputId": "2bd2caa1-c3c3-470f-ead3-b246bc95ff6c"
   },
   "outputs": [
    {
     "name": "stderr",
     "output_type": "stream",
     "text": [
      "WARNING:snowflake.snowpark:ModelRegistry.get_metric_value() is in private preview since 0.2.0. Do not use it in production. \n"
     ]
    },
    {
     "data": {
      "text/plain": [
       "115.64584045410156"
      ]
     },
     "execution_count": 23,
     "metadata": {},
     "output_type": "execute_result"
    }
   ],
   "source": [
    "#CHECK EVALUATION METRIC OF A MODEL\n",
    "\n",
    "registry.get_metric_value(model_name=model_name, model_version=model_version, metric_name=\"mean_abs_pct_err\")"
   ]
  },
  {
   "cell_type": "code",
   "execution_count": 24,
   "id": "17851213",
   "metadata": {
    "id": "f17bad93-2cc5-407c-ac56-e8f4e7d85e67",
    "outputId": "4ee42324-8d3d-4aed-f623-1a222c750dfe"
   },
   "outputs": [
    {
     "data": {
      "text/plain": [
       "{'mean_abs_pct_err': 115.64584045410156}"
      ]
     },
     "execution_count": 24,
     "metadata": {},
     "output_type": "execute_result"
    }
   ],
   "source": [
    "#GET ALL METRICS STORED FOR A MODEL\n",
    "registry.get_metrics(model_name=model_name, model_version=model_version)"
   ]
  },
  {
   "cell_type": "code",
   "execution_count": 25,
   "id": "5b79ff51",
   "metadata": {
    "id": "7e2e6d3e-f954-47b3-a7a0-35288943517d",
    "outputId": "fc9532e7-bfff-4846-ffc3-6aaecf9b3e46"
   },
   "outputs": [
    {
     "name": "stderr",
     "output_type": "stream",
     "text": [
      "WARNING:snowflake.snowpark:ModelRegistry.load_model() is in private preview since 0.2.0. Do not use it in production. \n",
      "C:\\Users\\Preston\\anaconda3\\envs\\python310\\lib\\site-packages\\snowflake\\snowpark\\_internal\\utils.py:661: UserWarning: Please use with caution: Using `load_model` method requires you to have the EXACT same Python environments as the one when you logged the model. Any differences will potentially lead to errors.\n",
      "Also, if your model contains custom code imported using `code_paths` argument when logging, they will be added to your `sys.path`. It might lead to unexpected module importing issues. If you run into such kind of problems, you need to restart your Python or Notebook kernel.\n",
      "  return func(*args, **kwargs)\n"
     ]
    },
    {
     "data": {
      "text/html": [
       "<style>#sk-container-id-2 {color: black;}#sk-container-id-2 pre{padding: 0;}#sk-container-id-2 div.sk-toggleable {background-color: white;}#sk-container-id-2 label.sk-toggleable__label {cursor: pointer;display: block;width: 100%;margin-bottom: 0;padding: 0.3em;box-sizing: border-box;text-align: center;}#sk-container-id-2 label.sk-toggleable__label-arrow:before {content: \"▸\";float: left;margin-right: 0.25em;color: #696969;}#sk-container-id-2 label.sk-toggleable__label-arrow:hover:before {color: black;}#sk-container-id-2 div.sk-estimator:hover label.sk-toggleable__label-arrow:before {color: black;}#sk-container-id-2 div.sk-toggleable__content {max-height: 0;max-width: 0;overflow: hidden;text-align: left;background-color: #f0f8ff;}#sk-container-id-2 div.sk-toggleable__content pre {margin: 0.2em;color: black;border-radius: 0.25em;background-color: #f0f8ff;}#sk-container-id-2 input.sk-toggleable__control:checked~div.sk-toggleable__content {max-height: 200px;max-width: 100%;overflow: auto;}#sk-container-id-2 input.sk-toggleable__control:checked~label.sk-toggleable__label-arrow:before {content: \"▾\";}#sk-container-id-2 div.sk-estimator input.sk-toggleable__control:checked~label.sk-toggleable__label {background-color: #d4ebff;}#sk-container-id-2 div.sk-label input.sk-toggleable__control:checked~label.sk-toggleable__label {background-color: #d4ebff;}#sk-container-id-2 input.sk-hidden--visually {border: 0;clip: rect(1px 1px 1px 1px);clip: rect(1px, 1px, 1px, 1px);height: 1px;margin: -1px;overflow: hidden;padding: 0;position: absolute;width: 1px;}#sk-container-id-2 div.sk-estimator {font-family: monospace;background-color: #f0f8ff;border: 1px dotted black;border-radius: 0.25em;box-sizing: border-box;margin-bottom: 0.5em;}#sk-container-id-2 div.sk-estimator:hover {background-color: #d4ebff;}#sk-container-id-2 div.sk-parallel-item::after {content: \"\";width: 100%;border-bottom: 1px solid gray;flex-grow: 1;}#sk-container-id-2 div.sk-label:hover label.sk-toggleable__label {background-color: #d4ebff;}#sk-container-id-2 div.sk-serial::before {content: \"\";position: absolute;border-left: 1px solid gray;box-sizing: border-box;top: 0;bottom: 0;left: 50%;z-index: 0;}#sk-container-id-2 div.sk-serial {display: flex;flex-direction: column;align-items: center;background-color: white;padding-right: 0.2em;padding-left: 0.2em;position: relative;}#sk-container-id-2 div.sk-item {position: relative;z-index: 1;}#sk-container-id-2 div.sk-parallel {display: flex;align-items: stretch;justify-content: center;background-color: white;position: relative;}#sk-container-id-2 div.sk-item::before, #sk-container-id-2 div.sk-parallel-item::before {content: \"\";position: absolute;border-left: 1px solid gray;box-sizing: border-box;top: 0;bottom: 0;left: 50%;z-index: -1;}#sk-container-id-2 div.sk-parallel-item {display: flex;flex-direction: column;z-index: 1;position: relative;background-color: white;}#sk-container-id-2 div.sk-parallel-item:first-child::after {align-self: flex-end;width: 50%;}#sk-container-id-2 div.sk-parallel-item:last-child::after {align-self: flex-start;width: 50%;}#sk-container-id-2 div.sk-parallel-item:only-child::after {width: 0;}#sk-container-id-2 div.sk-dashed-wrapped {border: 1px dashed gray;margin: 0 0.4em 0.5em 0.4em;box-sizing: border-box;padding-bottom: 0.4em;background-color: white;}#sk-container-id-2 div.sk-label label {font-family: monospace;font-weight: bold;display: inline-block;line-height: 1.2em;}#sk-container-id-2 div.sk-label-container {text-align: center;}#sk-container-id-2 div.sk-container {/* jupyter's `normalize.less` sets `[hidden] { display: none; }` but bootstrap.min.css set `[hidden] { display: none !important; }` so we also need the `!important` here to be able to override the default hidden behavior on the sphinx rendered scikit-learn.org. See: https://github.com/scikit-learn/scikit-learn/issues/21755 */display: inline-block !important;position: relative;}#sk-container-id-2 div.sk-text-repr-fallback {display: none;}</style><div id=\"sk-container-id-2\" class=\"sk-top-container\"><div class=\"sk-text-repr-fallback\"><pre>XGBRegressor(base_score=None, booster=None, callbacks=None,\n",
       "             colsample_bylevel=None, colsample_bynode=None,\n",
       "             colsample_bytree=None, early_stopping_rounds=None,\n",
       "             enable_categorical=False, eval_metric=None,\n",
       "             feature_types=[&#x27;int&#x27;, &#x27;int&#x27;, &#x27;int&#x27;, &#x27;int&#x27;, &#x27;int&#x27;, &#x27;int&#x27;, &#x27;float&#x27;,\n",
       "                            &#x27;float&#x27;, &#x27;float&#x27;, &#x27;int&#x27;, &#x27;int&#x27;],\n",
       "             gamma=None, gpu_id=None, grow_policy=None, importance_type=None,\n",
       "             interaction_constraints=None, learning_rate=None, max_bin=None,\n",
       "             max_cat_threshold=None, max_cat_to_onehot=None,\n",
       "             max_delta_step=None, max_depth=4, max_leaves=None,\n",
       "             min_child_weight=4, missing=nan, monotone_constraints=None,\n",
       "             n_estimators=100, n_jobs=None, num_parallel_tree=None,\n",
       "             predictor=None, random_state=None, ...)</pre><b>In a Jupyter environment, please rerun this cell to show the HTML representation or trust the notebook. <br />On GitHub, the HTML representation is unable to render, please try loading this page with nbviewer.org.</b></div><div class=\"sk-container\" hidden><div class=\"sk-item\"><div class=\"sk-estimator sk-toggleable\"><input class=\"sk-toggleable__control sk-hidden--visually\" id=\"sk-estimator-id-2\" type=\"checkbox\" checked><label for=\"sk-estimator-id-2\" class=\"sk-toggleable__label sk-toggleable__label-arrow\">XGBRegressor</label><div class=\"sk-toggleable__content\"><pre>XGBRegressor(base_score=None, booster=None, callbacks=None,\n",
       "             colsample_bylevel=None, colsample_bynode=None,\n",
       "             colsample_bytree=None, early_stopping_rounds=None,\n",
       "             enable_categorical=False, eval_metric=None,\n",
       "             feature_types=[&#x27;int&#x27;, &#x27;int&#x27;, &#x27;int&#x27;, &#x27;int&#x27;, &#x27;int&#x27;, &#x27;int&#x27;, &#x27;float&#x27;,\n",
       "                            &#x27;float&#x27;, &#x27;float&#x27;, &#x27;int&#x27;, &#x27;int&#x27;],\n",
       "             gamma=None, gpu_id=None, grow_policy=None, importance_type=None,\n",
       "             interaction_constraints=None, learning_rate=None, max_bin=None,\n",
       "             max_cat_threshold=None, max_cat_to_onehot=None,\n",
       "             max_delta_step=None, max_depth=4, max_leaves=None,\n",
       "             min_child_weight=4, missing=nan, monotone_constraints=None,\n",
       "             n_estimators=100, n_jobs=None, num_parallel_tree=None,\n",
       "             predictor=None, random_state=None, ...)</pre></div></div></div></div></div>"
      ],
      "text/plain": [
       "XGBRegressor(base_score=None, booster=None, callbacks=None,\n",
       "             colsample_bylevel=None, colsample_bynode=None,\n",
       "             colsample_bytree=None, early_stopping_rounds=None,\n",
       "             enable_categorical=False, eval_metric=None,\n",
       "             feature_types=['int', 'int', 'int', 'int', 'int', 'int', 'float',\n",
       "                            'float', 'float', 'int', 'int'],\n",
       "             gamma=None, gpu_id=None, grow_policy=None, importance_type=None,\n",
       "             interaction_constraints=None, learning_rate=None, max_bin=None,\n",
       "             max_cat_threshold=None, max_cat_to_onehot=None,\n",
       "             max_delta_step=None, max_depth=4, max_leaves=None,\n",
       "             min_child_weight=4, missing=nan, monotone_constraints=None,\n",
       "             n_estimators=100, n_jobs=None, num_parallel_tree=None,\n",
       "             predictor=None, random_state=None, ...)"
      ]
     },
     "execution_count": 25,
     "metadata": {},
     "output_type": "execute_result"
    }
   ],
   "source": [
    "#load model from registry\n",
    "xg_boost_model = registry.load_model(model_name=model_name, model_version=model_version)\n",
    "xg_boost_model"
   ]
  },
  {
   "cell_type": "markdown",
   "id": "2ed0d628",
   "metadata": {},
   "source": [
    "### Deploying Model From Registry \n",
    "\n",
    "* Code snippet delineates steps involved in deployed model registered in model registry\n",
    "* Also explains steps to predict using deployed models"
   ]
  },
  {
   "cell_type": "code",
   "execution_count": 26,
   "id": "1a7613db",
   "metadata": {
    "id": "423ded7c-94f0-4b11-a41d-6546d4309506",
    "outputId": "49f7ea79-55cb-4a50-f8fd-7f40d5e6e5c3"
   },
   "outputs": [
    {
     "name": "stderr",
     "output_type": "stream",
     "text": [
      "WARNING:snowflake.snowpark:ModelRegistry.deploy() is in private preview since 0.2.0. Do not use it in production. \n"
     ]
    },
    {
     "ename": "RuntimeError",
     "evalue": "(2100) \nThe model's dependencies are not available in Snowflake Anaconda Channel. \nRequired packages are: \"absl-py<2,>=1.4\" \"anyio<4,>=3.6\" \"cloudpickle<3,>=2.2\" \"numpy<2,>=1.24\" \"packaging<24,>=23.1\" \"pandas<2,>=1.5\" \"pyyaml<7,>=6.0\" \"snowflake-snowpark-python<2,>=1.14\" \"typing-extensions<5,>=4.11\" \"scikit-learn<2,>=1.3\" \"xgboost<2,>=1.7\"\nRequired Python version is: 3.10\nPackages that are not available are: []\nPackages that cannot meet your requirements are: ['anyio', 'snowflake-snowpark-python', 'typing-extensions']\nPackage availability information of those you requested is: {'absl-py': [<Version('1.4.0')>], 'anyio': [], 'cloudpickle': [<Version('2.2.1')>], 'numpy': [<Version('1.24.3')>, <Version('1.25.0')>, <Version('1.25.2')>, <Version('1.26.0')>, <Version('1.26.2')>, <Version('1.26.3')>, <Version('1.26.4')>], 'packaging': [<Version('23.1')>, <Version('23.2')>], 'pandas': [<Version('1.5.1')>, <Version('1.5.2')>, <Version('1.5.3')>], 'pyyaml': [<Version('6.0')>, <Version('6.0.1')>], 'snowflake-snowpark-python': [], 'typing-extensions': [], 'scikit-learn': [<Version('1.3.0')>], 'xgboost': [<Version('1.7.3')>]}\n",
     "output_type": "error",
     "traceback": [
      "\u001b[1;31m---------------------------------------------------------------------------\u001b[0m",
      "\u001b[1;31mSnowflakeMLException\u001b[0m                      Traceback (most recent call last)",
      "File \u001b[1;32m~\\anaconda3\\envs\\python310\\lib\\site-packages\\snowflake\\ml\\_internal\\telemetry.py:367\u001b[0m, in \u001b[0;36msend_api_usage_telemetry.<locals>.decorator.<locals>.wrap\u001b[1;34m(*args, **kwargs)\u001b[0m\n\u001b[0;32m    366\u001b[0m \u001b[38;5;28;01mtry\u001b[39;00m:\n\u001b[1;32m--> 367\u001b[0m     res \u001b[38;5;241m=\u001b[39m func(\u001b[38;5;241m*\u001b[39margs, \u001b[38;5;241m*\u001b[39m\u001b[38;5;241m*\u001b[39mkwargs)\n\u001b[0;32m    368\u001b[0m \u001b[38;5;28;01mexcept\u001b[39;00m \u001b[38;5;167;01mException\u001b[39;00m \u001b[38;5;28;01mas\u001b[39;00m e:\n",
      "File \u001b[1;32m~\\anaconda3\\envs\\python310\\lib\\site-packages\\snowflake\\snowpark\\_internal\\utils.py:661\u001b[0m, in \u001b[0;36mfunc_decorator.<locals>.wrapper.<locals>.func_call_wrapper\u001b[1;34m(*args, **kwargs)\u001b[0m\n\u001b[0;32m    660\u001b[0m warning(func\u001b[38;5;241m.\u001b[39m\u001b[38;5;18m__qualname__\u001b[39m, warning_text)\n\u001b[1;32m--> 661\u001b[0m \u001b[38;5;28;01mreturn\u001b[39;00m func(\u001b[38;5;241m*\u001b[39margs, \u001b[38;5;241m*\u001b[39m\u001b[38;5;241m*\u001b[39mkwargs)\n",
      "File \u001b[1;32m~\\anaconda3\\envs\\python310\\lib\\site-packages\\snowflake\\ml\\registry\\model_registry.py:1660\u001b[0m, in \u001b[0;36mModelRegistry.deploy\u001b[1;34m(self, model_name, model_version, deployment_name, target_method, permanent, platform, options)\u001b[0m\n\u001b[0;32m   1659\u001b[0m \u001b[38;5;66;03m# Step 1: Deploy to get the UDF\u001b[39;00m\n\u001b[1;32m-> 1660\u001b[0m deployment_info \u001b[38;5;241m=\u001b[39m \u001b[43mmodel_api\u001b[49m\u001b[38;5;241;43m.\u001b[39;49m\u001b[43mdeploy\u001b[49m\u001b[43m(\u001b[49m\n\u001b[0;32m   1661\u001b[0m \u001b[43m    \u001b[49m\u001b[43msession\u001b[49m\u001b[38;5;241;43m=\u001b[39;49m\u001b[38;5;28;43mself\u001b[39;49m\u001b[38;5;241;43m.\u001b[39;49m\u001b[43m_session\u001b[49m\u001b[43m,\u001b[49m\n\u001b[0;32m   1662\u001b[0m \u001b[43m    \u001b[49m\u001b[43mname\u001b[49m\u001b[38;5;241;43m=\u001b[39;49m\u001b[38;5;28;43mself\u001b[39;49m\u001b[38;5;241;43m.\u001b[39;49m\u001b[43m_fully_qualified_deployment_name\u001b[49m\u001b[43m(\u001b[49m\u001b[43mdeployment_name\u001b[49m\u001b[43m)\u001b[49m\u001b[43m,\u001b[49m\n\u001b[0;32m   1663\u001b[0m \u001b[43m    \u001b[49m\u001b[43mplatform\u001b[49m\u001b[38;5;241;43m=\u001b[39;49m\u001b[43mplatform\u001b[49m\u001b[43m,\u001b[49m\n\u001b[0;32m   1664\u001b[0m \u001b[43m    \u001b[49m\u001b[43mtarget_method\u001b[49m\u001b[38;5;241;43m=\u001b[39;49m\u001b[43mtarget_method\u001b[49m\u001b[43m,\u001b[49m\n\u001b[0;32m   1665\u001b[0m \u001b[43m    \u001b[49m\u001b[43mstage_path\u001b[49m\u001b[38;5;241;43m=\u001b[39;49m\u001b[43mremote_model_path\u001b[49m\u001b[43m,\u001b[49m\n\u001b[0;32m   1666\u001b[0m \u001b[43m    \u001b[49m\u001b[43mdeployment_stage_path\u001b[49m\u001b[38;5;241;43m=\u001b[39;49m\u001b[43mdeployment_stage_path\u001b[49m\u001b[43m,\u001b[49m\n\u001b[0;32m   1667\u001b[0m \u001b[43m    \u001b[49m\u001b[43mmodel_id\u001b[49m\u001b[38;5;241;43m=\u001b[39;49m\u001b[43mmodel_id\u001b[49m\u001b[43m,\u001b[49m\n\u001b[0;32m   1668\u001b[0m \u001b[43m    \u001b[49m\u001b[43moptions\u001b[49m\u001b[38;5;241;43m=\u001b[39;49m\u001b[43moptions\u001b[49m\u001b[43m,\u001b[49m\n\u001b[0;32m   1669\u001b[0m \u001b[43m\u001b[49m\u001b[43m)\u001b[49m\n\u001b[0;32m   1671\u001b[0m \u001b[38;5;66;03m# Step 2: Record the deployment\u001b[39;00m\n\u001b[0;32m   1672\u001b[0m \n\u001b[0;32m   1673\u001b[0m \u001b[38;5;66;03m# Assert to convince mypy.\u001b[39;00m\n",
      "File \u001b[1;32m~\\anaconda3\\envs\\python310\\lib\\site-packages\\snowflake\\ml\\model\\_api.py:376\u001b[0m, in \u001b[0;36mdeploy\u001b[1;34m(session, name, platform, stage_path, target_method, deployment_stage_path, model_id, options)\u001b[0m\n\u001b[0;32m    375\u001b[0m \u001b[38;5;28;01mif\u001b[39;00m platform \u001b[38;5;241m==\u001b[39m deploy_platforms\u001b[38;5;241m.\u001b[39mTargetPlatform\u001b[38;5;241m.\u001b[39mWAREHOUSE:\n\u001b[1;32m--> 376\u001b[0m     warehouse_deploy\u001b[38;5;241m.\u001b[39m_deploy_to_warehouse(\n\u001b[0;32m    377\u001b[0m         session\u001b[38;5;241m=\u001b[39msession,\n\u001b[0;32m    378\u001b[0m         model_stage_file_path\u001b[38;5;241m=\u001b[39mm\u001b[38;5;241m.\u001b[39mmodel_stage_path,\n\u001b[0;32m    379\u001b[0m         model_meta\u001b[38;5;241m=\u001b[39mm\u001b[38;5;241m.\u001b[39mpackager\u001b[38;5;241m.\u001b[39mmeta,\n\u001b[0;32m    380\u001b[0m         udf_name\u001b[38;5;241m=\u001b[39mname,\n\u001b[0;32m    381\u001b[0m         target_method\u001b[38;5;241m=\u001b[39mtarget_method,\n\u001b[0;32m    382\u001b[0m         \u001b[38;5;241m*\u001b[39m\u001b[38;5;241m*\u001b[39moptions,\n\u001b[0;32m    383\u001b[0m     )\n\u001b[0;32m    385\u001b[0m \u001b[38;5;28;01melif\u001b[39;00m platform \u001b[38;5;241m==\u001b[39m deploy_platforms\u001b[38;5;241m.\u001b[39mTargetPlatform\u001b[38;5;241m.\u001b[39mSNOWPARK_CONTAINER_SERVICES:\n",
      "File \u001b[1;32m~\\anaconda3\\envs\\python310\\lib\\site-packages\\snowflake\\ml\\model\\_deploy_client\\warehouse\\deploy.py:68\u001b[0m, in \u001b[0;36m_deploy_to_warehouse\u001b[1;34m(session, model_stage_file_path, model_meta, udf_name, target_method, **kwargs)\u001b[0m\n\u001b[0;32m     63\u001b[0m     \u001b[38;5;28;01mraise\u001b[39;00m snowml_exceptions\u001b[38;5;241m.\u001b[39mSnowflakeMLException(\n\u001b[0;32m     64\u001b[0m         error_code\u001b[38;5;241m=\u001b[39merror_codes\u001b[38;5;241m.\u001b[39mINVALID_ARGUMENT,\n\u001b[0;32m     65\u001b[0m         original_exception\u001b[38;5;241m=\u001b[39m\u001b[38;5;167;01mValueError\u001b[39;00m(\u001b[38;5;124mf\u001b[39m\u001b[38;5;124m\"\u001b[39m\u001b[38;5;124mTarget method \u001b[39m\u001b[38;5;132;01m{\u001b[39;00mtarget_method\u001b[38;5;132;01m}\u001b[39;00m\u001b[38;5;124m does not exist in model.\u001b[39m\u001b[38;5;124m\"\u001b[39m),\n\u001b[0;32m     66\u001b[0m     )\n\u001b[1;32m---> 68\u001b[0m final_packages \u001b[38;5;241m=\u001b[39m \u001b[43m_get_model_final_packages\u001b[49m\u001b[43m(\u001b[49m\u001b[43mmodel_meta\u001b[49m\u001b[43m,\u001b[49m\u001b[43m \u001b[49m\u001b[43msession\u001b[49m\u001b[43m,\u001b[49m\u001b[43m \u001b[49m\u001b[43mrelax_version\u001b[49m\u001b[38;5;241;43m=\u001b[39;49m\u001b[43mrelax_version\u001b[49m\u001b[43m)\u001b[49m\n\u001b[0;32m     70\u001b[0m stage_location \u001b[38;5;241m=\u001b[39m kwargs\u001b[38;5;241m.\u001b[39mget(\u001b[38;5;124m\"\u001b[39m\u001b[38;5;124mpermanent_udf_stage_location\u001b[39m\u001b[38;5;124m\"\u001b[39m, \u001b[38;5;28;01mNone\u001b[39;00m)\n",
      "File \u001b[1;32m~\\anaconda3\\envs\\python310\\lib\\site-packages\\snowflake\\ml\\model\\_deploy_client\\warehouse\\deploy.py:187\u001b[0m, in \u001b[0;36m_get_model_final_packages\u001b[1;34m(meta, session, relax_version)\u001b[0m\n\u001b[0;32m    186\u001b[0m     required_package_str \u001b[38;5;241m=\u001b[39m \u001b[38;5;124m\"\u001b[39m\u001b[38;5;124m \u001b[39m\u001b[38;5;124m\"\u001b[39m\u001b[38;5;241m.\u001b[39mjoin(\u001b[38;5;28mmap\u001b[39m(\u001b[38;5;28;01mlambda\u001b[39;00m x: \u001b[38;5;124mf\u001b[39m\u001b[38;5;124m'\u001b[39m\u001b[38;5;124m\"\u001b[39m\u001b[38;5;132;01m{\u001b[39;00mx\u001b[38;5;132;01m}\u001b[39;00m\u001b[38;5;124m\"\u001b[39m\u001b[38;5;124m'\u001b[39m, required_packages))\n\u001b[1;32m--> 187\u001b[0m     \u001b[38;5;28;01mraise\u001b[39;00m snowml_exceptions\u001b[38;5;241m.\u001b[39mSnowflakeMLException(\n\u001b[0;32m    188\u001b[0m         error_code\u001b[38;5;241m=\u001b[39merror_codes\u001b[38;5;241m.\u001b[39mDEPENDENCY_VERSION_ERROR,\n\u001b[0;32m    189\u001b[0m         original_exception\u001b[38;5;241m=\u001b[39m\u001b[38;5;167;01mRuntimeError\u001b[39;00m(\n\u001b[0;32m    190\u001b[0m             textwrap\u001b[38;5;241m.\u001b[39mdedent(\n\u001b[0;32m    191\u001b[0m                 \u001b[38;5;124mf\u001b[39m\u001b[38;5;124m\"\"\"\u001b[39m\n\u001b[0;32m    192\u001b[0m \u001b[38;5;124m            The model\u001b[39m\u001b[38;5;124m'\u001b[39m\u001b[38;5;124ms dependencies are not available in Snowflake Anaconda Channel. \u001b[39m\u001b[38;5;132;01m{\u001b[39;00mrelax_version_info_str\u001b[38;5;132;01m}\u001b[39;00m\n\u001b[0;32m    193\u001b[0m \u001b[38;5;124m            Required packages are: \u001b[39m\u001b[38;5;132;01m{\u001b[39;00mrequired_package_str\u001b[38;5;132;01m}\u001b[39;00m\n\u001b[0;32m    194\u001b[0m \u001b[38;5;124m            Required Python version is: \u001b[39m\u001b[38;5;132;01m{\u001b[39;00mmeta\u001b[38;5;241m.\u001b[39menv\u001b[38;5;241m.\u001b[39mpython_version\u001b[38;5;132;01m}\u001b[39;00m\n\u001b[0;32m    195\u001b[0m \u001b[38;5;124m            Packages that are not available are: \u001b[39m\u001b[38;5;132;01m{\u001b[39;00munavailable_packages\u001b[38;5;132;01m}\u001b[39;00m\n\u001b[0;32m    196\u001b[0m \u001b[38;5;124m            Packages that cannot meet your requirements are: \u001b[39m\u001b[38;5;132;01m{\u001b[39;00mno_version_available_packages\u001b[38;5;132;01m}\u001b[39;00m\n\u001b[0;32m    197\u001b[0m \u001b[38;5;124m            Package availability information of those you requested is: \u001b[39m\u001b[38;5;132;01m{\u001b[39;00mpackage_availability_dict\u001b[38;5;132;01m}\u001b[39;00m\n\u001b[0;32m    198\u001b[0m \u001b[38;5;124m            \u001b[39m\u001b[38;5;124m\"\"\"\u001b[39m\n\u001b[0;32m    199\u001b[0m             ),\n\u001b[0;32m    200\u001b[0m         ),\n\u001b[0;32m    201\u001b[0m     )\n\u001b[0;32m    202\u001b[0m \u001b[38;5;28;01mreturn\u001b[39;00m \u001b[38;5;28mlist\u001b[39m(\u001b[38;5;28msorted\u001b[39m(\u001b[38;5;28mmap\u001b[39m(\u001b[38;5;28mstr\u001b[39m, required_packages)))\n",
      "\u001b[1;31mSnowflakeMLException\u001b[0m: RuntimeError('(2100) \\nThe model\\'s dependencies are not available in Snowflake Anaconda Channel. \\nRequired packages are: \"absl-py<2,>=1.4\" \"anyio<4,>=3.6\" \"cloudpickle<3,>=2.2\" \"numpy<2,>=1.24\" \"packaging<24,>=23.1\" \"pandas<2,>=1.5\" \"pyyaml<7,>=6.0\" \"snowflake-snowpark-python<2,>=1.14\" \"typing-extensions<5,>=4.11\" \"scikit-learn<2,>=1.3\" \"xgboost<2,>=1.7\"\\nRequired Python version is: 3.10\\nPackages that are not available are: []\\nPackages that cannot meet your requirements are: [\\'anyio\\', \\'snowflake-snowpark-python\\', \\'typing-extensions\\']\\nPackage availability information of those you requested is: {\\'absl-py\\': [<Version(\\'1.4.0\\')>], \\'anyio\\': [], \\'cloudpickle\\': [<Version(\\'2.2.1\\')>], \\'numpy\\': [<Version(\\'1.24.3\\')>, <Version(\\'1.25.0\\')>, <Version(\\'1.25.2\\')>, <Version(\\'1.26.0\\')>, <Version(\\'1.26.2\\')>, <Version(\\'1.26.3\\')>, <Version(\\'1.26.4\\')>], \\'packaging\\': [<Version(\\'23.1\\')>, <Version(\\'23.2\\')>], \\'pandas\\': [<Version(\\'1.5.1\\')>, <Version(\\'1.5.2\\')>, <Version(\\'1.5.3\\')>], \\'pyyaml\\': [<Version(\\'6.0\\')>, <Version(\\'6.0.1\\')>], \\'snowflake-snowpark-python\\': [], \\'typing-extensions\\': [], \\'scikit-learn\\': [<Version(\\'1.3.0\\')>], \\'xgboost\\': [<Version(\\'1.7.3\\')>]}\\n')",
      "\nThe above exception was the direct cause of the following exception:\n",
      "\u001b[1;31mRuntimeError\u001b[0m                              Traceback (most recent call last)",
      "Cell \u001b[1;32mIn[26], line 4\u001b[0m\n\u001b[0;32m      1\u001b[0m \u001b[38;5;66;03m#deploying a model from model registry\u001b[39;00m\n\u001b[0;32m      2\u001b[0m model_deployment_name \u001b[38;5;241m=\u001b[39m model_name \u001b[38;5;241m+\u001b[39m \u001b[38;5;124mf\u001b[39m\u001b[38;5;124m\"\u001b[39m\u001b[38;5;132;01m{\u001b[39;00mmodel_version\u001b[38;5;132;01m}\u001b[39;00m\u001b[38;5;124m\"\u001b[39m \u001b[38;5;241m+\u001b[39m \u001b[38;5;124m\"\u001b[39m\u001b[38;5;124m_UDF\u001b[39m\u001b[38;5;124m\"\u001b[39m\n\u001b[1;32m----> 4\u001b[0m \u001b[43mregistry\u001b[49m\u001b[38;5;241;43m.\u001b[39;49m\u001b[43mdeploy\u001b[49m\u001b[43m(\u001b[49m\u001b[43mmodel_name\u001b[49m\u001b[38;5;241;43m=\u001b[39;49m\u001b[43mmodel_name\u001b[49m\u001b[43m,\u001b[49m\n\u001b[0;32m      5\u001b[0m \u001b[43m                \u001b[49m\u001b[43mmodel_version\u001b[49m\u001b[38;5;241;43m=\u001b[39;49m\u001b[43mmodel_version\u001b[49m\u001b[43m,\u001b[49m\n\u001b[0;32m      6\u001b[0m \u001b[43m                \u001b[49m\u001b[43mdeployment_name\u001b[49m\u001b[38;5;241;43m=\u001b[39;49m\u001b[43mmodel_deployment_name\u001b[49m\u001b[43m,\u001b[49m\n\u001b[0;32m      7\u001b[0m \u001b[43m                \u001b[49m\u001b[43mtarget_method\u001b[49m\u001b[38;5;241;43m=\u001b[39;49m\u001b[38;5;124;43m\"\u001b[39;49m\u001b[38;5;124;43mpredict\u001b[39;49m\u001b[38;5;124;43m\"\u001b[39;49m\u001b[43m,\u001b[49m\n\u001b[0;32m      8\u001b[0m \u001b[43m                \u001b[49m\u001b[43mpermanent\u001b[49m\u001b[38;5;241;43m=\u001b[39;49m\u001b[38;5;28;43;01mTrue\u001b[39;49;00m\u001b[43m,\u001b[49m\n\u001b[0;32m      9\u001b[0m \u001b[43m                \u001b[49m\u001b[43moptions\u001b[49m\u001b[38;5;241;43m=\u001b[39;49m\u001b[43m{\u001b[49m\u001b[38;5;124;43m\"\u001b[39;49m\u001b[38;5;124;43mrelax_version\u001b[39;49m\u001b[38;5;124;43m\"\u001b[39;49m\u001b[43m:\u001b[49m\u001b[43m \u001b[49m\u001b[38;5;28;43;01mTrue\u001b[39;49;00m\u001b[43m}\u001b[49m\u001b[43m)\u001b[49m\n",
      "File \u001b[1;32m~\\anaconda3\\envs\\python310\\lib\\site-packages\\snowflake\\ml\\_internal\\telemetry.py:389\u001b[0m, in \u001b[0;36msend_api_usage_telemetry.<locals>.decorator.<locals>.wrap\u001b[1;34m(*args, **kwargs)\u001b[0m\n\u001b[0;32m    387\u001b[0m         \u001b[38;5;28;01mraise\u001b[39;00m me\u001b[38;5;241m.\u001b[39moriginal_exception \u001b[38;5;28;01mfrom\u001b[39;00m \u001b[38;5;28;01mNone\u001b[39;00m\n\u001b[0;32m    388\u001b[0m     \u001b[38;5;28;01melse\u001b[39;00m:\n\u001b[1;32m--> 389\u001b[0m         \u001b[38;5;28;01mraise\u001b[39;00m me\u001b[38;5;241m.\u001b[39moriginal_exception \u001b[38;5;28;01mfrom\u001b[39;00m \u001b[38;5;21;01me\u001b[39;00m\n\u001b[0;32m    390\u001b[0m \u001b[38;5;28;01melse\u001b[39;00m:\n\u001b[0;32m    391\u001b[0m     \u001b[38;5;28;01mreturn\u001b[39;00m update_stmt_params_if_snowpark_df(res, statement_params)\n",
      "\u001b[1;31mRuntimeError\u001b[0m: (2100) \nThe model's dependencies are not available in Snowflake Anaconda Channel. \nRequired packages are: \"absl-py<2,>=1.4\" \"anyio<4,>=3.6\" \"cloudpickle<3,>=2.2\" \"numpy<2,>=1.24\" \"packaging<24,>=23.1\" \"pandas<2,>=1.5\" \"pyyaml<7,>=6.0\" \"snowflake-snowpark-python<2,>=1.14\" \"typing-extensions<5,>=4.11\" \"scikit-learn<2,>=1.3\" \"xgboost<2,>=1.7\"\nRequired Python version is: 3.10\nPackages that are not available are: []\nPackages that cannot meet your requirements are: ['anyio', 'snowflake-snowpark-python', 'typing-extensions']\nPackage availability information of those you requested is: {'absl-py': [<Version('1.4.0')>], 'anyio': [], 'cloudpickle': [<Version('2.2.1')>], 'numpy': [<Version('1.24.3')>, <Version('1.25.0')>, <Version('1.25.2')>, <Version('1.26.0')>, <Version('1.26.2')>, <Version('1.26.3')>, <Version('1.26.4')>], 'packaging': [<Version('23.1')>, <Version('23.2')>], 'pandas': [<Version('1.5.1')>, <Version('1.5.2')>, <Version('1.5.3')>], 'pyyaml': [<Version('6.0')>, <Version('6.0.1')>], 'snowflake-snowpark-python': [], 'typing-extensions': [], 'scikit-learn': [<Version('1.3.0')>], 'xgboost': [<Version('1.7.3')>]}\n"
     ]
    }
   ],
   "source": [
    "#deploying a model from model registry\n",
    "model_deployment_name = model_name + f\"{model_version}\" + \"_UDF\"\n",
    "\n",
    "registry.deploy(model_name=model_name,\n",
    "                model_version=model_version,\n",
    "                deployment_name=model_deployment_name,\n",
    "                target_method=\"predict\",\n",
    "                permanent=True,\n",
    "                options={\"relax_version\": True})"
   ]
  },
  {
   "cell_type": "code",
   "execution_count": 27,
   "id": "0871a6ee",
   "metadata": {
    "id": "248f05d3-6d56-42ad-82c0-bb436ee6d035",
    "outputId": "d29ddfd1-35c7-44ab-eb2d-1373721b3fb5"
   },
   "outputs": [
    {
     "name": "stderr",
     "output_type": "stream",
     "text": [
      "WARNING:snowflake.snowpark:ModelRegistry.list_deployments() is in private preview since 1.0.1. Do not use it in production. \n"
     ]
    },
    {
     "data": {
      "text/html": [
       "<div>\n",
       "<style scoped>\n",
       "    .dataframe tbody tr th:only-of-type {\n",
       "        vertical-align: middle;\n",
       "    }\n",
       "\n",
       "    .dataframe tbody tr th {\n",
       "        vertical-align: top;\n",
       "    }\n",
       "\n",
       "    .dataframe thead th {\n",
       "        text-align: right;\n",
       "    }\n",
       "</style>\n",
       "<table border=\"1\" class=\"dataframe\">\n",
       "  <thead>\n",
       "    <tr style=\"text-align: right;\">\n",
       "      <th></th>\n",
       "      <th>MODEL_NAME</th>\n",
       "      <th>MODEL_VERSION</th>\n",
       "      <th>DEPLOYMENT_NAME</th>\n",
       "      <th>CREATION_TIME</th>\n",
       "      <th>TARGET_METHOD</th>\n",
       "      <th>TARGET_PLATFORM</th>\n",
       "      <th>SIGNATURE</th>\n",
       "      <th>OPTIONS</th>\n",
       "      <th>STAGE_PATH</th>\n",
       "      <th>ROLE</th>\n",
       "    </tr>\n",
       "  </thead>\n",
       "  <tbody>\n",
       "  </tbody>\n",
       "</table>\n",
       "</div>"
      ],
      "text/plain": [
       "Empty DataFrame\n",
       "Columns: [MODEL_NAME, MODEL_VERSION, DEPLOYMENT_NAME, CREATION_TIME, TARGET_METHOD, TARGET_PLATFORM, SIGNATURE, OPTIONS, STAGE_PATH, ROLE]\n",
       "Index: []"
      ]
     },
     "execution_count": 27,
     "metadata": {},
     "output_type": "execute_result"
    }
   ],
   "source": [
    "#list all deployments for a model\n",
    "registry.list_deployments(model_name, model_version).to_pandas()"
   ]
  },
  {
   "cell_type": "code",
   "execution_count": 28,
   "id": "e68c3c1f",
   "metadata": {
    "id": "13b1f836-21f5-4ac7-8b09-d4be6ded7ed7",
    "outputId": "d3c12b9b-82a7-4ac6-f76e-d9e4065a5331"
   },
   "outputs": [
    {
     "name": "stderr",
     "output_type": "stream",
     "text": [
      "WARNING:snowflake.snowpark:ModelReference.predict() is in private preview since 0.2.0. Do not use it in production. \n",
      "WARNING:snowflake.snowpark:ModelRegistry.get_deployment() is in private preview since 1.0.1. Do not use it in production. \n"
     ]
    },
    {
     "ename": "KeyError",
     "evalue": "\"(0000) 'Unable to find deployment named bike_model_xg_boost1_UDF in the model bike_model_xg_boost/1.'\"",
     "output_type": "error",
     "traceback": [
      "\u001b[1;31m---------------------------------------------------------------------------\u001b[0m",
      "\u001b[1;31mKeyError\u001b[0m                                  Traceback (most recent call last)",
      "File \u001b[1;32m~\\anaconda3\\envs\\python310\\lib\\site-packages\\snowflake\\ml\\_internal\\telemetry.py:367\u001b[0m, in \u001b[0;36msend_api_usage_telemetry.<locals>.decorator.<locals>.wrap\u001b[1;34m(*args, **kwargs)\u001b[0m\n\u001b[0;32m    366\u001b[0m \u001b[38;5;28;01mtry\u001b[39;00m:\n\u001b[1;32m--> 367\u001b[0m     res \u001b[38;5;241m=\u001b[39m func(\u001b[38;5;241m*\u001b[39margs, \u001b[38;5;241m*\u001b[39m\u001b[38;5;241m*\u001b[39mkwargs)\n\u001b[0;32m    368\u001b[0m \u001b[38;5;28;01mexcept\u001b[39;00m \u001b[38;5;167;01mException\u001b[39;00m \u001b[38;5;28;01mas\u001b[39;00m e:\n",
      "File \u001b[1;32m~\\anaconda3\\envs\\python310\\lib\\site-packages\\snowflake\\snowpark\\_internal\\utils.py:661\u001b[0m, in \u001b[0;36mfunc_decorator.<locals>.wrapper.<locals>.func_call_wrapper\u001b[1;34m(*args, **kwargs)\u001b[0m\n\u001b[0;32m    660\u001b[0m warning(func\u001b[38;5;241m.\u001b[39m\u001b[38;5;18m__qualname__\u001b[39m, warning_text)\n\u001b[1;32m--> 661\u001b[0m \u001b[38;5;28;01mreturn\u001b[39;00m func(\u001b[38;5;241m*\u001b[39margs, \u001b[38;5;241m*\u001b[39m\u001b[38;5;241m*\u001b[39mkwargs)\n",
      "File \u001b[1;32m~\\anaconda3\\envs\\python310\\lib\\site-packages\\snowflake\\ml\\registry\\model_registry.py:1780\u001b[0m, in \u001b[0;36mModelRegistry.get_deployment\u001b[1;34m(self, model_name, model_version, deployment_name)\u001b[0m\n\u001b[0;32m   1779\u001b[0m \u001b[38;5;28;01mif\u001b[39;00m deployment\u001b[38;5;241m.\u001b[39mcount() \u001b[38;5;241m==\u001b[39m \u001b[38;5;241m0\u001b[39m:\n\u001b[1;32m-> 1780\u001b[0m     \u001b[38;5;28;01mraise\u001b[39;00m \u001b[38;5;167;01mKeyError\u001b[39;00m(\n\u001b[0;32m   1781\u001b[0m         \u001b[38;5;124mf\u001b[39m\u001b[38;5;124m\"\u001b[39m\u001b[38;5;124mUnable to find deployment named \u001b[39m\u001b[38;5;132;01m{\u001b[39;00mdeployment_name\u001b[38;5;132;01m}\u001b[39;00m\u001b[38;5;124m in the model \u001b[39m\u001b[38;5;132;01m{\u001b[39;00mmodel_name\u001b[38;5;132;01m}\u001b[39;00m\u001b[38;5;124m/\u001b[39m\u001b[38;5;132;01m{\u001b[39;00mmodel_version\u001b[38;5;132;01m}\u001b[39;00m\u001b[38;5;124m.\u001b[39m\u001b[38;5;124m\"\u001b[39m\n\u001b[0;32m   1782\u001b[0m     )\n\u001b[0;32m   1783\u001b[0m \u001b[38;5;28;01mreturn\u001b[39;00m cast(snowpark\u001b[38;5;241m.\u001b[39mDataFrame, deployment)\n",
      "\u001b[1;31mKeyError\u001b[0m: 'Unable to find deployment named bike_model_xg_boost1_UDF in the model bike_model_xg_boost/1.'",
      "\nThe above exception was the direct cause of the following exception:\n",
      "\u001b[1;31mKeyError\u001b[0m                                  Traceback (most recent call last)",
      "Cell \u001b[1;32mIn[28], line 2\u001b[0m\n\u001b[0;32m      1\u001b[0m model_ref \u001b[38;5;241m=\u001b[39m model_registry\u001b[38;5;241m.\u001b[39mModelReference(registry\u001b[38;5;241m=\u001b[39mregistry, model_name\u001b[38;5;241m=\u001b[39mmodel_name, model_version\u001b[38;5;241m=\u001b[39mmodel_version)\n\u001b[1;32m----> 2\u001b[0m result_sdf \u001b[38;5;241m=\u001b[39m \u001b[43mmodel_ref\u001b[49m\u001b[38;5;241;43m.\u001b[39;49m\u001b[43mpredict\u001b[49m\u001b[43m(\u001b[49m\u001b[43mdeployment_name\u001b[49m\u001b[38;5;241;43m=\u001b[39;49m\u001b[43mmodel_deployment_name\u001b[49m\u001b[43m,\u001b[49m\u001b[43m \u001b[49m\u001b[43mdata\u001b[49m\u001b[38;5;241;43m=\u001b[39;49m\u001b[43mtest_df\u001b[49m\u001b[43m)\u001b[49m\n\u001b[0;32m      3\u001b[0m result_sdf\u001b[38;5;241m.\u001b[39mshow()\n",
      "File \u001b[1;32m~\\anaconda3\\envs\\python310\\lib\\site-packages\\snowflake\\ml\\_internal\\telemetry.py:372\u001b[0m, in \u001b[0;36msend_api_usage_telemetry.<locals>.decorator.<locals>.wrap\u001b[1;34m(*args, **kwargs)\u001b[0m\n\u001b[0;32m    369\u001b[0m \u001b[38;5;28;01mif\u001b[39;00m \u001b[38;5;129;01mnot\u001b[39;00m \u001b[38;5;28misinstance\u001b[39m(e, snowml_exceptions\u001b[38;5;241m.\u001b[39mSnowflakeMLException):\n\u001b[0;32m    370\u001b[0m     \u001b[38;5;66;03m# already handled via a nested decorated function\u001b[39;00m\n\u001b[0;32m    371\u001b[0m     \u001b[38;5;28;01mif\u001b[39;00m \u001b[38;5;28mhasattr\u001b[39m(e, \u001b[38;5;124m\"\u001b[39m\u001b[38;5;124m_snowflake_ml_handled\u001b[39m\u001b[38;5;124m\"\u001b[39m) \u001b[38;5;129;01mand\u001b[39;00m e\u001b[38;5;241m.\u001b[39m_snowflake_ml_handled:\n\u001b[1;32m--> 372\u001b[0m         \u001b[38;5;28;01mraise\u001b[39;00m e\n\u001b[0;32m    373\u001b[0m     \u001b[38;5;28;01mif\u001b[39;00m \u001b[38;5;28misinstance\u001b[39m(e, snowpark_exceptions\u001b[38;5;241m.\u001b[39mSnowparkClientException):\n\u001b[0;32m    374\u001b[0m         me \u001b[38;5;241m=\u001b[39m snowml_exceptions\u001b[38;5;241m.\u001b[39mSnowflakeMLException(\n\u001b[0;32m    375\u001b[0m             error_code\u001b[38;5;241m=\u001b[39merror_codes\u001b[38;5;241m.\u001b[39mINTERNAL_SNOWPARK_ERROR, original_exception\u001b[38;5;241m=\u001b[39me\n\u001b[0;32m    376\u001b[0m         )\n",
      "File \u001b[1;32m~\\anaconda3\\envs\\python310\\lib\\site-packages\\snowflake\\ml\\_internal\\telemetry.py:367\u001b[0m, in \u001b[0;36msend_api_usage_telemetry.<locals>.decorator.<locals>.wrap\u001b[1;34m(*args, **kwargs)\u001b[0m\n\u001b[0;32m    358\u001b[0m telemetry_args \u001b[38;5;241m=\u001b[39m \u001b[38;5;28mdict\u001b[39m(\n\u001b[0;32m    359\u001b[0m     func_name\u001b[38;5;241m=\u001b[39m_get_full_func_name(func),\n\u001b[0;32m    360\u001b[0m     function_category\u001b[38;5;241m=\u001b[39mTelemetryField\u001b[38;5;241m.\u001b[39mFUNC_CAT_USAGE\u001b[38;5;241m.\u001b[39mvalue,\n\u001b[1;32m   (...)\u001b[0m\n\u001b[0;32m    364\u001b[0m     custom_tags\u001b[38;5;241m=\u001b[39mcustom_tags,\n\u001b[0;32m    365\u001b[0m )\n\u001b[0;32m    366\u001b[0m \u001b[38;5;28;01mtry\u001b[39;00m:\n\u001b[1;32m--> 367\u001b[0m     res \u001b[38;5;241m=\u001b[39m func(\u001b[38;5;241m*\u001b[39margs, \u001b[38;5;241m*\u001b[39m\u001b[38;5;241m*\u001b[39mkwargs)\n\u001b[0;32m    368\u001b[0m \u001b[38;5;28;01mexcept\u001b[39;00m \u001b[38;5;167;01mException\u001b[39;00m \u001b[38;5;28;01mas\u001b[39;00m e:\n\u001b[0;32m    369\u001b[0m     \u001b[38;5;28;01mif\u001b[39;00m \u001b[38;5;129;01mnot\u001b[39;00m \u001b[38;5;28misinstance\u001b[39m(e, snowml_exceptions\u001b[38;5;241m.\u001b[39mSnowflakeMLException):\n\u001b[0;32m    370\u001b[0m         \u001b[38;5;66;03m# already handled via a nested decorated function\u001b[39;00m\n",
      "File \u001b[1;32m~\\anaconda3\\envs\\python310\\lib\\site-packages\\snowflake\\snowpark\\_internal\\utils.py:661\u001b[0m, in \u001b[0;36mfunc_decorator.<locals>.wrapper.<locals>.func_call_wrapper\u001b[1;34m(*args, **kwargs)\u001b[0m\n\u001b[0;32m    658\u001b[0m \u001b[38;5;129m@functools\u001b[39m\u001b[38;5;241m.\u001b[39mwraps(func)\n\u001b[0;32m    659\u001b[0m \u001b[38;5;28;01mdef\u001b[39;00m \u001b[38;5;21mfunc_call_wrapper\u001b[39m(\u001b[38;5;241m*\u001b[39margs, \u001b[38;5;241m*\u001b[39m\u001b[38;5;241m*\u001b[39mkwargs):\n\u001b[0;32m    660\u001b[0m     warning(func\u001b[38;5;241m.\u001b[39m\u001b[38;5;18m__qualname__\u001b[39m, warning_text)\n\u001b[1;32m--> 661\u001b[0m     \u001b[38;5;28;01mreturn\u001b[39;00m func(\u001b[38;5;241m*\u001b[39margs, \u001b[38;5;241m*\u001b[39m\u001b[38;5;241m*\u001b[39mkwargs)\n",
      "File \u001b[1;32m~\\anaconda3\\envs\\python310\\lib\\site-packages\\snowflake\\ml\\registry\\model_registry.py:2104\u001b[0m, in \u001b[0;36mModelReference.predict\u001b[1;34m(self, deployment_name, data)\u001b[0m\n\u001b[0;32m   2096\u001b[0m     \u001b[38;5;28;01mreturn\u001b[39;00m model_api\u001b[38;5;241m.\u001b[39mpredict(\n\u001b[0;32m   2097\u001b[0m         session\u001b[38;5;241m=\u001b[39m\u001b[38;5;28mself\u001b[39m\u001b[38;5;241m.\u001b[39m_registry\u001b[38;5;241m.\u001b[39m_session,\n\u001b[0;32m   2098\u001b[0m         deployment\u001b[38;5;241m=\u001b[39mdi,\n\u001b[0;32m   2099\u001b[0m         X\u001b[38;5;241m=\u001b[39mdata,\n\u001b[0;32m   2100\u001b[0m         statement_params\u001b[38;5;241m=\u001b[39mstatement_params,\n\u001b[0;32m   2101\u001b[0m     )\n\u001b[0;32m   2103\u001b[0m \u001b[38;5;66;03m# Mypy enforce to refer to the registry for calling the function\u001b[39;00m\n\u001b[1;32m-> 2104\u001b[0m deployment_collect \u001b[38;5;241m=\u001b[39m \u001b[38;5;28;43mself\u001b[39;49m\u001b[38;5;241;43m.\u001b[39;49m\u001b[43m_registry\u001b[49m\u001b[38;5;241;43m.\u001b[39;49m\u001b[43mget_deployment\u001b[49m\u001b[43m(\u001b[49m\n\u001b[0;32m   2105\u001b[0m \u001b[43m    \u001b[49m\u001b[38;5;28;43mself\u001b[39;49m\u001b[38;5;241;43m.\u001b[39;49m\u001b[43m_model_name\u001b[49m\u001b[43m,\u001b[49m\u001b[43m \u001b[49m\u001b[38;5;28;43mself\u001b[39;49m\u001b[38;5;241;43m.\u001b[39;49m\u001b[43m_model_version\u001b[49m\u001b[43m,\u001b[49m\u001b[43m \u001b[49m\u001b[43mdeployment_name\u001b[49m\u001b[38;5;241;43m=\u001b[39;49m\u001b[43mdeployment_name\u001b[49m\n\u001b[0;32m   2106\u001b[0m \u001b[43m\u001b[49m\u001b[43m)\u001b[49m\u001b[38;5;241m.\u001b[39mcollect(statement_params\u001b[38;5;241m=\u001b[39mstatement_params)\n\u001b[0;32m   2107\u001b[0m \u001b[38;5;28;01mif\u001b[39;00m \u001b[38;5;129;01mnot\u001b[39;00m deployment_collect:\n\u001b[0;32m   2108\u001b[0m     \u001b[38;5;28;01mraise\u001b[39;00m \u001b[38;5;167;01mValueError\u001b[39;00m(\u001b[38;5;124mf\u001b[39m\u001b[38;5;124m\"\u001b[39m\u001b[38;5;124mThe deployment with name \u001b[39m\u001b[38;5;132;01m{\u001b[39;00mdeployment_name\u001b[38;5;132;01m}\u001b[39;00m\u001b[38;5;124m haven\u001b[39m\u001b[38;5;124m'\u001b[39m\u001b[38;5;124mt been deployed\u001b[39m\u001b[38;5;124m\"\u001b[39m)\n",
      "File \u001b[1;32m~\\anaconda3\\envs\\python310\\lib\\site-packages\\snowflake\\ml\\_internal\\telemetry.py:389\u001b[0m, in \u001b[0;36msend_api_usage_telemetry.<locals>.decorator.<locals>.wrap\u001b[1;34m(*args, **kwargs)\u001b[0m\n\u001b[0;32m    387\u001b[0m         \u001b[38;5;28;01mraise\u001b[39;00m me\u001b[38;5;241m.\u001b[39moriginal_exception \u001b[38;5;28;01mfrom\u001b[39;00m \u001b[38;5;28;01mNone\u001b[39;00m\n\u001b[0;32m    388\u001b[0m     \u001b[38;5;28;01melse\u001b[39;00m:\n\u001b[1;32m--> 389\u001b[0m         \u001b[38;5;28;01mraise\u001b[39;00m me\u001b[38;5;241m.\u001b[39moriginal_exception \u001b[38;5;28;01mfrom\u001b[39;00m \u001b[38;5;21;01me\u001b[39;00m\n\u001b[0;32m    390\u001b[0m \u001b[38;5;28;01melse\u001b[39;00m:\n\u001b[0;32m    391\u001b[0m     \u001b[38;5;28;01mreturn\u001b[39;00m update_stmt_params_if_snowpark_df(res, statement_params)\n",
      "\u001b[1;31mKeyError\u001b[0m: \"(0000) 'Unable to find deployment named bike_model_xg_boost1_UDF in the model bike_model_xg_boost/1.'\""
     ]
    }
   ],
   "source": [
    "model_ref = model_registry.ModelReference(registry=registry, model_name=model_name, model_version=model_version)\n",
    "result_sdf = model_ref.predict(deployment_name=model_deployment_name, data=test_df)\n",
    "result_sdf.show()"
   ]
  },
  {
   "cell_type": "markdown",
   "id": "25644ae4",
   "metadata": {},
   "source": [
    "### Delete Model From Deployment & Registry"
   ]
  },
  {
   "cell_type": "code",
   "execution_count": null,
   "id": "e0a8e8fa",
   "metadata": {
    "id": "a162d5be-9110-46fc-983e-c99d8209593c",
    "outputId": "17f514ac-ff87-4ce2-82b3-6ae17d16990c"
   },
   "outputs": [],
   "source": [
    "#delete deployment\n",
    "registry.delete_deployment(model_name=model_name,\n",
    "                model_version=model_version,\n",
    "                deployment_name=model_deployment_name)\n",
    "registry.list_deployments(model_name, model_version).to_pandas()"
   ]
  },
  {
   "cell_type": "code",
   "execution_count": null,
   "id": "d940dc70",
   "metadata": {
    "id": "139f5b47-3ccc-437c-9d88-671037578cd3",
    "outputId": "e3410f2e-87bb-4389-b4c0-9a2aa501f5dd",
    "tags": []
   },
   "outputs": [],
   "source": [
    "#delete model from registry\n",
    "registry.delete_model(model_name=model_name,\n",
    "                model_version=model_version)\n",
    "registry.list_models().to_pandas()"
   ]
  },
  {
   "cell_type": "code",
   "execution_count": null,
   "id": "924694f4-d3dc-4e88-82d1-c465b85ae10c",
   "metadata": {},
   "outputs": [],
   "source": []
  }
 ],
 "metadata": {
  "colab": {
   "provenance": []
  },
  "kernelspec": {
   "display_name": "Python 3 (ipykernel)",
   "language": "python",
   "name": "python3"
  },
  "language_info": {
   "codemirror_mode": {
    "name": "ipython",
    "version": 3
   },
   "file_extension": ".py",
   "mimetype": "text/x-python",
   "name": "python",
   "nbconvert_exporter": "python",
   "pygments_lexer": "ipython3",
   "version": "3.10.11"
  }
 },
 "nbformat": 4,
 "nbformat_minor": 5
}
